{
  "nbformat": 4,
  "nbformat_minor": 0,
  "metadata": {
    "colab": {
      "name": "Learning Google Machine Learning APIs",
      "version": "0.3.2",
      "provenance": []
    },
    "kernelspec": {
      "name": "python3",
      "display_name": "Python 3"
    }
  },
  "cells": [
    {
      "cell_type": "markdown",
      "metadata": {
        "id": "vsPEsgp0EMXC",
        "colab_type": "text"
      },
      "source": [
        "#<center> GOOGLE MACHINE LEARNING APIs</center>\n",
        "\n",
        "---\n",
        "\n",
        "---\n",
        "\n"
      ]
    },
    {
      "cell_type": "markdown",
      "metadata": {
        "id": "2_wgFJQ3GzBn",
        "colab_type": "text"
      },
      "source": [
        ">>>>>![alt text](https://tribwgnam.files.wordpress.com/2018/09/google07-27-18-gif.gif )"
      ]
    },
    {
      "cell_type": "markdown",
      "metadata": {
        "id": "0-oYTYj-FJFn",
        "colab_type": "text"
      },
      "source": [
        ">>>>>![alt text](https://image.slidesharecdn.com/curatingonlinecontentwithgooglemlapis-170614042418/95/curating-online-content-with-google-ml-api-9-638.jpg?cb=1497414419 )"
      ]
    },
    {
      "cell_type": "markdown",
      "metadata": {
        "id": "5JtmEzMXNP4c",
        "colab_type": "text"
      },
      "source": [
        "Special Thanks to: https://colab.research.google.com/drive/1hPH7skySCZR-ZMJ6TmYLN1ug6vbq2cpb for the inspiration"
      ]
    },
    {
      "cell_type": "markdown",
      "metadata": {
        "id": "u1V1G_HwGYja",
        "colab_type": "text"
      },
      "source": [
        "# *Introduction*"
      ]
    },
    {
      "cell_type": "markdown",
      "metadata": {
        "id": "ZNLKRKIfGeuL",
        "colab_type": "text"
      },
      "source": [
        "This project explores the following Machine Learning python APIs provided by Google:\n",
        "\n",
        "\n",
        "1.   Translation API.\n",
        "2.   Cloud Vision API.\n",
        "3.   Natural Language API.\n",
        "4.   Dialogflow API.\n",
        "5.   Cloud Talent Solutions API.\n",
        "6.   Cloud Speech API.\n",
        "\n",
        "\n",
        "\n"
      ]
    },
    {
      "cell_type": "markdown",
      "metadata": {
        "id": "MHXtCJGBFIDS",
        "colab_type": "text"
      },
      "source": [
        "> # 1. *Cloud Translate API* \n",
        "![alt text](https://www.translationservices24.com/wp-content/uploads/2015/08/Funny-Google-translation.gif) \n"
      ]
    },
    {
      "cell_type": "markdown",
      "metadata": {
        "id": "51u1ljLrO5af",
        "colab_type": "text"
      },
      "source": [
        "The Cloud Translation API can dynamically translate text between thousands of language pairs. The Cloud Translation API lets websites and programs integrate with the translation service programmatically. Cloud Translation is part of the larger Cloud Machine Learning API family. "
      ]
    },
    {
      "cell_type": "markdown",
      "metadata": {
        "id": "ckletyRnCSda",
        "colab_type": "text"
      },
      "source": [
        "## Translation"
      ]
    },
    {
      "cell_type": "code",
      "metadata": {
        "id": "9xltruqbXcNd",
        "colab_type": "code",
        "outputId": "c13c104e-6500-476d-c447-f40040874bbb",
        "colab": {
          "base_uri": "https://localhost:8080/",
          "height": 35
        },
        "cellView": "both"
      },
      "source": [
        "#@title\n",
        "#Use API from Google Cloud\n",
        "import getpass\n",
        "\n",
        "APIKEY = getpass.getpass()"
      ],
      "execution_count": 2,
      "outputs": [
        {
          "output_type": "stream",
          "text": [
            "··········\n"
          ],
          "name": "stdout"
        }
      ]
    },
    {
      "cell_type": "code",
      "metadata": {
        "id": "P2fmV5wgWEWe",
        "colab_type": "code",
        "colab": {},
        "cellView": "both"
      },
      "source": [
        "#@title\n",
        "\n",
        "from googleapiclient.discovery import build\n",
        "service = build('translate', 'v2', developerKey=APIKEY)\n",
        "\n",
        "eng = [\"Black Consciousness is an attitude of the mind and a way of life, the most positive call to emanate from the black world for a long time.\", \"Steve Biko\"]\n",
        "fr = service.translations().list(source='en', target='fr', q=eng).execute()"
      ],
      "execution_count": 0,
      "outputs": []
    },
    {
      "cell_type": "markdown",
      "metadata": {
        "id": "Mw_bCt42gzAf",
        "colab_type": "text"
      },
      "source": [
        "### French Translation"
      ]
    },
    {
      "cell_type": "code",
      "metadata": {
        "id": "m_NjNwXHWi-a",
        "colab_type": "code",
        "outputId": "f0946993-d0b5-4271-9bdb-abfd10fa9af0",
        "colab": {
          "base_uri": "https://localhost:8080/",
          "height": 52
        },
        "cellView": "both"
      },
      "source": [
        "#@title\n",
        "for i in fr['translations']:\n",
        "  print(i['translatedText'])"
      ],
      "execution_count": 0,
      "outputs": [
        {
          "output_type": "stream",
          "text": [
            "La conscience noire est une attitude de l&#39;esprit et un mode de vie, l&#39;appel le plus positif à émaner du monde noir pendant longtemps.\n",
            "Steve Biko\n"
          ],
          "name": "stdout"
        }
      ]
    },
    {
      "cell_type": "markdown",
      "metadata": {
        "id": "7cipUeutg4yP",
        "colab_type": "text"
      },
      "source": [
        "### Hausa Translation"
      ]
    },
    {
      "cell_type": "code",
      "metadata": {
        "id": "Ee79FyzZd7HD",
        "colab_type": "code",
        "colab": {},
        "cellView": "both"
      },
      "source": [
        "#@title\n",
        "ha = service.translations().list(source='en', target='ha', q=eng).execute()"
      ],
      "execution_count": 0,
      "outputs": []
    },
    {
      "cell_type": "code",
      "metadata": {
        "id": "Hb3VwT7ify7-",
        "colab_type": "code",
        "outputId": "509532e6-7ebe-4429-bc13-5ea526036fea",
        "colab": {
          "base_uri": "https://localhost:8080/",
          "height": 52
        },
        "cellView": "both"
      },
      "source": [
        "#@title\n",
        "for i in ha['translations']:\n",
        "  print(i['translatedText'])"
      ],
      "execution_count": 0,
      "outputs": [
        {
          "output_type": "stream",
          "text": [
            "Asiri maras hankali shine dabi&#39;ar tunani da kuma hanyar rayuwa, kira mafi kyau da zai iya fitowa daga duniyar baki don dogon lokaci.\n",
            "Steve Biko\n"
          ],
          "name": "stdout"
        }
      ]
    },
    {
      "cell_type": "markdown",
      "metadata": {
        "id": "wWE5SYxkhqLW",
        "colab_type": "text"
      },
      "source": [
        "### Amharic Translation "
      ]
    },
    {
      "cell_type": "code",
      "metadata": {
        "id": "nrW1gElHfzj8",
        "colab_type": "code",
        "colab": {},
        "cellView": "both"
      },
      "source": [
        "#@title\n",
        "am = service.translations().list(source='en', target='am', q=eng).execute()"
      ],
      "execution_count": 0,
      "outputs": []
    },
    {
      "cell_type": "code",
      "metadata": {
        "id": "K1jpS4Ovh3fP",
        "colab_type": "code",
        "outputId": "e23933d9-a02c-4623-9842-9259574c2860",
        "colab": {
          "base_uri": "https://localhost:8080/",
          "height": 52
        },
        "cellView": "both"
      },
      "source": [
        "#@title\n",
        "for i in am['translations']:\n",
        "  print(i['translatedText'])"
      ],
      "execution_count": 0,
      "outputs": [
        {
          "output_type": "stream",
          "text": [
            "ጥቁር ምስጢርነት የአእምሮ እና የህይወት አኗኗር, ለረዥም ጊዜ ከአለም ጥቁር የመነጨው አዎንታዊ ጥሪ ነው.\n",
            "ስቲቭ ቤኪ\n"
          ],
          "name": "stdout"
        }
      ]
    },
    {
      "cell_type": "code",
      "metadata": {
        "id": "RxAfFT7DMooO",
        "colab_type": "code",
        "colab": {},
        "cellView": "both"
      },
      "source": [
        "#@title\n"
      ],
      "execution_count": 0,
      "outputs": []
    },
    {
      "cell_type": "markdown",
      "metadata": {
        "id": "97vwOG_N8HsK",
        "colab_type": "text"
      },
      "source": [
        "### Haitian Creole"
      ]
    },
    {
      "cell_type": "code",
      "metadata": {
        "id": "Mcs3BIxe76VH",
        "colab_type": "code",
        "colab": {},
        "cellView": "both"
      },
      "source": [
        "#@title\n",
        "ht = service.translations().list(source='en', target='ht', q=eng).execute()"
      ],
      "execution_count": 0,
      "outputs": []
    },
    {
      "cell_type": "code",
      "metadata": {
        "id": "gwuZ_I5U8YFO",
        "colab_type": "code",
        "outputId": "b6816d91-6199-4ec3-959a-4ce2e8048a47",
        "colab": {
          "base_uri": "https://localhost:8080/",
          "height": 52
        },
        "cellView": "both"
      },
      "source": [
        "#@title\n",
        "for i in ht['translations']:\n",
        "  print(i['translatedText'])"
      ],
      "execution_count": 0,
      "outputs": [
        {
          "output_type": "stream",
          "text": [
            "Nwa Konsyans se yon atitid nan lespri a ak yon fason pou lavi a, apèl ki pi pozitif soti nan mond lan nwa pou yon tan long.\n",
            "Steve Biko\n"
          ],
          "name": "stdout"
        }
      ]
    },
    {
      "cell_type": "markdown",
      "metadata": {
        "id": "i_7Go_Vs8psZ",
        "colab_type": "text"
      },
      "source": [
        "### Igbo"
      ]
    },
    {
      "cell_type": "code",
      "metadata": {
        "id": "ErXjFWKv8bhX",
        "colab_type": "code",
        "colab": {},
        "cellView": "both"
      },
      "source": [
        "#@title\n",
        "ig = service.translations().list(source='en', target='ig', q=eng).execute()"
      ],
      "execution_count": 0,
      "outputs": []
    },
    {
      "cell_type": "code",
      "metadata": {
        "id": "nRlK3L_k85TB",
        "colab_type": "code",
        "outputId": "c7165d44-7463-444d-93c8-25c3e7aacf67",
        "colab": {
          "base_uri": "https://localhost:8080/",
          "height": 52
        },
        "cellView": "both"
      },
      "source": [
        "#@title\n",
        "for i in ig['translations']:\n",
        "  print(i['translatedText'])"
      ],
      "execution_count": 0,
      "outputs": [
        {
          "output_type": "stream",
          "text": [
            "Nzuzu nke oji bu echiche nke uche na uzo nke ndu, nke kachasi nma nke sitere na ogugu ojii ruo ogologo oge.\n",
            "Steve Biko\n"
          ],
          "name": "stdout"
        }
      ]
    },
    {
      "cell_type": "markdown",
      "metadata": {
        "id": "HqEQjMrV9cdg",
        "colab_type": "text"
      },
      "source": [
        "### Somali"
      ]
    },
    {
      "cell_type": "code",
      "metadata": {
        "id": "V9Nqmn1T87Jg",
        "colab_type": "code",
        "colab": {},
        "cellView": "both"
      },
      "source": [
        "#@title\n",
        "so = service.translations().list(source='en', target='so', q=eng).execute()"
      ],
      "execution_count": 0,
      "outputs": []
    },
    {
      "cell_type": "code",
      "metadata": {
        "id": "BoKWCXrW9lRv",
        "colab_type": "code",
        "outputId": "9dfa6b51-99c7-476a-b70a-51b2cdb4d6dc",
        "colab": {
          "base_uri": "https://localhost:8080/",
          "height": 52
        },
        "cellView": "both"
      },
      "source": [
        "#@title\n",
        "for i in so['translations']:\n",
        "  print(i['translatedText'])"
      ],
      "execution_count": 0,
      "outputs": [
        {
          "output_type": "stream",
          "text": [
            "Aqoonta madow waa dabeecadda maskaxda iyo hab nololeed, ugu yeedhida ugu wacan ee ka soo baxda dunida madow muddo dheer.\n",
            "Steve Biko\n"
          ],
          "name": "stdout"
        }
      ]
    },
    {
      "cell_type": "markdown",
      "metadata": {
        "id": "ftrwhTjN9xyP",
        "colab_type": "text"
      },
      "source": [
        "### Sundanese"
      ]
    },
    {
      "cell_type": "code",
      "metadata": {
        "id": "-bhkPdMt9opr",
        "colab_type": "code",
        "colab": {},
        "cellView": "both"
      },
      "source": [
        "#@title\n",
        "su = service.translations().list(source='en', target='su', q=eng).execute()"
      ],
      "execution_count": 0,
      "outputs": []
    },
    {
      "cell_type": "code",
      "metadata": {
        "id": "lJtAUn6b9755",
        "colab_type": "code",
        "outputId": "a6263141-7ab1-462f-8b20-0ee1e7afaf0a",
        "colab": {
          "base_uri": "https://localhost:8080/",
          "height": 52
        },
        "cellView": "both"
      },
      "source": [
        "#@title\n",
        "for i in su['translations']:\n",
        "  print(i['translatedText'])"
      ],
      "execution_count": 0,
      "outputs": [
        {
          "output_type": "stream",
          "text": [
            "Hideung Sadar mangrupa dangong akal sareng jalan hirup, panggero anu paling positip anu bade disingket ti dunya hideung kanggo lila.\n",
            "Steve Biko\n"
          ],
          "name": "stdout"
        }
      ]
    },
    {
      "cell_type": "markdown",
      "metadata": {
        "id": "FaDXGojj-N4N",
        "colab_type": "text"
      },
      "source": [
        "### Swahili"
      ]
    },
    {
      "cell_type": "code",
      "metadata": {
        "id": "dnSBUR5P-API",
        "colab_type": "code",
        "colab": {},
        "cellView": "both"
      },
      "source": [
        "#@title\n",
        "sw = service.translations().list(source='en', target='sw', q=eng).execute()"
      ],
      "execution_count": 0,
      "outputs": []
    },
    {
      "cell_type": "code",
      "metadata": {
        "id": "f7EpSYPI-XSs",
        "colab_type": "code",
        "outputId": "1cb1e179-aba9-4b7b-9ec0-545e3a03ce6c",
        "colab": {
          "base_uri": "https://localhost:8080/",
          "height": 52
        },
        "cellView": "both"
      },
      "source": [
        "#@title\n",
        "for i in sw['translations']:\n",
        "  print(i['translatedText'])"
      ],
      "execution_count": 0,
      "outputs": [
        {
          "output_type": "stream",
          "text": [
            "Ufahamu wa Black ni mtazamo wa akili na njia ya maisha, wito mzuri zaidi kutoka kwa ulimwengu mweusi kwa muda mrefu.\n",
            "Steve Biko\n"
          ],
          "name": "stdout"
        }
      ]
    },
    {
      "cell_type": "markdown",
      "metadata": {
        "id": "owhc3HsVAA0j",
        "colab_type": "text"
      },
      "source": [
        "### Xhosa"
      ]
    },
    {
      "cell_type": "code",
      "metadata": {
        "id": "5bEWjXcRAElB",
        "colab_type": "code",
        "colab": {},
        "cellView": "both"
      },
      "source": [
        "#@title\n",
        "xh = service.translations().list(source='en', target='xh', q=eng).execute()"
      ],
      "execution_count": 0,
      "outputs": []
    },
    {
      "cell_type": "code",
      "metadata": {
        "id": "V9hCc5ajAMgy",
        "colab_type": "code",
        "outputId": "da41156f-c79f-4b03-bcb4-ad936ce7919f",
        "colab": {
          "base_uri": "https://localhost:8080/",
          "height": 52
        },
        "cellView": "both"
      },
      "source": [
        "#@title\n",
        "for i in xh['translations']:\n",
        "  print(i['translatedText'])"
      ],
      "execution_count": 0,
      "outputs": [
        {
          "output_type": "stream",
          "text": [
            "Ubumnono obumnyama yingqondo yengqondo kunye nendlela yokuphila, uncedo oluhle kakhulu oluvela kwihlabathi elimnyama ixesha elide.\n",
            "Wayengumongameli wolutsha\n"
          ],
          "name": "stdout"
        }
      ]
    },
    {
      "cell_type": "markdown",
      "metadata": {
        "id": "c2ALr7nlAaOa",
        "colab_type": "text"
      },
      "source": [
        "### Yoruba"
      ]
    },
    {
      "cell_type": "code",
      "metadata": {
        "id": "WtkED5c4AN2o",
        "colab_type": "code",
        "colab": {},
        "cellView": "both"
      },
      "source": [
        "#@title\n",
        "yo = service.translations().list(source='en', target='yo', q=eng).execute()"
      ],
      "execution_count": 0,
      "outputs": []
    },
    {
      "cell_type": "code",
      "metadata": {
        "id": "OhVdBDP0AgSh",
        "colab_type": "code",
        "outputId": "ec22f8d3-5734-4882-a605-27717015ef58",
        "colab": {
          "base_uri": "https://localhost:8080/",
          "height": 52
        },
        "cellView": "both"
      },
      "source": [
        "#@title\n",
        "for i in yo['translations']:\n",
        "  print(i['translatedText'])"
      ],
      "execution_count": 0,
      "outputs": [
        {
          "output_type": "stream",
          "text": [
            "Ifarabalẹ dudu jẹ iwa ti okan ati ọna igbesi aye, ipe ti o dara julọ lati wa lati ilẹ dudu fun igba pipẹ.\n",
            "Steve Biko\n"
          ],
          "name": "stdout"
        }
      ]
    },
    {
      "cell_type": "markdown",
      "metadata": {
        "id": "iX4dlOLIAkOA",
        "colab_type": "text"
      },
      "source": [
        "### Zulu"
      ]
    },
    {
      "cell_type": "code",
      "metadata": {
        "id": "86f75whSAiBW",
        "colab_type": "code",
        "colab": {},
        "cellView": "both"
      },
      "source": [
        "#@title\n",
        "zu = service.translations().list(source='en', target='zu', q=eng).execute()"
      ],
      "execution_count": 0,
      "outputs": []
    },
    {
      "cell_type": "code",
      "metadata": {
        "id": "Sz-EQBoQAsB1",
        "colab_type": "code",
        "outputId": "c30db81a-946b-41cd-fd4f-c86f222c2fb3",
        "colab": {
          "base_uri": "https://localhost:8080/",
          "height": 52
        },
        "cellView": "both"
      },
      "source": [
        "#@title\n",
        "for i in zu['translations']:\n",
        "  print(i['translatedText'])"
      ],
      "execution_count": 0,
      "outputs": [
        {
          "output_type": "stream",
          "text": [
            "Ukuqaphela Okumnyama kuyinto isimo sengqondo nendlela yokuphila, isimemo esihle kakhulu sokuvela emhlabeni omnyama isikhathi eside.\n",
            "Steve Biko\n"
          ],
          "name": "stdout"
        }
      ]
    },
    {
      "cell_type": "markdown",
      "metadata": {
        "id": "vVxYp-XTCXg3",
        "colab_type": "text"
      },
      "source": [
        "## Language Detection"
      ]
    },
    {
      "cell_type": "code",
      "metadata": {
        "id": "gozskPx9AtiS",
        "colab_type": "code",
        "colab": {},
        "cellView": "both"
      },
      "source": [
        "#@title\n",
        "#from google.cloud import translate\n",
        "#client = translate.Client()\n",
        "\n",
        "\n",
        "from googleapiclient.discovery import build\n",
        "service = build('translate', 'v2', developerKey=APIKEY)\n",
        "\n",
        "eng = [\"Black Consciousness is an attitude of the mind and a way of life, the most positive call to emanate from the black world for a long time.\", \"Steve Biko\"]\n",
        "eng = service.detections().list(q=eng).execute()"
      ],
      "execution_count": 0,
      "outputs": []
    },
    {
      "cell_type": "markdown",
      "metadata": {
        "id": "8T0FztQ5HPEc",
        "colab_type": "text"
      },
      "source": [
        "### English"
      ]
    },
    {
      "cell_type": "code",
      "metadata": {
        "id": "zUqkybUGCb2N",
        "colab_type": "code",
        "outputId": "d2208882-465e-43dd-fd7c-086444d916a0",
        "colab": {
          "base_uri": "https://localhost:8080/",
          "height": 35
        },
        "cellView": "both"
      },
      "source": [
        "#@title\n",
        "print(eng)"
      ],
      "execution_count": 0,
      "outputs": [
        {
          "output_type": "stream",
          "text": [
            "{'detections': [[{'confidence': 1, 'isReliable': False, 'language': 'en'}], [{'isReliable': False, 'language': 'en', 'confidence': 0.3320448398590088}]]}\n"
          ],
          "name": "stdout"
        }
      ]
    },
    {
      "cell_type": "markdown",
      "metadata": {
        "id": "9C3kmv7EHTo6",
        "colab_type": "text"
      },
      "source": [
        "### French"
      ]
    },
    {
      "cell_type": "code",
      "metadata": {
        "id": "J2RXfvEODfCq",
        "colab_type": "code",
        "outputId": "8a3c0ac6-259b-4607-ead1-7b47db352c33",
        "colab": {
          "base_uri": "https://localhost:8080/",
          "height": 35
        },
        "cellView": "both"
      },
      "source": [
        "#@title\n",
        "fr = [\"La conscience noire est une attitude de l'esprit et un mode de vie, l'appel le plus positif à émaner du monde noir pendant longtemps.\"]\n",
        "fr = service.detections().list(q=fr).execute()\n",
        "print(fr)"
      ],
      "execution_count": 0,
      "outputs": [
        {
          "output_type": "stream",
          "text": [
            "{'detections': [[{'confidence': 0.9877066016197205, 'isReliable': False, 'language': 'fr'}]]}\n"
          ],
          "name": "stdout"
        }
      ]
    },
    {
      "cell_type": "markdown",
      "metadata": {
        "id": "SxtwzIrNH_Bl",
        "colab_type": "text"
      },
      "source": [
        "### Hausa"
      ]
    },
    {
      "cell_type": "code",
      "metadata": {
        "id": "7X_IVvCEHzDw",
        "colab_type": "code",
        "outputId": "81c813e5-e01d-46f4-fc68-a6d7ff15abae",
        "colab": {
          "base_uri": "https://localhost:8080/",
          "height": 35
        },
        "cellView": "both"
      },
      "source": [
        "#@title\n",
        "ha = [\"Asiri maras hankali shine dabi&#39;ar tunani da kuma hanyar rayuwa, kira mafi kyau da zai iya fitowa daga duniyar baki don dogon lokaci.\"]\n",
        "ha = service.detections().list(q=ha).execute()\n",
        "print(ha)"
      ],
      "execution_count": 0,
      "outputs": [
        {
          "output_type": "stream",
          "text": [
            "{'detections': [[{'confidence': 1, 'isReliable': False, 'language': 'ha'}]]}\n"
          ],
          "name": "stdout"
        }
      ]
    },
    {
      "cell_type": "markdown",
      "metadata": {
        "id": "x2QWayCeIOw1",
        "colab_type": "text"
      },
      "source": [
        "### Amharic"
      ]
    },
    {
      "cell_type": "code",
      "metadata": {
        "id": "4RYdxYZCIMWx",
        "colab_type": "code",
        "outputId": "1550c242-8abe-414d-d1e2-effb3d7d09f7",
        "colab": {
          "base_uri": "https://localhost:8080/",
          "height": 35
        },
        "cellView": "both"
      },
      "source": [
        "#@title\n",
        "am = [\"ጥቁር ምስጢርነት የአእምሮ እና የህይወት አኗኗር, ለረዥም ጊዜ ከአለም ጥቁር የመነጨው አዎንታዊ ጥሪ ነውስቲቭ ቤኪ\"]\n",
        "am = service.detections().list(q=am).execute()\n",
        "print(am)"
      ],
      "execution_count": 0,
      "outputs": [
        {
          "output_type": "stream",
          "text": [
            "{'detections': [[{'confidence': 1, 'isReliable': False, 'language': 'am'}]]}\n"
          ],
          "name": "stdout"
        }
      ]
    },
    {
      "cell_type": "markdown",
      "metadata": {
        "id": "32xU2ePzIvaL",
        "colab_type": "text"
      },
      "source": [
        "### Haitian Creole"
      ]
    },
    {
      "cell_type": "code",
      "metadata": {
        "id": "oDcIMV9UIo91",
        "colab_type": "code",
        "outputId": "5c65c344-747b-412d-aabb-22ac8ac0486b",
        "colab": {
          "base_uri": "https://localhost:8080/",
          "height": 35
        },
        "cellView": "both"
      },
      "source": [
        "#@title\n",
        "ht = [\"Nwa Konsyans se yon atitid nan lespri a ak yon fason pou lavi a, apèl ki pi pozitif soti nan mond lan nwa pou yon tan long.\"]\n",
        "ht = service.detections().list(q=ht).execute()\n",
        "print(ht)"
      ],
      "execution_count": 0,
      "outputs": [
        {
          "output_type": "stream",
          "text": [
            "{'detections': [[{'confidence': 1, 'isReliable': False, 'language': 'ht'}]]}\n"
          ],
          "name": "stdout"
        }
      ]
    },
    {
      "cell_type": "markdown",
      "metadata": {
        "id": "ahkPOdT1I8tI",
        "colab_type": "text"
      },
      "source": [
        "### Igbo"
      ]
    },
    {
      "cell_type": "code",
      "metadata": {
        "id": "dffS0fhQI6W_",
        "colab_type": "code",
        "outputId": "6a867b73-ff02-46e6-85af-09a072409b0b",
        "colab": {
          "base_uri": "https://localhost:8080/",
          "height": 35
        },
        "cellView": "both"
      },
      "source": [
        "#@title\n",
        "ig = [\"Nzuzu nke oji bu echiche nke uche na uzo nke ndu, nke kachasi nma nke sitere na ogugu ojii ruo ogologo oge.\"]\n",
        "ig = service.detections().list(q=ig).execute()\n",
        "print(ig)"
      ],
      "execution_count": 0,
      "outputs": [
        {
          "output_type": "stream",
          "text": [
            "{'detections': [[{'isReliable': False, 'language': 'ig', 'confidence': 1}]]}\n"
          ],
          "name": "stdout"
        }
      ]
    },
    {
      "cell_type": "markdown",
      "metadata": {
        "id": "wTKN2BQ6JQpV",
        "colab_type": "text"
      },
      "source": [
        "### Somali"
      ]
    },
    {
      "cell_type": "code",
      "metadata": {
        "id": "tLjn6kXRJT9W",
        "colab_type": "code",
        "outputId": "5ba2a418-8159-480f-d7fc-1cba3f54c845",
        "colab": {
          "base_uri": "https://localhost:8080/",
          "height": 35
        },
        "cellView": "both"
      },
      "source": [
        "#@title\n",
        "so = [\"Aqoonta madow waa dabeecadda maskaxda iyo hab nololeed, ugu yeedhida ugu wacan ee ka soo baxda dunida madow muddo dheer.\"]\n",
        "so = service.detections().list(q=so).execute()\n",
        "print(so)"
      ],
      "execution_count": 0,
      "outputs": [
        {
          "output_type": "stream",
          "text": [
            "{'detections': [[{'isReliable': False, 'language': 'so', 'confidence': 1}]]}\n"
          ],
          "name": "stdout"
        }
      ]
    },
    {
      "cell_type": "markdown",
      "metadata": {
        "id": "hyknDnr2JinH",
        "colab_type": "text"
      },
      "source": [
        "### Sudanese"
      ]
    },
    {
      "cell_type": "code",
      "metadata": {
        "id": "HF4FUVUiJqnG",
        "colab_type": "code",
        "outputId": "918be555-1023-4815-b9b8-fc23ab7e3265",
        "colab": {
          "base_uri": "https://localhost:8080/",
          "height": 35
        },
        "cellView": "both"
      },
      "source": [
        "#@title\n",
        "su = [\"Hideung Sadar mangrupa dangong akal sareng jalan hirup, panggero anu paling positip anu bade disingket ti dunya hideung kanggo lila.\"]\n",
        "su = service.detections().list(q=su).execute()\n",
        "print(su)"
      ],
      "execution_count": 0,
      "outputs": [
        {
          "output_type": "stream",
          "text": [
            "{'detections': [[{'isReliable': False, 'language': 'su', 'confidence': 1}]]}\n"
          ],
          "name": "stdout"
        }
      ]
    },
    {
      "cell_type": "markdown",
      "metadata": {
        "id": "pGwaOBQpJ2PZ",
        "colab_type": "text"
      },
      "source": [
        "### Swahili"
      ]
    },
    {
      "cell_type": "code",
      "metadata": {
        "id": "YmuPmmnHJz4o",
        "colab_type": "code",
        "outputId": "db131428-aec9-470f-f25d-4d20982a1da3",
        "colab": {
          "base_uri": "https://localhost:8080/",
          "height": 35
        },
        "cellView": "both"
      },
      "source": [
        "#@title\n",
        "sw = [\"Ufahamu wa Black ni mtazamo wa akili na njia ya maisha, wito mzuri zaidi kutoka kwa ulimwengu mweusi kwa muda mrefu.\"]\n",
        "sw = service.detections().list(q=sw).execute()\n",
        "print(sw)"
      ],
      "execution_count": 0,
      "outputs": [
        {
          "output_type": "stream",
          "text": [
            "{'detections': [[{'confidence': 1, 'isReliable': False, 'language': 'sw'}]]}\n"
          ],
          "name": "stdout"
        }
      ]
    },
    {
      "cell_type": "markdown",
      "metadata": {
        "id": "mlRtC1uwKR0x",
        "colab_type": "text"
      },
      "source": [
        "### Xhosa"
      ]
    },
    {
      "cell_type": "code",
      "metadata": {
        "id": "od2YUJ6fKA6j",
        "colab_type": "code",
        "outputId": "257bd60d-7d9a-4339-8984-496379b266d5",
        "colab": {
          "base_uri": "https://localhost:8080/",
          "height": 35
        },
        "cellView": "both"
      },
      "source": [
        "#@title\n",
        "xh = [\"Ubumnono obumnyama yingqondo yengqondo kunye nendlela yokuphila, uncedo oluhle kakhulu oluvela kwihlabathi elimnyama ixesha elide.\"]\n",
        "xh = service.detections().list(q=xh).execute()\n",
        "print(xh)"
      ],
      "execution_count": 0,
      "outputs": [
        {
          "output_type": "stream",
          "text": [
            "{'detections': [[{'isReliable': False, 'language': 'xh', 'confidence': 1}]]}\n"
          ],
          "name": "stdout"
        }
      ]
    },
    {
      "cell_type": "markdown",
      "metadata": {
        "id": "zoGXTYbDKkK2",
        "colab_type": "text"
      },
      "source": [
        "### Yoruba"
      ]
    },
    {
      "cell_type": "code",
      "metadata": {
        "colab_type": "code",
        "id": "xSHVBG-5KW1e",
        "outputId": "fefdd85a-68aa-4692-e131-36827d1c3fa6",
        "colab": {
          "base_uri": "https://localhost:8080/",
          "height": 35
        },
        "cellView": "both"
      },
      "source": [
        "#@title\n",
        "yo = [\"Ifarabalẹ dudu jẹ iwa ti okan ati ọna igbesi aye, ipe ti o dara julọ lati wa lati ilẹ dudu fun igba pipẹ.\"]\n",
        "yo = service.detections().list(q=yo).execute()\n",
        "print(yo)"
      ],
      "execution_count": 0,
      "outputs": [
        {
          "output_type": "stream",
          "text": [
            "{'detections': [[{'confidence': 1, 'isReliable': False, 'language': 'yo'}]]}\n"
          ],
          "name": "stdout"
        }
      ]
    },
    {
      "cell_type": "markdown",
      "metadata": {
        "id": "Jc3UueDCKys4",
        "colab_type": "text"
      },
      "source": [
        "### Zulu"
      ]
    },
    {
      "cell_type": "code",
      "metadata": {
        "colab_type": "code",
        "id": "JlPEeMgXKWTd",
        "outputId": "cd723bfa-ff32-45e4-d653-874509cf2592",
        "colab": {
          "base_uri": "https://localhost:8080/",
          "height": 35
        },
        "cellView": "both"
      },
      "source": [
        "#@title\n",
        "zu = [\"Ukuqaphela Okumnyama kuyinto isimo sengqondo nendlela yokuphila, isimemo esihle kakhulu sokuvela emhlabeni omnyama isikhathi eside.\"]\n",
        "zu = service.detections().list(q=zu).execute()\n",
        "print(zu)"
      ],
      "execution_count": 0,
      "outputs": [
        {
          "output_type": "stream",
          "text": [
            "{'detections': [[{'confidence': 1, 'isReliable': False, 'language': 'zu'}]]}\n"
          ],
          "name": "stdout"
        }
      ]
    },
    {
      "cell_type": "markdown",
      "metadata": {
        "id": "ndT16iAxLP4W",
        "colab_type": "text"
      },
      "source": [
        ""
      ]
    },
    {
      "cell_type": "code",
      "metadata": {
        "id": "ED0PMMp1K-ZZ",
        "colab_type": "code",
        "colab": {},
        "cellView": "both"
      },
      "source": [
        "#@title\n",
        "lang = service.languages().list(target='en').execute()"
      ],
      "execution_count": 0,
      "outputs": []
    },
    {
      "cell_type": "code",
      "metadata": {
        "id": "7IFODQmrLfYf",
        "colab_type": "code",
        "colab": {},
        "cellView": "both"
      },
      "source": [
        "#@title\n",
        "ts =pd.DataFrame(lang['languages'])"
      ],
      "execution_count": 0,
      "outputs": []
    },
    {
      "cell_type": "code",
      "metadata": {
        "id": "qqLS1wiazXSm",
        "colab_type": "code",
        "outputId": "1f5165a9-9a3e-4c9d-88b3-9c86f19c89b2",
        "colab": {
          "base_uri": "https://localhost:8080/",
          "height": 1000
        },
        "cellView": "both"
      },
      "source": [
        "#@title\n",
        "ts"
      ],
      "execution_count": 0,
      "outputs": [
        {
          "output_type": "execute_result",
          "data": {
            "text/html": [
              "<div>\n",
              "<style scoped>\n",
              "    .dataframe tbody tr th:only-of-type {\n",
              "        vertical-align: middle;\n",
              "    }\n",
              "\n",
              "    .dataframe tbody tr th {\n",
              "        vertical-align: top;\n",
              "    }\n",
              "\n",
              "    .dataframe thead th {\n",
              "        text-align: right;\n",
              "    }\n",
              "</style>\n",
              "<table border=\"1\" class=\"dataframe\">\n",
              "  <thead>\n",
              "    <tr style=\"text-align: right;\">\n",
              "      <th></th>\n",
              "      <th>language</th>\n",
              "      <th>name</th>\n",
              "    </tr>\n",
              "  </thead>\n",
              "  <tbody>\n",
              "    <tr>\n",
              "      <th>0</th>\n",
              "      <td>af</td>\n",
              "      <td>Afrikaans</td>\n",
              "    </tr>\n",
              "    <tr>\n",
              "      <th>1</th>\n",
              "      <td>sq</td>\n",
              "      <td>Albanian</td>\n",
              "    </tr>\n",
              "    <tr>\n",
              "      <th>2</th>\n",
              "      <td>am</td>\n",
              "      <td>Amharic</td>\n",
              "    </tr>\n",
              "    <tr>\n",
              "      <th>3</th>\n",
              "      <td>ar</td>\n",
              "      <td>Arabic</td>\n",
              "    </tr>\n",
              "    <tr>\n",
              "      <th>4</th>\n",
              "      <td>hy</td>\n",
              "      <td>Armenian</td>\n",
              "    </tr>\n",
              "    <tr>\n",
              "      <th>5</th>\n",
              "      <td>az</td>\n",
              "      <td>Azerbaijani</td>\n",
              "    </tr>\n",
              "    <tr>\n",
              "      <th>6</th>\n",
              "      <td>eu</td>\n",
              "      <td>Basque</td>\n",
              "    </tr>\n",
              "    <tr>\n",
              "      <th>7</th>\n",
              "      <td>be</td>\n",
              "      <td>Belarusian</td>\n",
              "    </tr>\n",
              "    <tr>\n",
              "      <th>8</th>\n",
              "      <td>bn</td>\n",
              "      <td>Bengali</td>\n",
              "    </tr>\n",
              "    <tr>\n",
              "      <th>9</th>\n",
              "      <td>bs</td>\n",
              "      <td>Bosnian</td>\n",
              "    </tr>\n",
              "    <tr>\n",
              "      <th>10</th>\n",
              "      <td>bg</td>\n",
              "      <td>Bulgarian</td>\n",
              "    </tr>\n",
              "    <tr>\n",
              "      <th>11</th>\n",
              "      <td>ca</td>\n",
              "      <td>Catalan</td>\n",
              "    </tr>\n",
              "    <tr>\n",
              "      <th>12</th>\n",
              "      <td>ceb</td>\n",
              "      <td>Cebuano</td>\n",
              "    </tr>\n",
              "    <tr>\n",
              "      <th>13</th>\n",
              "      <td>ny</td>\n",
              "      <td>Chichewa</td>\n",
              "    </tr>\n",
              "    <tr>\n",
              "      <th>14</th>\n",
              "      <td>zh</td>\n",
              "      <td>Chinese (Simplified)</td>\n",
              "    </tr>\n",
              "    <tr>\n",
              "      <th>15</th>\n",
              "      <td>zh-TW</td>\n",
              "      <td>Chinese (Traditional)</td>\n",
              "    </tr>\n",
              "    <tr>\n",
              "      <th>16</th>\n",
              "      <td>co</td>\n",
              "      <td>Corsican</td>\n",
              "    </tr>\n",
              "    <tr>\n",
              "      <th>17</th>\n",
              "      <td>hr</td>\n",
              "      <td>Croatian</td>\n",
              "    </tr>\n",
              "    <tr>\n",
              "      <th>18</th>\n",
              "      <td>cs</td>\n",
              "      <td>Czech</td>\n",
              "    </tr>\n",
              "    <tr>\n",
              "      <th>19</th>\n",
              "      <td>da</td>\n",
              "      <td>Danish</td>\n",
              "    </tr>\n",
              "    <tr>\n",
              "      <th>20</th>\n",
              "      <td>nl</td>\n",
              "      <td>Dutch</td>\n",
              "    </tr>\n",
              "    <tr>\n",
              "      <th>21</th>\n",
              "      <td>en</td>\n",
              "      <td>English</td>\n",
              "    </tr>\n",
              "    <tr>\n",
              "      <th>22</th>\n",
              "      <td>eo</td>\n",
              "      <td>Esperanto</td>\n",
              "    </tr>\n",
              "    <tr>\n",
              "      <th>23</th>\n",
              "      <td>et</td>\n",
              "      <td>Estonian</td>\n",
              "    </tr>\n",
              "    <tr>\n",
              "      <th>24</th>\n",
              "      <td>tl</td>\n",
              "      <td>Filipino</td>\n",
              "    </tr>\n",
              "    <tr>\n",
              "      <th>25</th>\n",
              "      <td>fi</td>\n",
              "      <td>Finnish</td>\n",
              "    </tr>\n",
              "    <tr>\n",
              "      <th>26</th>\n",
              "      <td>fr</td>\n",
              "      <td>French</td>\n",
              "    </tr>\n",
              "    <tr>\n",
              "      <th>27</th>\n",
              "      <td>fy</td>\n",
              "      <td>Frisian</td>\n",
              "    </tr>\n",
              "    <tr>\n",
              "      <th>28</th>\n",
              "      <td>gl</td>\n",
              "      <td>Galician</td>\n",
              "    </tr>\n",
              "    <tr>\n",
              "      <th>29</th>\n",
              "      <td>ka</td>\n",
              "      <td>Georgian</td>\n",
              "    </tr>\n",
              "    <tr>\n",
              "      <th>...</th>\n",
              "      <td>...</td>\n",
              "      <td>...</td>\n",
              "    </tr>\n",
              "    <tr>\n",
              "      <th>74</th>\n",
              "      <td>ro</td>\n",
              "      <td>Romanian</td>\n",
              "    </tr>\n",
              "    <tr>\n",
              "      <th>75</th>\n",
              "      <td>ru</td>\n",
              "      <td>Russian</td>\n",
              "    </tr>\n",
              "    <tr>\n",
              "      <th>76</th>\n",
              "      <td>sm</td>\n",
              "      <td>Samoan</td>\n",
              "    </tr>\n",
              "    <tr>\n",
              "      <th>77</th>\n",
              "      <td>gd</td>\n",
              "      <td>Scots Gaelic</td>\n",
              "    </tr>\n",
              "    <tr>\n",
              "      <th>78</th>\n",
              "      <td>sr</td>\n",
              "      <td>Serbian</td>\n",
              "    </tr>\n",
              "    <tr>\n",
              "      <th>79</th>\n",
              "      <td>st</td>\n",
              "      <td>Sesotho</td>\n",
              "    </tr>\n",
              "    <tr>\n",
              "      <th>80</th>\n",
              "      <td>sn</td>\n",
              "      <td>Shona</td>\n",
              "    </tr>\n",
              "    <tr>\n",
              "      <th>81</th>\n",
              "      <td>sd</td>\n",
              "      <td>Sindhi</td>\n",
              "    </tr>\n",
              "    <tr>\n",
              "      <th>82</th>\n",
              "      <td>si</td>\n",
              "      <td>Sinhala</td>\n",
              "    </tr>\n",
              "    <tr>\n",
              "      <th>83</th>\n",
              "      <td>sk</td>\n",
              "      <td>Slovak</td>\n",
              "    </tr>\n",
              "    <tr>\n",
              "      <th>84</th>\n",
              "      <td>sl</td>\n",
              "      <td>Slovenian</td>\n",
              "    </tr>\n",
              "    <tr>\n",
              "      <th>85</th>\n",
              "      <td>so</td>\n",
              "      <td>Somali</td>\n",
              "    </tr>\n",
              "    <tr>\n",
              "      <th>86</th>\n",
              "      <td>es</td>\n",
              "      <td>Spanish</td>\n",
              "    </tr>\n",
              "    <tr>\n",
              "      <th>87</th>\n",
              "      <td>su</td>\n",
              "      <td>Sundanese</td>\n",
              "    </tr>\n",
              "    <tr>\n",
              "      <th>88</th>\n",
              "      <td>sw</td>\n",
              "      <td>Swahili</td>\n",
              "    </tr>\n",
              "    <tr>\n",
              "      <th>89</th>\n",
              "      <td>sv</td>\n",
              "      <td>Swedish</td>\n",
              "    </tr>\n",
              "    <tr>\n",
              "      <th>90</th>\n",
              "      <td>tg</td>\n",
              "      <td>Tajik</td>\n",
              "    </tr>\n",
              "    <tr>\n",
              "      <th>91</th>\n",
              "      <td>ta</td>\n",
              "      <td>Tamil</td>\n",
              "    </tr>\n",
              "    <tr>\n",
              "      <th>92</th>\n",
              "      <td>te</td>\n",
              "      <td>Telugu</td>\n",
              "    </tr>\n",
              "    <tr>\n",
              "      <th>93</th>\n",
              "      <td>th</td>\n",
              "      <td>Thai</td>\n",
              "    </tr>\n",
              "    <tr>\n",
              "      <th>94</th>\n",
              "      <td>tr</td>\n",
              "      <td>Turkish</td>\n",
              "    </tr>\n",
              "    <tr>\n",
              "      <th>95</th>\n",
              "      <td>uk</td>\n",
              "      <td>Ukrainian</td>\n",
              "    </tr>\n",
              "    <tr>\n",
              "      <th>96</th>\n",
              "      <td>ur</td>\n",
              "      <td>Urdu</td>\n",
              "    </tr>\n",
              "    <tr>\n",
              "      <th>97</th>\n",
              "      <td>uz</td>\n",
              "      <td>Uzbek</td>\n",
              "    </tr>\n",
              "    <tr>\n",
              "      <th>98</th>\n",
              "      <td>vi</td>\n",
              "      <td>Vietnamese</td>\n",
              "    </tr>\n",
              "    <tr>\n",
              "      <th>99</th>\n",
              "      <td>cy</td>\n",
              "      <td>Welsh</td>\n",
              "    </tr>\n",
              "    <tr>\n",
              "      <th>100</th>\n",
              "      <td>xh</td>\n",
              "      <td>Xhosa</td>\n",
              "    </tr>\n",
              "    <tr>\n",
              "      <th>101</th>\n",
              "      <td>yi</td>\n",
              "      <td>Yiddish</td>\n",
              "    </tr>\n",
              "    <tr>\n",
              "      <th>102</th>\n",
              "      <td>yo</td>\n",
              "      <td>Yoruba</td>\n",
              "    </tr>\n",
              "    <tr>\n",
              "      <th>103</th>\n",
              "      <td>zu</td>\n",
              "      <td>Zulu</td>\n",
              "    </tr>\n",
              "  </tbody>\n",
              "</table>\n",
              "<p>104 rows × 2 columns</p>\n",
              "</div>"
            ],
            "text/plain": [
              "    language                   name\n",
              "0         af              Afrikaans\n",
              "1         sq               Albanian\n",
              "2         am                Amharic\n",
              "3         ar                 Arabic\n",
              "4         hy               Armenian\n",
              "5         az            Azerbaijani\n",
              "6         eu                 Basque\n",
              "7         be             Belarusian\n",
              "8         bn                Bengali\n",
              "9         bs                Bosnian\n",
              "10        bg              Bulgarian\n",
              "11        ca                Catalan\n",
              "12       ceb                Cebuano\n",
              "13        ny               Chichewa\n",
              "14        zh   Chinese (Simplified)\n",
              "15     zh-TW  Chinese (Traditional)\n",
              "16        co               Corsican\n",
              "17        hr               Croatian\n",
              "18        cs                  Czech\n",
              "19        da                 Danish\n",
              "20        nl                  Dutch\n",
              "21        en                English\n",
              "22        eo              Esperanto\n",
              "23        et               Estonian\n",
              "24        tl               Filipino\n",
              "25        fi                Finnish\n",
              "26        fr                 French\n",
              "27        fy                Frisian\n",
              "28        gl               Galician\n",
              "29        ka               Georgian\n",
              "..       ...                    ...\n",
              "74        ro               Romanian\n",
              "75        ru                Russian\n",
              "76        sm                 Samoan\n",
              "77        gd           Scots Gaelic\n",
              "78        sr                Serbian\n",
              "79        st                Sesotho\n",
              "80        sn                  Shona\n",
              "81        sd                 Sindhi\n",
              "82        si                Sinhala\n",
              "83        sk                 Slovak\n",
              "84        sl              Slovenian\n",
              "85        so                 Somali\n",
              "86        es                Spanish\n",
              "87        su              Sundanese\n",
              "88        sw                Swahili\n",
              "89        sv                Swedish\n",
              "90        tg                  Tajik\n",
              "91        ta                  Tamil\n",
              "92        te                 Telugu\n",
              "93        th                   Thai\n",
              "94        tr                Turkish\n",
              "95        uk              Ukrainian\n",
              "96        ur                   Urdu\n",
              "97        uz                  Uzbek\n",
              "98        vi             Vietnamese\n",
              "99        cy                  Welsh\n",
              "100       xh                  Xhosa\n",
              "101       yi                Yiddish\n",
              "102       yo                 Yoruba\n",
              "103       zu                   Zulu\n",
              "\n",
              "[104 rows x 2 columns]"
            ]
          },
          "metadata": {
            "tags": []
          },
          "execution_count": 234
        }
      ]
    },
    {
      "cell_type": "code",
      "metadata": {
        "id": "kHJ7a20_O3z0",
        "colab_type": "code",
        "outputId": "c9ad5de2-15d1-455f-9069-391480f5e73f",
        "colab": {
          "base_uri": "https://localhost:8080/",
          "height": 52
        },
        "cellView": "both"
      },
      "source": [
        "#@title\n",
        "t = input('Name the abbreviation: ')\n",
        "\n",
        "f = ts.loc[ts['language'] == t]['name']\n",
        "f = f.iloc[0]\n",
        "print(u\"That is the {0} language\".format(f))"
      ],
      "execution_count": 0,
      "outputs": [
        {
          "output_type": "stream",
          "text": [
            "Name the abbreviation: zu\n",
            "That is the Zulu language\n"
          ],
          "name": "stdout"
        }
      ]
    },
    {
      "cell_type": "markdown",
      "metadata": {
        "id": "y3yAWFt-SXTG",
        "colab_type": "text"
      },
      "source": [
        "> # 2. *Cloud Vision API* \n",
        "![alt text](https://cdn-images-1.medium.com/max/2600/1*73VutAQEbjHfbiy3PWGrrw.gif) \n"
      ]
    },
    {
      "cell_type": "markdown",
      "metadata": {
        "id": "gyK0qIozfUbs",
        "colab_type": "text"
      },
      "source": [
        "## Detecting words on Sign Boards"
      ]
    },
    {
      "cell_type": "markdown",
      "metadata": {
        "id": "ySmcEmkQdfKt",
        "colab_type": "text"
      },
      "source": [
        "![alt text](https://storage.cloud.google.com/achampiong_image/3c76584ecdae04b82a1b907620a95e65.jpg)"
      ]
    },
    {
      "cell_type": "code",
      "metadata": {
        "id": "4gJhDBXZPnln",
        "colab_type": "code",
        "outputId": "2c9afd0b-29cb-473c-eb90-55a1dd5208c1",
        "colab": {
          "base_uri": "https://localhost:8080/",
          "height": 141
        },
        "cellView": "both"
      },
      "source": [
        "#@title\n",
        "vservice = build('vision', 'v1', developerKey=APIKEY)\n",
        "request = vservice.images().annotate(body={\n",
        "        'requests': [{\n",
        "                'image': {'source': {'gcs_image_uri': \"gs://achampiong_image/3c76584ecdae04b82a1b907620a95e65.jpg\"}\n",
        "                },\n",
        "                'features': [{\n",
        "                    'type': 'TEXT_DETECTION',\n",
        "                    'maxResults': 3,\n",
        "                }]\n",
        "            }],\n",
        "        })\n",
        "responses = request.execute()\n",
        "s =responses['responses'][0]['textAnnotations'][0]['locale']\n",
        "print(s)\n",
        "print(langs[s]+'\\n')\n",
        "g =responses['responses'][0]['textAnnotations'][0]['description']\n",
        "print(g)"
      ],
      "execution_count": 0,
      "outputs": [
        {
          "output_type": "stream",
          "text": [
            "fr\n",
            "French\n",
            "\n",
            "CHEMIN\n",
            "DES\n",
            "ECOLES\n",
            "\n"
          ],
          "name": "stdout"
        }
      ]
    },
    {
      "cell_type": "code",
      "metadata": {
        "id": "AoVL3dkJS-pv",
        "colab_type": "code",
        "outputId": "7f2be3b5-8dc6-4a9c-d057-3f143fa04a19",
        "colab": {
          "base_uri": "https://localhost:8080/",
          "height": 35
        },
        "cellView": "both"
      },
      "source": [
        "#@title\n",
        "fr2 = service.translations().list(source='fr', target='en', q=g).execute()\n",
        "fr2"
      ],
      "execution_count": 0,
      "outputs": [
        {
          "output_type": "execute_result",
          "data": {
            "text/plain": [
              "{'translations': [{'translatedText': 'PATH OF SCHOOLS'}]}"
            ]
          },
          "metadata": {
            "tags": []
          },
          "execution_count": 267
        }
      ]
    },
    {
      "cell_type": "code",
      "metadata": {
        "id": "GZiiMNV_2xFG",
        "colab_type": "code",
        "colab": {},
        "cellView": "both"
      },
      "source": [
        "#@title\n"
      ],
      "execution_count": 0,
      "outputs": []
    },
    {
      "cell_type": "code",
      "metadata": {
        "id": "cR-ndaauafAV",
        "colab_type": "code",
        "outputId": "266c5da2-2073-4f52-95f4-8b06f44bd28e",
        "colab": {
          "base_uri": "https://localhost:8080/",
          "height": 35
        },
        "cellView": "both"
      },
      "source": [
        "#@title\n",
        "for i in fr2['translations']:\n",
        "  print(i['translatedText'])"
      ],
      "execution_count": 0,
      "outputs": [
        {
          "output_type": "stream",
          "text": [
            "PATH OF SCHOOLS\n"
          ],
          "name": "stdout"
        }
      ]
    },
    {
      "cell_type": "markdown",
      "metadata": {
        "id": "zkMYrq-wfbHC",
        "colab_type": "text"
      },
      "source": [
        "## Detecting Hand Writing"
      ]
    },
    {
      "cell_type": "markdown",
      "metadata": {
        "id": "q3vw6CkOdrBv",
        "colab_type": "text"
      },
      "source": [
        "![alt text](https://storage.cloud.google.com/achampiong_image/IMG_3422.JPG)"
      ]
    },
    {
      "cell_type": "code",
      "metadata": {
        "id": "Na8pqPRia6r_",
        "colab_type": "code",
        "outputId": "f08e897c-063a-4348-ef50-ab891355e873",
        "colab": {
          "base_uri": "https://localhost:8080/",
          "height": 375
        },
        "cellView": "both"
      },
      "source": [
        "#@title\n",
        "vservice = build('vision', 'v1', developerKey=APIKEY)\n",
        "request = vservice.images().annotate(body={\n",
        "        'requests': [{\n",
        "                'image': {'source': {'gcs_image_uri': \"gs://achampiong_image/IMG_3422.JPG\"}\n",
        "                },\n",
        "                'features': [{\n",
        "                    'type': 'DOCUMENT_TEXT_DETECTION',\n",
        "                    'maxResults': 3,\n",
        "                }]\n",
        "            }],\n",
        "        })\n",
        "responses = request.execute()\n",
        "print(responses)\n",
        "s =responses['responses'][0]['textAnnotations'][0]['locale']\n",
        "print(s)\n",
        "print(langs[s]+'\\n')\n",
        "g =responses['responses'][0]['textAnnotations'][0]['description']\n",
        "print(g)"
      ],
      "execution_count": 0,
      "outputs": [
        {
          "output_type": "stream",
          "text": [
            "{'responses': [{'textAnnotations': [{'locale': 'en', 'description': 'contamin\\nClean Code\\nTo Emmanuel\\nfrom Peber.\\nThere is no form\\nwithout function.\\nThere is no function\\nwithout form.\\nGood Luck with whatever\\nyou\\ndecide on.\\ncareer\\npath\\nAugust 2017\\n', 'boundingPoly': {'vertices': [{'x': 373, 'y': 271}, {'x': 3000, 'y': 271}, {'x': 3000, 'y': 2761}, {'x': 373, 'y': 2761}]}}, {'description': 'contamin', 'boundingPoly': {'vertices': [{'x': 2237, 'y': 271}, {'x': 2695, 'y': 442}, {'x': 2643, 'y': 582}, {'x': 2185, 'y': 412}]}}, {'description': 'Clean', 'boundingPoly': {'vertices': [{'x': 1680, 'y': 437}, {'x': 2020, 'y': 559}, {'x': 1950, 'y': 754}, {'x': 1610, 'y': 632}]}}, {'description': 'Code', 'boundingPoly': {'vertices': [{'x': 2112, 'y': 591}, {'x': 2441, 'y': 709}, {'x': 2371, 'y': 905}, {'x': 2042, 'y': 787}]}}, {'description': 'To', 'boundingPoly': {'vertices': [{'x': 883, 'y': 725}, {'x': 1057, 'y': 737}, {'x': 1043, 'y': 927}, {'x': 870, 'y': 915}]}}, {'description': 'Emmanuel', 'boundingPoly': {'vertices': [{'x': 1214, 'y': 748}, {'x': 1880, 'y': 795}, {'x': 1867, 'y': 984}, {'x': 1201, 'y': 938}]}}, {'description': 'from', 'boundingPoly': {'vertices': [{'x': 1020, 'y': 992}, {'x': 1324, 'y': 1012}, {'x': 1309, 'y': 1247}, {'x': 1005, 'y': 1227}]}}, {'description': 'Peber', 'boundingPoly': {'vertices': [{'x': 1467, 'y': 1021}, {'x': 1819, 'y': 1044}, {'x': 1804, 'y': 1280}, {'x': 1452, 'y': 1256}]}}, {'description': '.', 'boundingPoly': {'vertices': [{'x': 1863, 'y': 1047}, {'x': 1932, 'y': 1052}, {'x': 1916, 'y': 1286}, {'x': 1848, 'y': 1281}]}}, {'description': 'There', 'boundingPoly': {'vertices': [{'x': 571, 'y': 1277}, {'x': 986, 'y': 1295}, {'x': 977, 'y': 1495}, {'x': 562, 'y': 1477}]}}, {'description': 'is', 'boundingPoly': {'vertices': [{'x': 1118, 'y': 1301}, {'x': 1265, 'y': 1307}, {'x': 1256, 'y': 1506}, {'x': 1109, 'y': 1500}]}}, {'description': 'no', 'boundingPoly': {'vertices': [{'x': 1390, 'y': 1313}, {'x': 1573, 'y': 1321}, {'x': 1564, 'y': 1520}, {'x': 1381, 'y': 1512}]}}, {'description': 'form', 'boundingPoly': {'vertices': [{'x': 1706, 'y': 1325}, {'x': 1993, 'y': 1337}, {'x': 1984, 'y': 1537}, {'x': 1697, 'y': 1525}]}}, {'description': 'without', 'boundingPoly': {'vertices': [{'x': 872, 'y': 1499}, {'x': 1433, 'y': 1499}, {'x': 1433, 'y': 1684}, {'x': 872, 'y': 1684}]}}, {'description': 'function', 'boundingPoly': {'vertices': [{'x': 1650, 'y': 1499}, {'x': 2144, 'y': 1499}, {'x': 2144, 'y': 1684}, {'x': 1650, 'y': 1684}]}}, {'description': '.', 'boundingPoly': {'vertices': [{'x': 2213, 'y': 1499}, {'x': 2267, 'y': 1499}, {'x': 2267, 'y': 1684}, {'x': 2213, 'y': 1684}]}}, {'description': 'There', 'boundingPoly': {'vertices': [{'x': 534, 'y': 1721}, {'x': 920, 'y': 1713}, {'x': 924, 'y': 1899}, {'x': 538, 'y': 1907}]}}, {'description': 'is', 'boundingPoly': {'vertices': [{'x': 1070, 'y': 1710}, {'x': 1173, 'y': 1708}, {'x': 1177, 'y': 1894}, {'x': 1074, 'y': 1896}]}}, {'description': 'no', 'boundingPoly': {'vertices': [{'x': 1334, 'y': 1706}, {'x': 1504, 'y': 1703}, {'x': 1508, 'y': 1888}, {'x': 1338, 'y': 1891}]}}, {'description': 'function', 'boundingPoly': {'vertices': [{'x': 1659, 'y': 1699}, {'x': 2234, 'y': 1688}, {'x': 2238, 'y': 1874}, {'x': 1663, 'y': 1885}]}}, {'description': 'without', 'boundingPoly': {'vertices': [{'x': 831, 'y': 1913}, {'x': 1477, 'y': 1885}, {'x': 1486, 'y': 2074}, {'x': 839, 'y': 2103}]}}, {'description': 'form', 'boundingPoly': {'vertices': [{'x': 1719, 'y': 1874}, {'x': 1993, 'y': 1862}, {'x': 2001, 'y': 2052}, {'x': 1727, 'y': 2064}]}}, {'description': '.', 'boundingPoly': {'vertices': [{'x': 2039, 'y': 1860}, {'x': 2095, 'y': 1858}, {'x': 2103, 'y': 2046}, {'x': 2047, 'y': 2049}]}}, {'description': 'Good', 'boundingPoly': {'vertices': [{'x': 373, 'y': 2145}, {'x': 672, 'y': 2125}, {'x': 685, 'y': 2315}, {'x': 386, 'y': 2335}]}}, {'description': 'Luck', 'boundingPoly': {'vertices': [{'x': 884, 'y': 2110}, {'x': 1122, 'y': 2094}, {'x': 1135, 'y': 2285}, {'x': 897, 'y': 2301}]}}, {'description': 'with', 'boundingPoly': {'vertices': [{'x': 1352, 'y': 2079}, {'x': 1624, 'y': 2061}, {'x': 1637, 'y': 2251}, {'x': 1365, 'y': 2270}]}}, {'description': 'whatever', 'boundingPoly': {'vertices': [{'x': 1811, 'y': 2048}, {'x': 2409, 'y': 2008}, {'x': 2421, 'y': 2200}, {'x': 1824, 'y': 2240}]}}, {'description': 'you', 'boundingPoly': {'vertices': [{'x': 1818, 'y': 2217}, {'x': 2008, 'y': 2195}, {'x': 2030, 'y': 2384}, {'x': 1840, 'y': 2407}]}}, {'description': 'decide', 'boundingPoly': {'vertices': [{'x': 2209, 'y': 2171}, {'x': 2675, 'y': 2116}, {'x': 2697, 'y': 2305}, {'x': 2231, 'y': 2360}]}}, {'description': 'on', 'boundingPoly': {'vertices': [{'x': 2812, 'y': 2100}, {'x': 2915, 'y': 2088}, {'x': 2938, 'y': 2276}, {'x': 2834, 'y': 2289}]}}, {'description': '.', 'boundingPoly': {'vertices': [{'x': 2922, 'y': 2086}, {'x': 2978, 'y': 2079}, {'x': 3000, 'y': 2268}, {'x': 2944, 'y': 2275}]}}, {'description': 'career', 'boundingPoly': {'vertices': [{'x': 622, 'y': 2359}, {'x': 1076, 'y': 2305}, {'x': 1098, 'y': 2494}, {'x': 644, 'y': 2548}]}}, {'description': 'path', 'boundingPoly': {'vertices': [{'x': 1305, 'y': 2277}, {'x': 1569, 'y': 2246}, {'x': 1592, 'y': 2436}, {'x': 1328, 'y': 2468}]}}, {'description': 'August', 'boundingPoly': {'vertices': [{'x': 1866, 'y': 2533}, {'x': 2353, 'y': 2509}, {'x': 2365, 'y': 2737}, {'x': 1877, 'y': 2761}]}}, {'description': '2017', 'boundingPoly': {'vertices': [{'x': 2448, 'y': 2504}, {'x': 2775, 'y': 2488}, {'x': 2786, 'y': 2716}, {'x': 2459, 'y': 2732}]}}], 'fullTextAnnotation': {'pages': [{'property': {'detectedLanguages': [{'languageCode': 'en', 'confidence': 0.88}, {'languageCode': 'da', 'confidence': 0.07}, {'languageCode': 'es', 'confidence': 0.05}]}, 'width': 3024, 'height': 4032, 'blocks': [{'boundingBox': {'vertices': [{'x': 2237, 'y': 271}, {'x': 2695, 'y': 442}, {'x': 2643, 'y': 582}, {'x': 2185, 'y': 412}]}, 'paragraphs': [{'boundingBox': {'vertices': [{'x': 2237, 'y': 271}, {'x': 2695, 'y': 442}, {'x': 2643, 'y': 582}, {'x': 2185, 'y': 412}]}, 'words': [{'property': {'detectedLanguages': [{'languageCode': 'es'}]}, 'boundingBox': {'vertices': [{'x': 2237, 'y': 271}, {'x': 2695, 'y': 442}, {'x': 2643, 'y': 582}, {'x': 2185, 'y': 412}]}, 'symbols': [{'property': {'detectedLanguages': [{'languageCode': 'es'}]}, 'boundingBox': {'vertices': [{'x': 2237, 'y': 271}, {'x': 2274, 'y': 285}, {'x': 2222, 'y': 423}, {'x': 2185, 'y': 410}]}, 'text': 'c', 'confidence': 0.16}, {'property': {'detectedLanguages': [{'languageCode': 'es'}]}, 'boundingBox': {'vertices': [{'x': 2277, 'y': 287}, {'x': 2318, 'y': 302}, {'x': 2267, 'y': 441}, {'x': 2225, 'y': 426}]}, 'text': 'o', 'confidence': 0.14}, {'property': {'detectedLanguages': [{'languageCode': 'es'}]}, 'boundingBox': {'vertices': [{'x': 2333, 'y': 308}, {'x': 2374, 'y': 323}, {'x': 2323, 'y': 462}, {'x': 2281, 'y': 447}]}, 'text': 'n', 'confidence': 0.09}, {'property': {'detectedLanguages': [{'languageCode': 'es'}]}, 'boundingBox': {'vertices': [{'x': 2378, 'y': 325}, {'x': 2414, 'y': 338}, {'x': 2362, 'y': 477}, {'x': 2326, 'y': 464}]}, 'text': 't', 'confidence': 0.19}, {'property': {'detectedLanguages': [{'languageCode': 'es'}]}, 'boundingBox': {'vertices': [{'x': 2401, 'y': 332}, {'x': 2476, 'y': 360}, {'x': 2424, 'y': 499}, {'x': 2349, 'y': 471}]}, 'text': 'a', 'confidence': 0.19}, {'property': {'detectedLanguages': [{'languageCode': 'es'}]}, 'boundingBox': {'vertices': [{'x': 2539, 'y': 384}, {'x': 2620, 'y': 414}, {'x': 2568, 'y': 553}, {'x': 2487, 'y': 523}]}, 'text': 'm', 'confidence': 0.35}, {'property': {'detectedLanguages': [{'languageCode': 'es'}]}, 'boundingBox': {'vertices': [{'x': 2614, 'y': 413}, {'x': 2655, 'y': 428}, {'x': 2604, 'y': 567}, {'x': 2562, 'y': 552}]}, 'text': 'i', 'confidence': 0.14}, {'property': {'detectedLanguages': [{'languageCode': 'es'}], 'detectedBreak': {'type': 'LINE_BREAK'}}, 'boundingBox': {'vertices': [{'x': 2659, 'y': 429}, {'x': 2695, 'y': 442}, {'x': 2643, 'y': 581}, {'x': 2607, 'y': 568}]}, 'text': 'n', 'confidence': 0.12}], 'confidence': 0.17}], 'confidence': 0.17}], 'blockType': 'TEXT', 'confidence': 0.17}, {'boundingBox': {'vertices': [{'x': 1680, 'y': 436}, {'x': 2442, 'y': 709}, {'x': 2371, 'y': 905}, {'x': 1610, 'y': 632}]}, 'paragraphs': [{'boundingBox': {'vertices': [{'x': 1680, 'y': 436}, {'x': 2442, 'y': 709}, {'x': 2371, 'y': 905}, {'x': 1610, 'y': 632}]}, 'words': [{'property': {'detectedLanguages': [{'languageCode': 'en'}]}, 'boundingBox': {'vertices': [{'x': 1680, 'y': 437}, {'x': 2020, 'y': 559}, {'x': 1950, 'y': 754}, {'x': 1610, 'y': 632}]}, 'symbols': [{'property': {'detectedLanguages': [{'languageCode': 'en'}]}, 'boundingBox': {'vertices': [{'x': 1680, 'y': 437}, {'x': 1745, 'y': 460}, {'x': 1675, 'y': 655}, {'x': 1610, 'y': 632}]}, 'text': 'C', 'confidence': 0.96}, {'property': {'detectedLanguages': [{'languageCode': 'en'}]}, 'boundingBox': {'vertices': [{'x': 1762, 'y': 466}, {'x': 1820, 'y': 487}, {'x': 1751, 'y': 682}, {'x': 1692, 'y': 661}]}, 'text': 'l', 'confidence': 0.96}, {'property': {'detectedLanguages': [{'languageCode': 'en'}]}, 'boundingBox': {'vertices': [{'x': 1826, 'y': 489}, {'x': 1877, 'y': 507}, {'x': 1807, 'y': 702}, {'x': 1756, 'y': 684}]}, 'text': 'e', 'confidence': 0.96}, {'property': {'detectedLanguages': [{'languageCode': 'en'}]}, 'boundingBox': {'vertices': [{'x': 1881, 'y': 509}, {'x': 1938, 'y': 530}, {'x': 1869, 'y': 724}, {'x': 1811, 'y': 704}]}, 'text': 'a', 'confidence': 0.97}, {'property': {'detectedLanguages': [{'languageCode': 'en'}], 'detectedBreak': {'type': 'SPACE'}}, 'boundingBox': {'vertices': [{'x': 1955, 'y': 536}, {'x': 2020, 'y': 559}, {'x': 1950, 'y': 754}, {'x': 1885, 'y': 731}]}, 'text': 'n', 'confidence': 0.97}], 'confidence': 0.96}, {'property': {'detectedLanguages': [{'languageCode': 'en'}]}, 'boundingBox': {'vertices': [{'x': 2112, 'y': 591}, {'x': 2441, 'y': 709}, {'x': 2371, 'y': 905}, {'x': 2042, 'y': 787}]}, 'symbols': [{'property': {'detectedLanguages': [{'languageCode': 'en'}]}, 'boundingBox': {'vertices': [{'x': 2112, 'y': 591}, {'x': 2178, 'y': 615}, {'x': 2108, 'y': 809}, {'x': 2042, 'y': 786}]}, 'text': 'C', 'confidence': 0.96}, {'property': {'detectedLanguages': [{'languageCode': 'en'}]}, 'boundingBox': {'vertices': [{'x': 2191, 'y': 620}, {'x': 2257, 'y': 644}, {'x': 2187, 'y': 838}, {'x': 2121, 'y': 815}]}, 'text': 'o', 'confidence': 0.98}, {'property': {'detectedLanguages': [{'languageCode': 'en'}]}, 'boundingBox': {'vertices': [{'x': 2266, 'y': 647}, {'x': 2339, 'y': 673}, {'x': 2270, 'y': 868}, {'x': 2196, 'y': 842}]}, 'text': 'd', 'confidence': 0.99}, {'property': {'detectedLanguages': [{'languageCode': 'en'}], 'detectedBreak': {'type': 'LINE_BREAK'}}, 'boundingBox': {'vertices': [{'x': 2360, 'y': 681}, {'x': 2441, 'y': 710}, {'x': 2371, 'y': 905}, {'x': 2290, 'y': 876}]}, 'text': 'e', 'confidence': 0.97}], 'confidence': 0.97}], 'confidence': 0.96}], 'blockType': 'TEXT', 'confidence': 0.96}, {'boundingBox': {'vertices': [{'x': 605, 'y': 708}, {'x': 2030, 'y': 796}, {'x': 1983, 'y': 1564}, {'x': 558, 'y': 1477}]}, 'paragraphs': [{'boundingBox': {'vertices': [{'x': 883, 'y': 725}, {'x': 1881, 'y': 795}, {'x': 1867, 'y': 985}, {'x': 870, 'y': 915}]}, 'words': [{'property': {'detectedLanguages': [{'languageCode': 'en'}]}, 'boundingBox': {'vertices': [{'x': 883, 'y': 725}, {'x': 1057, 'y': 737}, {'x': 1043, 'y': 927}, {'x': 870, 'y': 915}]}, 'symbols': [{'property': {'detectedLanguages': [{'languageCode': 'en'}]}, 'boundingBox': {'vertices': [{'x': 883, 'y': 725}, {'x': 962, 'y': 731}, {'x': 948, 'y': 920}, {'x': 870, 'y': 915}]}, 'text': 'T', 'confidence': 0.92}, {'property': {'detectedLanguages': [{'languageCode': 'en'}], 'detectedBreak': {'type': 'SPACE'}}, 'boundingBox': {'vertices': [{'x': 978, 'y': 732}, {'x': 1057, 'y': 738}, {'x': 1043, 'y': 927}, {'x': 965, 'y': 922}]}, 'text': 'o', 'confidence': 0.77}], 'confidence': 0.84}, {'property': {'detectedLanguages': [{'languageCode': 'en'}]}, 'boundingBox': {'vertices': [{'x': 1214, 'y': 748}, {'x': 1880, 'y': 795}, {'x': 1867, 'y': 984}, {'x': 1201, 'y': 938}]}, 'symbols': [{'property': {'detectedLanguages': [{'languageCode': 'en'}]}, 'boundingBox': {'vertices': [{'x': 1214, 'y': 748}, {'x': 1278, 'y': 752}, {'x': 1264, 'y': 942}, {'x': 1201, 'y': 938}]}, 'text': 'E', 'confidence': 0.92}, {'property': {'detectedLanguages': [{'languageCode': 'en'}]}, 'boundingBox': {'vertices': [{'x': 1284, 'y': 753}, {'x': 1363, 'y': 759}, {'x': 1349, 'y': 948}, {'x': 1271, 'y': 943}]}, 'text': 'm', 'confidence': 0.94}, {'property': {'detectedLanguages': [{'languageCode': 'en'}]}, 'boundingBox': {'vertices': [{'x': 1393, 'y': 761}, {'x': 1479, 'y': 767}, {'x': 1465, 'y': 957}, {'x': 1380, 'y': 951}]}, 'text': 'm', 'confidence': 0.93}, {'property': {'detectedLanguages': [{'languageCode': 'en'}]}, 'boundingBox': {'vertices': [{'x': 1496, 'y': 768}, {'x': 1568, 'y': 773}, {'x': 1554, 'y': 963}, {'x': 1483, 'y': 958}]}, 'text': 'a', 'confidence': 0.95}, {'property': {'detectedLanguages': [{'languageCode': 'en'}]}, 'boundingBox': {'vertices': [{'x': 1572, 'y': 773}, {'x': 1644, 'y': 778}, {'x': 1630, 'y': 968}, {'x': 1559, 'y': 963}]}, 'text': 'n', 'confidence': 0.98}, {'property': {'detectedLanguages': [{'languageCode': 'en'}]}, 'boundingBox': {'vertices': [{'x': 1664, 'y': 780}, {'x': 1744, 'y': 786}, {'x': 1730, 'y': 975}, {'x': 1651, 'y': 970}]}, 'text': 'u', 'confidence': 0.96}, {'property': {'detectedLanguages': [{'languageCode': 'en'}]}, 'boundingBox': {'vertices': [{'x': 1768, 'y': 787}, {'x': 1832, 'y': 791}, {'x': 1818, 'y': 981}, {'x': 1755, 'y': 977}]}, 'text': 'e', 'confidence': 0.95}, {'property': {'detectedLanguages': [{'languageCode': 'en'}], 'detectedBreak': {'type': 'LINE_BREAK'}}, 'boundingBox': {'vertices': [{'x': 1832, 'y': 792}, {'x': 1880, 'y': 795}, {'x': 1867, 'y': 985}, {'x': 1819, 'y': 982}]}, 'text': 'l', 'confidence': 1}], 'confidence': 0.95}], 'confidence': 0.93}, {'boundingBox': {'vertices': [{'x': 588, 'y': 969}, {'x': 2010, 'y': 1044}, {'x': 1983, 'y': 1551}, {'x': 561, 'y': 1476}]}, 'words': [{'property': {'detectedLanguages': [{'languageCode': 'da'}]}, 'boundingBox': {'vertices': [{'x': 1020, 'y': 992}, {'x': 1324, 'y': 1012}, {'x': 1309, 'y': 1247}, {'x': 1005, 'y': 1227}]}, 'symbols': [{'property': {'detectedLanguages': [{'languageCode': 'da'}]}, 'boundingBox': {'vertices': [{'x': 1020, 'y': 993}, {'x': 1080, 'y': 997}, {'x': 1064, 'y': 1231}, {'x': 1005, 'y': 1227}]}, 'text': 'f', 'confidence': 0.98}, {'property': {'detectedLanguages': [{'languageCode': 'da'}]}, 'boundingBox': {'vertices': [{'x': 1090, 'y': 997}, {'x': 1150, 'y': 1001}, {'x': 1134, 'y': 1235}, {'x': 1075, 'y': 1231}]}, 'text': 'r', 'confidence': 0.96}, {'property': {'detectedLanguages': [{'languageCode': 'da'}]}, 'boundingBox': {'vertices': [{'x': 1155, 'y': 1001}, {'x': 1225, 'y': 1006}, {'x': 1209, 'y': 1240}, {'x': 1140, 'y': 1235}]}, 'text': 'o', 'confidence': 0.99}, {'property': {'detectedLanguages': [{'languageCode': 'da'}], 'detectedBreak': {'type': 'SPACE'}}, 'boundingBox': {'vertices': [{'x': 1245, 'y': 1007}, {'x': 1325, 'y': 1012}, {'x': 1309, 'y': 1247}, {'x': 1230, 'y': 1241}]}, 'text': 'm', 'confidence': 1}], 'confidence': 0.98}, {'property': {'detectedLanguages': [{'languageCode': 'da'}]}, 'boundingBox': {'vertices': [{'x': 1467, 'y': 1021}, {'x': 1819, 'y': 1044}, {'x': 1804, 'y': 1280}, {'x': 1452, 'y': 1256}]}, 'symbols': [{'property': {'detectedLanguages': [{'languageCode': 'da'}]}, 'boundingBox': {'vertices': [{'x': 1467, 'y': 1022}, {'x': 1527, 'y': 1026}, {'x': 1511, 'y': 1260}, {'x': 1452, 'y': 1256}]}, 'text': 'P', 'confidence': 0.97}, {'property': {'detectedLanguages': [{'languageCode': 'da'}]}, 'boundingBox': {'vertices': [{'x': 1543, 'y': 1027}, {'x': 1593, 'y': 1030}, {'x': 1578, 'y': 1265}, {'x': 1528, 'y': 1261}]}, 'text': 'e', 'confidence': 0.96}, {'property': {'detectedLanguages': [{'languageCode': 'da'}]}, 'boundingBox': {'vertices': [{'x': 1589, 'y': 1030}, {'x': 1639, 'y': 1033}, {'x': 1624, 'y': 1268}, {'x': 1574, 'y': 1264}]}, 'text': 'b', 'confidence': 0.79}, {'property': {'detectedLanguages': [{'languageCode': 'da'}]}, 'boundingBox': {'vertices': [{'x': 1650, 'y': 1033}, {'x': 1720, 'y': 1038}, {'x': 1704, 'y': 1272}, {'x': 1635, 'y': 1267}]}, 'text': 'e', 'confidence': 0.87}, {'property': {'detectedLanguages': [{'languageCode': 'da'}]}, 'boundingBox': {'vertices': [{'x': 1740, 'y': 1040}, {'x': 1819, 'y': 1045}, {'x': 1803, 'y': 1280}, {'x': 1725, 'y': 1274}]}, 'text': 'r', 'confidence': 0.91}], 'confidence': 0.9}, {'property': {'detectedLanguages': [{'languageCode': 'da'}]}, 'boundingBox': {'vertices': [{'x': 1863, 'y': 1047}, {'x': 1932, 'y': 1052}, {'x': 1916, 'y': 1286}, {'x': 1848, 'y': 1281}]}, 'symbols': [{'property': {'detectedLanguages': [{'languageCode': 'da'}], 'detectedBreak': {'type': 'EOL_SURE_SPACE'}}, 'boundingBox': {'vertices': [{'x': 1863, 'y': 1047}, {'x': 1932, 'y': 1052}, {'x': 1916, 'y': 1286}, {'x': 1848, 'y': 1281}]}, 'text': '.', 'confidence': 0.9}], 'confidence': 0.9}, {'property': {'detectedLanguages': [{'languageCode': 'en'}]}, 'boundingBox': {'vertices': [{'x': 571, 'y': 1277}, {'x': 986, 'y': 1295}, {'x': 977, 'y': 1495}, {'x': 562, 'y': 1477}]}, 'symbols': [{'property': {'detectedLanguages': [{'languageCode': 'en'}]}, 'boundingBox': {'vertices': [{'x': 571, 'y': 1277}, {'x': 654, 'y': 1281}, {'x': 645, 'y': 1479}, {'x': 562, 'y': 1476}]}, 'text': 'T', 'confidence': 0.91}, {'property': {'detectedLanguages': [{'languageCode': 'en'}]}, 'boundingBox': {'vertices': [{'x': 671, 'y': 1282}, {'x': 754, 'y': 1286}, {'x': 745, 'y': 1484}, {'x': 662, 'y': 1481}]}, 'text': 'h', 'confidence': 0.98}, {'property': {'detectedLanguages': [{'languageCode': 'en'}]}, 'boundingBox': {'vertices': [{'x': 779, 'y': 1286}, {'x': 846, 'y': 1289}, {'x': 837, 'y': 1488}, {'x': 770, 'y': 1485}]}, 'text': 'e', 'confidence': 0.99}, {'property': {'detectedLanguages': [{'languageCode': 'en'}]}, 'boundingBox': {'vertices': [{'x': 843, 'y': 1289}, {'x': 902, 'y': 1292}, {'x': 893, 'y': 1490}, {'x': 834, 'y': 1488}]}, 'text': 'r', 'confidence': 0.98}, {'property': {'detectedLanguages': [{'languageCode': 'en'}], 'detectedBreak': {'type': 'SPACE'}}, 'boundingBox': {'vertices': [{'x': 919, 'y': 1292}, {'x': 986, 'y': 1295}, {'x': 977, 'y': 1494}, {'x': 910, 'y': 1491}]}, 'text': 'e', 'confidence': 0.98}], 'confidence': 0.96}, {'property': {'detectedLanguages': [{'languageCode': 'en'}]}, 'boundingBox': {'vertices': [{'x': 1118, 'y': 1301}, {'x': 1265, 'y': 1307}, {'x': 1256, 'y': 1506}, {'x': 1109, 'y': 1500}]}, 'symbols': [{'property': {'detectedLanguages': [{'languageCode': 'en'}]}, 'boundingBox': {'vertices': [{'x': 1118, 'y': 1301}, {'x': 1185, 'y': 1304}, {'x': 1176, 'y': 1503}, {'x': 1109, 'y': 1500}]}, 'text': 'i', 'confidence': 0.99}, {'property': {'detectedLanguages': [{'languageCode': 'en'}], 'detectedBreak': {'type': 'SPACE'}}, 'boundingBox': {'vertices': [{'x': 1198, 'y': 1304}, {'x': 1265, 'y': 1307}, {'x': 1256, 'y': 1506}, {'x': 1189, 'y': 1503}]}, 'text': 's', 'confidence': 0.99}], 'confidence': 0.99}, {'property': {'detectedLanguages': [{'languageCode': 'en'}]}, 'boundingBox': {'vertices': [{'x': 1390, 'y': 1313}, {'x': 1573, 'y': 1321}, {'x': 1564, 'y': 1520}, {'x': 1381, 'y': 1512}]}, 'symbols': [{'property': {'detectedLanguages': [{'languageCode': 'en'}]}, 'boundingBox': {'vertices': [{'x': 1390, 'y': 1313}, {'x': 1473, 'y': 1317}, {'x': 1464, 'y': 1515}, {'x': 1381, 'y': 1512}]}, 'text': 'n', 'confidence': 1}, {'property': {'detectedLanguages': [{'languageCode': 'en'}], 'detectedBreak': {'type': 'SPACE'}}, 'boundingBox': {'vertices': [{'x': 1490, 'y': 1317}, {'x': 1573, 'y': 1321}, {'x': 1564, 'y': 1519}, {'x': 1481, 'y': 1516}]}, 'text': 'o', 'confidence': 1}], 'confidence': 1}, {'property': {'detectedLanguages': [{'languageCode': 'en'}]}, 'boundingBox': {'vertices': [{'x': 1706, 'y': 1325}, {'x': 1993, 'y': 1337}, {'x': 1984, 'y': 1537}, {'x': 1697, 'y': 1525}]}, 'symbols': [{'property': {'detectedLanguages': [{'languageCode': 'en'}]}, 'boundingBox': {'vertices': [{'x': 1706, 'y': 1326}, {'x': 1757, 'y': 1328}, {'x': 1748, 'y': 1527}, {'x': 1697, 'y': 1525}]}, 'text': 'f', 'confidence': 0.98}, {'property': {'detectedLanguages': [{'languageCode': 'en'}]}, 'boundingBox': {'vertices': [{'x': 1766, 'y': 1328}, {'x': 1817, 'y': 1330}, {'x': 1808, 'y': 1529}, {'x': 1757, 'y': 1527}]}, 'text': 'o', 'confidence': 0.94}, {'property': {'detectedLanguages': [{'languageCode': 'en'}]}, 'boundingBox': {'vertices': [{'x': 1818, 'y': 1331}, {'x': 1885, 'y': 1334}, {'x': 1876, 'y': 1533}, {'x': 1809, 'y': 1530}]}, 'text': 'r', 'confidence': 1}, {'property': {'detectedLanguages': [{'languageCode': 'en'}], 'detectedBreak': {'type': 'LINE_BREAK'}}, 'boundingBox': {'vertices': [{'x': 1910, 'y': 1335}, {'x': 1993, 'y': 1339}, {'x': 1984, 'y': 1537}, {'x': 1901, 'y': 1534}]}, 'text': 'm', 'confidence': 0.99}], 'confidence': 0.97}], 'confidence': 0.95}], 'blockType': 'TEXT', 'confidence': 0.95}, {'boundingBox': {'vertices': [{'x': 362, 'y': 1499}, {'x': 2423, 'y': 1499}, {'x': 2423, 'y': 2335}, {'x': 362, 'y': 2335}]}, 'paragraphs': [{'boundingBox': {'vertices': [{'x': 534, 'y': 1499}, {'x': 2267, 'y': 1499}, {'x': 2267, 'y': 1907}, {'x': 534, 'y': 1907}]}, 'words': [{'property': {'detectedLanguages': [{'languageCode': 'en'}]}, 'boundingBox': {'vertices': [{'x': 872, 'y': 1499}, {'x': 1433, 'y': 1499}, {'x': 1433, 'y': 1684}, {'x': 872, 'y': 1684}]}, 'symbols': [{'property': {'detectedLanguages': [{'languageCode': 'en'}]}, 'boundingBox': {'vertices': [{'x': 872, 'y': 1499}, {'x': 964, 'y': 1499}, {'x': 964, 'y': 1684}, {'x': 872, 'y': 1684}]}, 'text': 'w', 'confidence': 0.97}, {'property': {'detectedLanguages': [{'languageCode': 'en'}]}, 'boundingBox': {'vertices': [{'x': 995, 'y': 1499}, {'x': 1065, 'y': 1499}, {'x': 1065, 'y': 1684}, {'x': 995, 'y': 1684}]}, 'text': 'i', 'confidence': 0.99}, {'property': {'detectedLanguages': [{'languageCode': 'en'}]}, 'boundingBox': {'vertices': [{'x': 1059, 'y': 1499}, {'x': 1114, 'y': 1499}, {'x': 1114, 'y': 1684}, {'x': 1059, 'y': 1684}]}, 'text': 't', 'confidence': 0.99}, {'property': {'detectedLanguages': [{'languageCode': 'en'}]}, 'boundingBox': {'vertices': [{'x': 1122, 'y': 1499}, {'x': 1199, 'y': 1499}, {'x': 1199, 'y': 1684}, {'x': 1122, 'y': 1684}]}, 'text': 'h', 'confidence': 1}, {'property': {'detectedLanguages': [{'languageCode': 'en'}]}, 'boundingBox': {'vertices': [{'x': 1237, 'y': 1499}, {'x': 1307, 'y': 1499}, {'x': 1307, 'y': 1684}, {'x': 1237, 'y': 1684}]}, 'text': 'o', 'confidence': 0.83}, {'property': {'detectedLanguages': [{'languageCode': 'en'}]}, 'boundingBox': {'vertices': [{'x': 1301, 'y': 1499}, {'x': 1356, 'y': 1499}, {'x': 1356, 'y': 1684}, {'x': 1301, 'y': 1684}]}, 'text': 'u', 'confidence': 0.85}, {'property': {'detectedLanguages': [{'languageCode': 'en'}], 'detectedBreak': {'type': 'SPACE'}}, 'boundingBox': {'vertices': [{'x': 1371, 'y': 1499}, {'x': 1433, 'y': 1499}, {'x': 1433, 'y': 1684}, {'x': 1371, 'y': 1684}]}, 'text': 't', 'confidence': 0.98}], 'confidence': 0.94}, {'property': {'detectedLanguages': [{'languageCode': 'en'}]}, 'boundingBox': {'vertices': [{'x': 1650, 'y': 1499}, {'x': 2144, 'y': 1499}, {'x': 2144, 'y': 1684}, {'x': 1650, 'y': 1684}]}, 'symbols': [{'property': {'detectedLanguages': [{'languageCode': 'en'}]}, 'boundingBox': {'vertices': [{'x': 1650, 'y': 1499}, {'x': 1713, 'y': 1499}, {'x': 1713, 'y': 1684}, {'x': 1650, 'y': 1684}]}, 'text': 'f', 'confidence': 0.97}, {'property': {'detectedLanguages': [{'languageCode': 'en'}]}, 'boundingBox': {'vertices': [{'x': 1725, 'y': 1499}, {'x': 1787, 'y': 1499}, {'x': 1787, 'y': 1684}, {'x': 1725, 'y': 1684}]}, 'text': 'u', 'confidence': 0.97}, {'property': {'detectedLanguages': [{'languageCode': 'en'}]}, 'boundingBox': {'vertices': [{'x': 1796, 'y': 1499}, {'x': 1865, 'y': 1499}, {'x': 1865, 'y': 1684}, {'x': 1796, 'y': 1684}]}, 'text': 'n', 'confidence': 0.97}, {'property': {'detectedLanguages': [{'languageCode': 'en'}]}, 'boundingBox': {'vertices': [{'x': 1892, 'y': 1499}, {'x': 1954, 'y': 1499}, {'x': 1954, 'y': 1684}, {'x': 1892, 'y': 1684}]}, 'text': 'c', 'confidence': 0.97}, {'property': {'detectedLanguages': [{'languageCode': 'en'}]}, 'boundingBox': {'vertices': [{'x': 1956, 'y': 1499}, {'x': 2003, 'y': 1499}, {'x': 2003, 'y': 1684}, {'x': 1956, 'y': 1684}]}, 'text': 't', 'confidence': 0.94}, {'property': {'detectedLanguages': [{'languageCode': 'en'}]}, 'boundingBox': {'vertices': [{'x': 2012, 'y': 1499}, {'x': 2059, 'y': 1499}, {'x': 2059, 'y': 1684}, {'x': 2012, 'y': 1684}]}, 'text': 'i', 'confidence': 0.99}, {'property': {'detectedLanguages': [{'languageCode': 'en'}]}, 'boundingBox': {'vertices': [{'x': 2071, 'y': 1499}, {'x': 2111, 'y': 1499}, {'x': 2111, 'y': 1684}, {'x': 2071, 'y': 1684}]}, 'text': 'o', 'confidence': 1}, {'property': {'detectedLanguages': [{'languageCode': 'en'}]}, 'boundingBox': {'vertices': [{'x': 2112, 'y': 1499}, {'x': 2144, 'y': 1499}, {'x': 2144, 'y': 1684}, {'x': 2112, 'y': 1684}]}, 'text': 'n', 'confidence': 1}], 'confidence': 0.97}, {'property': {'detectedLanguages': [{'languageCode': 'en'}]}, 'boundingBox': {'vertices': [{'x': 2213, 'y': 1499}, {'x': 2267, 'y': 1499}, {'x': 2267, 'y': 1684}, {'x': 2213, 'y': 1684}]}, 'symbols': [{'property': {'detectedLanguages': [{'languageCode': 'en'}], 'detectedBreak': {'type': 'EOL_SURE_SPACE'}}, 'boundingBox': {'vertices': [{'x': 2213, 'y': 1499}, {'x': 2267, 'y': 1499}, {'x': 2267, 'y': 1684}, {'x': 2213, 'y': 1684}]}, 'text': '.', 'confidence': 0.98}], 'confidence': 0.98}, {'property': {'detectedLanguages': [{'languageCode': 'en'}]}, 'boundingBox': {'vertices': [{'x': 534, 'y': 1721}, {'x': 920, 'y': 1713}, {'x': 924, 'y': 1899}, {'x': 538, 'y': 1907}]}, 'symbols': [{'property': {'detectedLanguages': [{'languageCode': 'en'}]}, 'boundingBox': {'vertices': [{'x': 534, 'y': 1722}, {'x': 611, 'y': 1720}, {'x': 615, 'y': 1905}, {'x': 538, 'y': 1907}]}, 'text': 'T', 'confidence': 0.99}, {'property': {'detectedLanguages': [{'languageCode': 'en'}]}, 'boundingBox': {'vertices': [{'x': 627, 'y': 1720}, {'x': 704, 'y': 1718}, {'x': 708, 'y': 1903}, {'x': 631, 'y': 1905}]}, 'text': 'h', 'confidence': 1}, {'property': {'detectedLanguages': [{'languageCode': 'en'}]}, 'boundingBox': {'vertices': [{'x': 728, 'y': 1717}, {'x': 790, 'y': 1716}, {'x': 794, 'y': 1901}, {'x': 732, 'y': 1902}]}, 'text': 'e', 'confidence': 1}, {'property': {'detectedLanguages': [{'languageCode': 'en'}]}, 'boundingBox': {'vertices': [{'x': 787, 'y': 1716}, {'x': 842, 'y': 1715}, {'x': 846, 'y': 1900}, {'x': 791, 'y': 1901}]}, 'text': 'r', 'confidence': 0.99}, {'property': {'detectedLanguages': [{'languageCode': 'en'}], 'detectedBreak': {'type': 'SPACE'}}, 'boundingBox': {'vertices': [{'x': 858, 'y': 1715}, {'x': 920, 'y': 1714}, {'x': 924, 'y': 1899}, {'x': 862, 'y': 1900}]}, 'text': 'e', 'confidence': 1}], 'confidence': 0.99}, {'property': {'detectedLanguages': [{'languageCode': 'en'}]}, 'boundingBox': {'vertices': [{'x': 1070, 'y': 1710}, {'x': 1173, 'y': 1708}, {'x': 1177, 'y': 1894}, {'x': 1074, 'y': 1896}]}, 'symbols': [{'property': {'detectedLanguages': [{'languageCode': 'en'}]}, 'boundingBox': {'vertices': [{'x': 1070, 'y': 1711}, {'x': 1117, 'y': 1710}, {'x': 1121, 'y': 1895}, {'x': 1074, 'y': 1896}]}, 'text': 'i', 'confidence': 1}, {'property': {'detectedLanguages': [{'languageCode': 'en'}], 'detectedBreak': {'type': 'SPACE'}}, 'boundingBox': {'vertices': [{'x': 1126, 'y': 1709}, {'x': 1173, 'y': 1708}, {'x': 1177, 'y': 1893}, {'x': 1130, 'y': 1894}]}, 'text': 's', 'confidence': 1}], 'confidence': 1}, {'property': {'detectedLanguages': [{'languageCode': 'en'}]}, 'boundingBox': {'vertices': [{'x': 1334, 'y': 1706}, {'x': 1504, 'y': 1703}, {'x': 1508, 'y': 1888}, {'x': 1338, 'y': 1891}]}, 'symbols': [{'property': {'detectedLanguages': [{'languageCode': 'en'}]}, 'boundingBox': {'vertices': [{'x': 1334, 'y': 1706}, {'x': 1411, 'y': 1704}, {'x': 1415, 'y': 1889}, {'x': 1338, 'y': 1891}]}, 'text': 'n', 'confidence': 1}, {'property': {'detectedLanguages': [{'languageCode': 'en'}], 'detectedBreak': {'type': 'SPACE'}}, 'boundingBox': {'vertices': [{'x': 1427, 'y': 1704}, {'x': 1504, 'y': 1702}, {'x': 1508, 'y': 1887}, {'x': 1431, 'y': 1889}]}, 'text': 'o', 'confidence': 1}], 'confidence': 1}, {'property': {'detectedLanguages': [{'languageCode': 'en'}]}, 'boundingBox': {'vertices': [{'x': 1659, 'y': 1699}, {'x': 2234, 'y': 1688}, {'x': 2238, 'y': 1874}, {'x': 1663, 'y': 1885}]}, 'symbols': [{'property': {'detectedLanguages': [{'languageCode': 'en'}]}, 'boundingBox': {'vertices': [{'x': 1659, 'y': 1699}, {'x': 1721, 'y': 1698}, {'x': 1725, 'y': 1883}, {'x': 1663, 'y': 1884}]}, 'text': 'f', 'confidence': 0.98}, {'property': {'detectedLanguages': [{'languageCode': 'en'}]}, 'boundingBox': {'vertices': [{'x': 1729, 'y': 1698}, {'x': 1798, 'y': 1697}, {'x': 1802, 'y': 1882}, {'x': 1733, 'y': 1883}]}, 'text': 'u', 'confidence': 0.98}, {'property': {'detectedLanguages': [{'languageCode': 'en'}]}, 'boundingBox': {'vertices': [{'x': 1818, 'y': 1697}, {'x': 1895, 'y': 1695}, {'x': 1899, 'y': 1880}, {'x': 1822, 'y': 1882}]}, 'text': 'n', 'confidence': 1}, {'property': {'detectedLanguages': [{'languageCode': 'en'}]}, 'boundingBox': {'vertices': [{'x': 1915, 'y': 1695}, {'x': 1985, 'y': 1694}, {'x': 1989, 'y': 1879}, {'x': 1919, 'y': 1880}]}, 'text': 'c', 'confidence': 1}, {'property': {'detectedLanguages': [{'languageCode': 'en'}]}, 'boundingBox': {'vertices': [{'x': 1994, 'y': 1692}, {'x': 2056, 'y': 1691}, {'x': 2060, 'y': 1876}, {'x': 1998, 'y': 1877}]}, 'text': 't', 'confidence': 0.98}, {'property': {'detectedLanguages': [{'languageCode': 'en'}]}, 'boundingBox': {'vertices': [{'x': 2071, 'y': 1691}, {'x': 2126, 'y': 1690}, {'x': 2130, 'y': 1875}, {'x': 2075, 'y': 1876}]}, 'text': 'i', 'confidence': 1}, {'property': {'detectedLanguages': [{'languageCode': 'en'}]}, 'boundingBox': {'vertices': [{'x': 2131, 'y': 1690}, {'x': 2178, 'y': 1689}, {'x': 2182, 'y': 1874}, {'x': 2135, 'y': 1875}]}, 'text': 'o', 'confidence': 1}, {'property': {'detectedLanguages': [{'languageCode': 'en'}], 'detectedBreak': {'type': 'LINE_BREAK'}}, 'boundingBox': {'vertices': [{'x': 2187, 'y': 1689}, {'x': 2234, 'y': 1688}, {'x': 2238, 'y': 1873}, {'x': 2191, 'y': 1874}]}, 'text': 'n', 'confidence': 0.99}], 'confidence': 0.99}], 'confidence': 0.97}, {'boundingBox': {'vertices': [{'x': 362, 'y': 1940}, {'x': 2401, 'y': 1824}, {'x': 2423, 'y': 2219}, {'x': 385, 'y': 2335}]}, 'words': [{'property': {'detectedLanguages': [{'languageCode': 'en'}]}, 'boundingBox': {'vertices': [{'x': 831, 'y': 1913}, {'x': 1477, 'y': 1885}, {'x': 1486, 'y': 2074}, {'x': 839, 'y': 2103}]}, 'symbols': [{'property': {'detectedLanguages': [{'languageCode': 'en'}]}, 'boundingBox': {'vertices': [{'x': 831, 'y': 1913}, {'x': 940, 'y': 1908}, {'x': 948, 'y': 2097}, {'x': 839, 'y': 2102}]}, 'text': 'w', 'confidence': 0.98}, {'property': {'detectedLanguages': [{'languageCode': 'en'}]}, 'boundingBox': {'vertices': [{'x': 971, 'y': 1907}, {'x': 1065, 'y': 1903}, {'x': 1073, 'y': 2092}, {'x': 979, 'y': 2096}]}, 'text': 'i', 'confidence': 0.99}, {'property': {'detectedLanguages': [{'languageCode': 'en'}]}, 'boundingBox': {'vertices': [{'x': 1079, 'y': 1902}, {'x': 1150, 'y': 1899}, {'x': 1158, 'y': 2088}, {'x': 1087, 'y': 2091}]}, 'text': 't', 'confidence': 0.99}, {'property': {'detectedLanguages': [{'languageCode': 'en'}]}, 'boundingBox': {'vertices': [{'x': 1154, 'y': 1899}, {'x': 1225, 'y': 1896}, {'x': 1233, 'y': 2085}, {'x': 1162, 'y': 2088}]}, 'text': 'h', 'confidence': 1}, {'property': {'detectedLanguages': [{'languageCode': 'en'}]}, 'boundingBox': {'vertices': [{'x': 1253, 'y': 1895}, {'x': 1317, 'y': 1892}, {'x': 1325, 'y': 2081}, {'x': 1261, 'y': 2084}]}, 'text': 'o', 'confidence': 0.89}, {'property': {'detectedLanguages': [{'languageCode': 'en'}]}, 'boundingBox': {'vertices': [{'x': 1310, 'y': 1892}, {'x': 1374, 'y': 1889}, {'x': 1382, 'y': 2078}, {'x': 1318, 'y': 2081}]}, 'text': 'u', 'confidence': 1}, {'property': {'detectedLanguages': [{'languageCode': 'en'}], 'detectedBreak': {'type': 'SPACE'}}, 'boundingBox': {'vertices': [{'x': 1398, 'y': 1888}, {'x': 1477, 'y': 1885}, {'x': 1485, 'y': 2073}, {'x': 1406, 'y': 2077}]}, 'text': 't', 'confidence': 0.97}], 'confidence': 0.97}, {'property': {'detectedLanguages': [{'languageCode': 'en'}]}, 'boundingBox': {'vertices': [{'x': 1719, 'y': 1874}, {'x': 1993, 'y': 1862}, {'x': 2001, 'y': 2052}, {'x': 1727, 'y': 2064}]}, 'symbols': [{'property': {'detectedLanguages': [{'languageCode': 'en'}]}, 'boundingBox': {'vertices': [{'x': 1719, 'y': 1874}, {'x': 1767, 'y': 1872}, {'x': 1775, 'y': 2061}, {'x': 1727, 'y': 2063}]}, 'text': 'f', 'confidence': 0.98}, {'property': {'detectedLanguages': [{'languageCode': 'en'}]}, 'boundingBox': {'vertices': [{'x': 1776, 'y': 1872}, {'x': 1824, 'y': 1870}, {'x': 1832, 'y': 2059}, {'x': 1784, 'y': 2061}]}, 'text': 'o', 'confidence': 0.98}, {'property': {'detectedLanguages': [{'languageCode': 'en'}]}, 'boundingBox': {'vertices': [{'x': 1825, 'y': 1869}, {'x': 1889, 'y': 1866}, {'x': 1897, 'y': 2055}, {'x': 1833, 'y': 2058}]}, 'text': 'r', 'confidence': 0.99}, {'property': {'detectedLanguages': [{'languageCode': 'en'}]}, 'boundingBox': {'vertices': [{'x': 1913, 'y': 1865}, {'x': 1993, 'y': 1861}, {'x': 2001, 'y': 2050}, {'x': 1921, 'y': 2054}]}, 'text': 'm', 'confidence': 0.97}], 'confidence': 0.98}, {'property': {'detectedLanguages': [{'languageCode': 'en'}]}, 'boundingBox': {'vertices': [{'x': 2039, 'y': 1860}, {'x': 2095, 'y': 1858}, {'x': 2103, 'y': 2046}, {'x': 2047, 'y': 2049}]}, 'symbols': [{'property': {'detectedLanguages': [{'languageCode': 'en'}], 'detectedBreak': {'type': 'EOL_SURE_SPACE'}}, 'boundingBox': {'vertices': [{'x': 2039, 'y': 1860}, {'x': 2095, 'y': 1858}, {'x': 2103, 'y': 2046}, {'x': 2047, 'y': 2049}]}, 'text': '.', 'confidence': 0.96}], 'confidence': 0.96}, {'property': {'detectedLanguages': [{'languageCode': 'en'}]}, 'boundingBox': {'vertices': [{'x': 373, 'y': 2145}, {'x': 672, 'y': 2125}, {'x': 685, 'y': 2315}, {'x': 386, 'y': 2335}]}, 'symbols': [{'property': {'detectedLanguages': [{'languageCode': 'en'}]}, 'boundingBox': {'vertices': [{'x': 373, 'y': 2145}, {'x': 467, 'y': 2139}, {'x': 479, 'y': 2328}, {'x': 386, 'y': 2335}]}, 'text': 'G', 'confidence': 0.98}, {'property': {'detectedLanguages': [{'languageCode': 'en'}]}, 'boundingBox': {'vertices': [{'x': 499, 'y': 2137}, {'x': 570, 'y': 2132}, {'x': 582, 'y': 2322}, {'x': 512, 'y': 2327}]}, 'text': 'o', 'confidence': 0.88}, {'property': {'detectedLanguages': [{'languageCode': 'en'}]}, 'boundingBox': {'vertices': [{'x': 567, 'y': 2132}, {'x': 615, 'y': 2129}, {'x': 628, 'y': 2318}, {'x': 580, 'y': 2322}]}, 'text': 'o', 'confidence': 0.88}, {'property': {'detectedLanguages': [{'languageCode': 'en'}], 'detectedBreak': {'type': 'SPACE'}}, 'boundingBox': {'vertices': [{'x': 624, 'y': 2128}, {'x': 672, 'y': 2125}, {'x': 685, 'y': 2314}, {'x': 637, 'y': 2318}]}, 'text': 'd', 'confidence': 0.98}], 'confidence': 0.93}, {'property': {'detectedLanguages': [{'languageCode': 'en'}]}, 'boundingBox': {'vertices': [{'x': 884, 'y': 2110}, {'x': 1122, 'y': 2094}, {'x': 1135, 'y': 2285}, {'x': 897, 'y': 2301}]}, 'symbols': [{'property': {'detectedLanguages': [{'languageCode': 'en'}]}, 'boundingBox': {'vertices': [{'x': 884, 'y': 2111}, {'x': 948, 'y': 2107}, {'x': 960, 'y': 2296}, {'x': 897, 'y': 2301}]}, 'text': 'L', 'confidence': 0.97}, {'property': {'detectedLanguages': [{'languageCode': 'en'}]}, 'boundingBox': {'vertices': [{'x': 961, 'y': 2105}, {'x': 1024, 'y': 2101}, {'x': 1036, 'y': 2290}, {'x': 974, 'y': 2295}]}, 'text': 'u', 'confidence': 0.98}, {'property': {'detectedLanguages': [{'languageCode': 'en'}]}, 'boundingBox': {'vertices': [{'x': 1043, 'y': 2100}, {'x': 1091, 'y': 2097}, {'x': 1104, 'y': 2286}, {'x': 1056, 'y': 2290}]}, 'text': 'c', 'confidence': 0.98}, {'property': {'detectedLanguages': [{'languageCode': 'en'}], 'detectedBreak': {'type': 'SPACE'}}, 'boundingBox': {'vertices': [{'x': 1089, 'y': 2097}, {'x': 1123, 'y': 2095}, {'x': 1136, 'y': 2284}, {'x': 1102, 'y': 2287}]}, 'text': 'k', 'confidence': 0.86}], 'confidence': 0.94}, {'property': {'detectedLanguages': [{'languageCode': 'en'}]}, 'boundingBox': {'vertices': [{'x': 1352, 'y': 2079}, {'x': 1624, 'y': 2061}, {'x': 1637, 'y': 2251}, {'x': 1365, 'y': 2270}]}, 'symbols': [{'property': {'detectedLanguages': [{'languageCode': 'en'}]}, 'boundingBox': {'vertices': [{'x': 1352, 'y': 2079}, {'x': 1432, 'y': 2074}, {'x': 1444, 'y': 2263}, {'x': 1365, 'y': 2269}]}, 'text': 'w', 'confidence': 0.96}, {'property': {'detectedLanguages': [{'languageCode': 'en'}]}, 'boundingBox': {'vertices': [{'x': 1456, 'y': 2073}, {'x': 1520, 'y': 2069}, {'x': 1532, 'y': 2258}, {'x': 1469, 'y': 2263}]}, 'text': 'i', 'confidence': 0.98}, {'property': {'detectedLanguages': [{'languageCode': 'en'}]}, 'boundingBox': {'vertices': [{'x': 1520, 'y': 2068}, {'x': 1568, 'y': 2065}, {'x': 1581, 'y': 2254}, {'x': 1533, 'y': 2258}]}, 'text': 't', 'confidence': 0.99}, {'property': {'detectedLanguages': [{'languageCode': 'en'}], 'detectedBreak': {'type': 'SPACE'}}, 'boundingBox': {'vertices': [{'x': 1577, 'y': 2064}, {'x': 1625, 'y': 2061}, {'x': 1638, 'y': 2250}, {'x': 1590, 'y': 2254}]}, 'text': 'h', 'confidence': 0.99}], 'confidence': 0.98}, {'property': {'detectedLanguages': [{'languageCode': 'en'}]}, 'boundingBox': {'vertices': [{'x': 1811, 'y': 2048}, {'x': 2409, 'y': 2008}, {'x': 2421, 'y': 2200}, {'x': 1824, 'y': 2240}]}, 'symbols': [{'property': {'detectedLanguages': [{'languageCode': 'en'}]}, 'boundingBox': {'vertices': [{'x': 1811, 'y': 2049}, {'x': 1889, 'y': 2044}, {'x': 1901, 'y': 2233}, {'x': 1824, 'y': 2239}]}, 'text': 'w', 'confidence': 0.98}, {'property': {'detectedLanguages': [{'languageCode': 'en'}]}, 'boundingBox': {'vertices': [{'x': 1909, 'y': 2043}, {'x': 1980, 'y': 2038}, {'x': 1992, 'y': 2228}, {'x': 1922, 'y': 2233}]}, 'text': 'h', 'confidence': 1}, {'property': {'detectedLanguages': [{'languageCode': 'en'}]}, 'boundingBox': {'vertices': [{'x': 1989, 'y': 2037}, {'x': 2053, 'y': 2033}, {'x': 2065, 'y': 2222}, {'x': 2002, 'y': 2227}]}, 'text': 'a', 'confidence': 0.97}, {'property': {'detectedLanguages': [{'languageCode': 'en'}]}, 'boundingBox': {'vertices': [{'x': 2062, 'y': 2032}, {'x': 2133, 'y': 2027}, {'x': 2145, 'y': 2217}, {'x': 2075, 'y': 2222}]}, 'text': 't', 'confidence': 0.99}, {'property': {'detectedLanguages': [{'languageCode': 'en'}]}, 'boundingBox': {'vertices': [{'x': 2164, 'y': 2025}, {'x': 2220, 'y': 2021}, {'x': 2233, 'y': 2211}, {'x': 2177, 'y': 2215}]}, 'text': 'e', 'confidence': 0.93}, {'property': {'detectedLanguages': [{'languageCode': 'en'}]}, 'boundingBox': {'vertices': [{'x': 2203, 'y': 2022}, {'x': 2259, 'y': 2018}, {'x': 2272, 'y': 2208}, {'x': 2216, 'y': 2212}]}, 'text': 'v', 'confidence': 0.98}, {'property': {'detectedLanguages': [{'languageCode': 'en'}]}, 'boundingBox': {'vertices': [{'x': 2294, 'y': 2017}, {'x': 2358, 'y': 2013}, {'x': 2370, 'y': 2202}, {'x': 2307, 'y': 2207}]}, 'text': 'e', 'confidence': 0.96}, {'property': {'detectedLanguages': [{'languageCode': 'en'}], 'detectedBreak': {'type': 'LINE_BREAK'}}, 'boundingBox': {'vertices': [{'x': 2360, 'y': 2012}, {'x': 2409, 'y': 2009}, {'x': 2422, 'y': 2198}, {'x': 2373, 'y': 2202}]}, 'text': 'r', 'confidence': 0.97}], 'confidence': 0.97}], 'confidence': 0.96}], 'blockType': 'TEXT', 'confidence': 0.97}, {'boundingBox': {'vertices': [{'x': 1818, 'y': 2217}, {'x': 2008, 'y': 2195}, {'x': 2030, 'y': 2384}, {'x': 1840, 'y': 2407}]}, 'paragraphs': [{'boundingBox': {'vertices': [{'x': 1818, 'y': 2217}, {'x': 2008, 'y': 2195}, {'x': 2030, 'y': 2384}, {'x': 1840, 'y': 2407}]}, 'words': [{'property': {'detectedLanguages': [{'languageCode': 'en'}]}, 'boundingBox': {'vertices': [{'x': 1818, 'y': 2217}, {'x': 2008, 'y': 2195}, {'x': 2030, 'y': 2384}, {'x': 1840, 'y': 2407}]}, 'symbols': [{'property': {'detectedLanguages': [{'languageCode': 'en'}]}, 'boundingBox': {'vertices': [{'x': 1818, 'y': 2218}, {'x': 1882, 'y': 2210}, {'x': 1904, 'y': 2399}, {'x': 1840, 'y': 2407}]}, 'text': 'y', 'confidence': 0.97}, {'property': {'detectedLanguages': [{'languageCode': 'en'}]}, 'boundingBox': {'vertices': [{'x': 1897, 'y': 2208}, {'x': 1953, 'y': 2201}, {'x': 1975, 'y': 2390}, {'x': 1919, 'y': 2397}]}, 'text': 'o', 'confidence': 0.99}, {'property': {'detectedLanguages': [{'languageCode': 'en'}], 'detectedBreak': {'type': 'LINE_BREAK'}}, 'boundingBox': {'vertices': [{'x': 1959, 'y': 2201}, {'x': 2008, 'y': 2195}, {'x': 2030, 'y': 2384}, {'x': 1981, 'y': 2390}]}, 'text': 'u', 'confidence': 0.97}], 'confidence': 0.97}], 'confidence': 0.97}], 'blockType': 'TEXT', 'confidence': 0.97}, {'boundingBox': {'vertices': [{'x': 2209, 'y': 2170}, {'x': 2978, 'y': 2079}, {'x': 3000, 'y': 2269}, {'x': 2231, 'y': 2360}]}, 'paragraphs': [{'boundingBox': {'vertices': [{'x': 2209, 'y': 2170}, {'x': 2978, 'y': 2079}, {'x': 3000, 'y': 2269}, {'x': 2231, 'y': 2360}]}, 'words': [{'property': {'detectedLanguages': [{'languageCode': 'en'}]}, 'boundingBox': {'vertices': [{'x': 2209, 'y': 2171}, {'x': 2675, 'y': 2116}, {'x': 2697, 'y': 2305}, {'x': 2231, 'y': 2360}]}, 'symbols': [{'property': {'detectedLanguages': [{'languageCode': 'en'}]}, 'boundingBox': {'vertices': [{'x': 2209, 'y': 2171}, {'x': 2287, 'y': 2162}, {'x': 2310, 'y': 2350}, {'x': 2231, 'y': 2360}]}, 'text': 'd', 'confidence': 0.98}, {'property': {'detectedLanguages': [{'languageCode': 'en'}]}, 'boundingBox': {'vertices': [{'x': 2310, 'y': 2159}, {'x': 2374, 'y': 2151}, {'x': 2396, 'y': 2340}, {'x': 2332, 'y': 2348}]}, 'text': 'e', 'confidence': 0.98}, {'property': {'detectedLanguages': [{'languageCode': 'en'}]}, 'boundingBox': {'vertices': [{'x': 2376, 'y': 2151}, {'x': 2424, 'y': 2145}, {'x': 2446, 'y': 2334}, {'x': 2398, 'y': 2340}]}, 'text': 'c', 'confidence': 1}, {'property': {'detectedLanguages': [{'languageCode': 'en'}]}, 'boundingBox': {'vertices': [{'x': 2432, 'y': 2145}, {'x': 2480, 'y': 2139}, {'x': 2502, 'y': 2328}, {'x': 2454, 'y': 2334}]}, 'text': 'i', 'confidence': 1}, {'property': {'detectedLanguages': [{'languageCode': 'en'}]}, 'boundingBox': {'vertices': [{'x': 2477, 'y': 2139}, {'x': 2549, 'y': 2131}, {'x': 2571, 'y': 2319}, {'x': 2499, 'y': 2328}]}, 'text': 'd', 'confidence': 1}, {'property': {'detectedLanguages': [{'languageCode': 'en'}], 'detectedBreak': {'type': 'SPACE'}}, 'boundingBox': {'vertices': [{'x': 2580, 'y': 2127}, {'x': 2674, 'y': 2116}, {'x': 2697, 'y': 2305}, {'x': 2602, 'y': 2316}]}, 'text': 'e', 'confidence': 1}], 'confidence': 0.99}, {'property': {'detectedLanguages': [{'languageCode': 'en'}]}, 'boundingBox': {'vertices': [{'x': 2812, 'y': 2100}, {'x': 2915, 'y': 2088}, {'x': 2938, 'y': 2276}, {'x': 2834, 'y': 2289}]}, 'symbols': [{'property': {'detectedLanguages': [{'languageCode': 'en'}]}, 'boundingBox': {'vertices': [{'x': 2812, 'y': 2100}, {'x': 2860, 'y': 2094}, {'x': 2882, 'y': 2283}, {'x': 2834, 'y': 2289}]}, 'text': 'o', 'confidence': 0.96}, {'property': {'detectedLanguages': [{'languageCode': 'en'}]}, 'boundingBox': {'vertices': [{'x': 2868, 'y': 2093}, {'x': 2916, 'y': 2087}, {'x': 2938, 'y': 2276}, {'x': 2890, 'y': 2282}]}, 'text': 'n', 'confidence': 0.99}], 'confidence': 0.97}, {'property': {'detectedLanguages': [{'languageCode': 'en'}]}, 'boundingBox': {'vertices': [{'x': 2922, 'y': 2086}, {'x': 2978, 'y': 2079}, {'x': 3000, 'y': 2268}, {'x': 2944, 'y': 2275}]}, 'symbols': [{'property': {'detectedLanguages': [{'languageCode': 'en'}], 'detectedBreak': {'type': 'LINE_BREAK'}}, 'boundingBox': {'vertices': [{'x': 2922, 'y': 2086}, {'x': 2978, 'y': 2079}, {'x': 3000, 'y': 2268}, {'x': 2944, 'y': 2275}]}, 'text': '.', 'confidence': 0.88}], 'confidence': 0.88}], 'confidence': 0.97}], 'blockType': 'TEXT', 'confidence': 0.97}, {'boundingBox': {'vertices': [{'x': 622, 'y': 2359}, {'x': 1076, 'y': 2305}, {'x': 1098, 'y': 2494}, {'x': 644, 'y': 2548}]}, 'paragraphs': [{'boundingBox': {'vertices': [{'x': 622, 'y': 2359}, {'x': 1076, 'y': 2305}, {'x': 1098, 'y': 2494}, {'x': 644, 'y': 2548}]}, 'words': [{'property': {'detectedLanguages': [{'languageCode': 'en'}]}, 'boundingBox': {'vertices': [{'x': 622, 'y': 2359}, {'x': 1076, 'y': 2305}, {'x': 1098, 'y': 2494}, {'x': 644, 'y': 2548}]}, 'symbols': [{'property': {'detectedLanguages': [{'languageCode': 'en'}]}, 'boundingBox': {'vertices': [{'x': 622, 'y': 2359}, {'x': 686, 'y': 2351}, {'x': 708, 'y': 2540}, {'x': 644, 'y': 2548}]}, 'text': 'c', 'confidence': 0.95}, {'property': {'detectedLanguages': [{'languageCode': 'en'}]}, 'boundingBox': {'vertices': [{'x': 694, 'y': 2350}, {'x': 766, 'y': 2342}, {'x': 788, 'y': 2530}, {'x': 716, 'y': 2539}]}, 'text': 'a', 'confidence': 0.96}, {'property': {'detectedLanguages': [{'languageCode': 'en'}]}, 'boundingBox': {'vertices': [{'x': 785, 'y': 2340}, {'x': 864, 'y': 2331}, {'x': 887, 'y': 2519}, {'x': 807, 'y': 2529}]}, 'text': 'r', 'confidence': 0.98}, {'property': {'detectedLanguages': [{'languageCode': 'en'}]}, 'boundingBox': {'vertices': [{'x': 888, 'y': 2328}, {'x': 952, 'y': 2320}, {'x': 974, 'y': 2509}, {'x': 910, 'y': 2517}]}, 'text': 'e', 'confidence': 0.97}, {'property': {'detectedLanguages': [{'languageCode': 'en'}]}, 'boundingBox': {'vertices': [{'x': 953, 'y': 2320}, {'x': 1020, 'y': 2312}, {'x': 1042, 'y': 2501}, {'x': 975, 'y': 2509}]}, 'text': 'e', 'confidence': 0.86}, {'property': {'detectedLanguages': [{'languageCode': 'en'}], 'detectedBreak': {'type': 'LINE_BREAK'}}, 'boundingBox': {'vertices': [{'x': 1028, 'y': 2311}, {'x': 1076, 'y': 2305}, {'x': 1098, 'y': 2494}, {'x': 1050, 'y': 2500}]}, 'text': 'r', 'confidence': 0.97}], 'confidence': 0.94}], 'confidence': 0.94}], 'blockType': 'TEXT', 'confidence': 0.94}, {'boundingBox': {'vertices': [{'x': 1305, 'y': 2277}, {'x': 1569, 'y': 2246}, {'x': 1592, 'y': 2436}, {'x': 1328, 'y': 2468}]}, 'paragraphs': [{'boundingBox': {'vertices': [{'x': 1305, 'y': 2277}, {'x': 1569, 'y': 2246}, {'x': 1592, 'y': 2436}, {'x': 1328, 'y': 2468}]}, 'words': [{'property': {'detectedLanguages': [{'languageCode': 'en'}]}, 'boundingBox': {'vertices': [{'x': 1305, 'y': 2277}, {'x': 1569, 'y': 2246}, {'x': 1592, 'y': 2436}, {'x': 1328, 'y': 2468}]}, 'symbols': [{'property': {'detectedLanguages': [{'languageCode': 'en'}]}, 'boundingBox': {'vertices': [{'x': 1305, 'y': 2278}, {'x': 1369, 'y': 2270}, {'x': 1391, 'y': 2459}, {'x': 1327, 'y': 2467}]}, 'text': 'p', 'confidence': 0.86}, {'property': {'detectedLanguages': [{'languageCode': 'en'}]}, 'boundingBox': {'vertices': [{'x': 1381, 'y': 2269}, {'x': 1445, 'y': 2261}, {'x': 1467, 'y': 2450}, {'x': 1403, 'y': 2458}]}, 'text': 'a', 'confidence': 0.74}, {'property': {'detectedLanguages': [{'languageCode': 'en'}]}, 'boundingBox': {'vertices': [{'x': 1461, 'y': 2259}, {'x': 1517, 'y': 2252}, {'x': 1539, 'y': 2441}, {'x': 1483, 'y': 2448}]}, 'text': 't', 'confidence': 0.99}, {'property': {'detectedLanguages': [{'languageCode': 'en'}], 'detectedBreak': {'type': 'LINE_BREAK'}}, 'boundingBox': {'vertices': [{'x': 1522, 'y': 2253}, {'x': 1570, 'y': 2247}, {'x': 1592, 'y': 2436}, {'x': 1544, 'y': 2442}]}, 'text': 'h', 'confidence': 1}], 'confidence': 0.89}], 'confidence': 0.89}], 'blockType': 'TEXT', 'confidence': 0.89}, {'boundingBox': {'vertices': [{'x': 1866, 'y': 2533}, {'x': 2775, 'y': 2488}, {'x': 2786, 'y': 2716}, {'x': 1877, 'y': 2761}]}, 'paragraphs': [{'boundingBox': {'vertices': [{'x': 1866, 'y': 2533}, {'x': 2775, 'y': 2488}, {'x': 2786, 'y': 2716}, {'x': 1877, 'y': 2761}]}, 'words': [{'property': {'detectedLanguages': [{'languageCode': 'en'}]}, 'boundingBox': {'vertices': [{'x': 1866, 'y': 2533}, {'x': 2353, 'y': 2509}, {'x': 2365, 'y': 2737}, {'x': 1877, 'y': 2761}]}, 'symbols': [{'property': {'detectedLanguages': [{'languageCode': 'en'}]}, 'boundingBox': {'vertices': [{'x': 1866, 'y': 2534}, {'x': 1961, 'y': 2529}, {'x': 1972, 'y': 2756}, {'x': 1877, 'y': 2761}]}, 'text': 'A', 'confidence': 1}, {'property': {'detectedLanguages': [{'languageCode': 'en'}]}, 'boundingBox': {'vertices': [{'x': 1986, 'y': 2528}, {'x': 2072, 'y': 2524}, {'x': 2083, 'y': 2751}, {'x': 1997, 'y': 2755}]}, 'text': 'u', 'confidence': 0.98}, {'property': {'detectedLanguages': [{'languageCode': 'en'}]}, 'boundingBox': {'vertices': [{'x': 2086, 'y': 2523}, {'x': 2153, 'y': 2520}, {'x': 2164, 'y': 2746}, {'x': 2097, 'y': 2750}]}, 'text': 'g', 'confidence': 1}, {'property': {'detectedLanguages': [{'languageCode': 'en'}]}, 'boundingBox': {'vertices': [{'x': 2159, 'y': 2519}, {'x': 2218, 'y': 2516}, {'x': 2229, 'y': 2743}, {'x': 2170, 'y': 2746}]}, 'text': 'u', 'confidence': 1}, {'property': {'detectedLanguages': [{'languageCode': 'en'}]}, 'boundingBox': {'vertices': [{'x': 2229, 'y': 2516}, {'x': 2287, 'y': 2513}, {'x': 2298, 'y': 2740}, {'x': 2240, 'y': 2743}]}, 'text': 's', 'confidence': 1}, {'property': {'detectedLanguages': [{'languageCode': 'en'}], 'detectedBreak': {'type': 'SPACE'}}, 'boundingBox': {'vertices': [{'x': 2296, 'y': 2512}, {'x': 2353, 'y': 2509}, {'x': 2364, 'y': 2736}, {'x': 2307, 'y': 2739}]}, 'text': 't', 'confidence': 0.99}], 'confidence': 0.99}, {'property': {'detectedLanguages': [{'languageCode': 'en'}]}, 'boundingBox': {'vertices': [{'x': 2448, 'y': 2504}, {'x': 2775, 'y': 2488}, {'x': 2786, 'y': 2716}, {'x': 2459, 'y': 2732}]}, 'symbols': [{'property': {'detectedLanguages': [{'languageCode': 'en'}]}, 'boundingBox': {'vertices': [{'x': 2448, 'y': 2505}, {'x': 2524, 'y': 2501}, {'x': 2535, 'y': 2728}, {'x': 2459, 'y': 2732}]}, 'text': '2', 'confidence': 1}, {'property': {'detectedLanguages': [{'languageCode': 'en'}]}, 'boundingBox': {'vertices': [{'x': 2543, 'y': 2500}, {'x': 2610, 'y': 2497}, {'x': 2621, 'y': 2723}, {'x': 2554, 'y': 2727}]}, 'text': '0', 'confidence': 1}, {'property': {'detectedLanguages': [{'languageCode': 'en'}]}, 'boundingBox': {'vertices': [{'x': 2612, 'y': 2497}, {'x': 2679, 'y': 2494}, {'x': 2690, 'y': 2720}, {'x': 2623, 'y': 2724}]}, 'text': '1', 'confidence': 1}, {'property': {'detectedLanguages': [{'languageCode': 'en'}], 'detectedBreak': {'type': 'LINE_BREAK'}}, 'boundingBox': {'vertices': [{'x': 2699, 'y': 2492}, {'x': 2775, 'y': 2488}, {'x': 2786, 'y': 2715}, {'x': 2710, 'y': 2719}]}, 'text': '7', 'confidence': 0.99}], 'confidence': 0.99}], 'confidence': 0.99}], 'blockType': 'TEXT', 'confidence': 0.99}]}], 'text': 'contamin\\nClean Code\\nTo Emmanuel\\nfrom Peber.\\nThere is no form\\nwithout function.\\nThere is no function\\nwithout form.\\nGood Luck with whatever\\nyou\\ndecide on.\\ncareer\\npath\\nAugust 2017\\n'}}]}\n",
            "en\n",
            "English\n",
            "\n",
            "contamin\n",
            "Clean Code\n",
            "To Emmanuel\n",
            "from Peber.\n",
            "There is no form\n",
            "without function.\n",
            "There is no function\n",
            "without form.\n",
            "Good Luck with whatever\n",
            "you\n",
            "decide on.\n",
            "career\n",
            "path\n",
            "August 2017\n",
            "\n"
          ],
          "name": "stdout"
        }
      ]
    },
    {
      "cell_type": "markdown",
      "metadata": {
        "id": "J6tnpFfZd4Rw",
        "colab_type": "text"
      },
      "source": [
        "![alt text](https://storage.cloud.google.com/achampiong_image/detect_handwriting_OCR-detect-handwriting_SMALL.png)"
      ]
    },
    {
      "cell_type": "code",
      "metadata": {
        "id": "yegLOlqxcP7n",
        "colab_type": "code",
        "outputId": "ebf63246-9924-4d36-b2b3-086f2a6f0da8",
        "colab": {
          "base_uri": "https://localhost:8080/",
          "height": 161
        },
        "cellView": "both"
      },
      "source": [
        "#@title\n",
        "vservice = build('vision', 'v1', developerKey=APIKEY)\n",
        "request = vservice.images().annotate(body={\n",
        "        'requests': [{\n",
        "                'image': {'source': {'gcs_image_uri': \"gs://achampiong_image/detect_handwriting_OCR-detect-handwriting_SMALL.png\"}\n",
        "                },\n",
        "                'features': [{\n",
        "                    'type': 'DOCUMENT_TEXT_DETECTION',\n",
        "                    'maxResults': 3,\n",
        "                }]\n",
        "            }],\n",
        "        })\n",
        "responses = request.execute()\n",
        "print(responses)\n",
        "s =responses['responses'][0]['textAnnotations'][0]['locale']\n",
        "print(s)\n",
        "print(langs[s]+'\\n')\n",
        "g =responses['responses'][0]['textAnnotations'][0]['description']\n",
        "print(g)"
      ],
      "execution_count": 0,
      "outputs": [
        {
          "output_type": "stream",
          "text": [
            "{'responses': [{'textAnnotations': [{'locale': 'en', 'description': 'Google Cloud\\nPlatform\\n', 'boundingPoly': {'vertices': [{'x': 180, 'y': 59}, {'x': 403, 'y': 59}, {'x': 403, 'y': 155}, {'x': 180, 'y': 155}]}}, {'description': 'Google', 'boundingPoly': {'vertices': [{'x': 180, 'y': 59}, {'x': 311, 'y': 59}, {'x': 311, 'y': 102}, {'x': 180, 'y': 102}]}}, {'description': 'Cloud', 'boundingPoly': {'vertices': [{'x': 344, 'y': 59}, {'x': 403, 'y': 59}, {'x': 403, 'y': 102}, {'x': 344, 'y': 102}]}}, {'description': 'Platform', 'boundingPoly': {'vertices': [{'x': 236, 'y': 109}, {'x': 340, 'y': 109}, {'x': 340, 'y': 155}, {'x': 236, 'y': 155}]}}], 'fullTextAnnotation': {'pages': [{'property': {'detectedLanguages': [{'languageCode': 'en', 'confidence': 1}]}, 'width': 500, 'height': 323, 'blocks': [{'boundingBox': {'vertices': [{'x': 180, 'y': 59}, {'x': 403, 'y': 59}, {'x': 403, 'y': 155}, {'x': 180, 'y': 155}]}, 'paragraphs': [{'boundingBox': {'vertices': [{'x': 180, 'y': 59}, {'x': 403, 'y': 59}, {'x': 403, 'y': 102}, {'x': 180, 'y': 102}]}, 'words': [{'property': {'detectedLanguages': [{'languageCode': 'en'}]}, 'boundingBox': {'vertices': [{'x': 180, 'y': 59}, {'x': 311, 'y': 59}, {'x': 311, 'y': 102}, {'x': 180, 'y': 102}]}, 'symbols': [{'property': {'detectedLanguages': [{'languageCode': 'en'}]}, 'boundingBox': {'vertices': [{'x': 180, 'y': 59}, {'x': 212, 'y': 59}, {'x': 212, 'y': 102}, {'x': 180, 'y': 102}]}, 'text': 'G', 'confidence': 0.98}, {'property': {'detectedLanguages': [{'languageCode': 'en'}]}, 'boundingBox': {'vertices': [{'x': 224, 'y': 59}, {'x': 247, 'y': 59}, {'x': 247, 'y': 102}, {'x': 224, 'y': 102}]}, 'text': 'o', 'confidence': 0.99}, {'property': {'detectedLanguages': [{'languageCode': 'en'}]}, 'boundingBox': {'vertices': [{'x': 245, 'y': 59}, {'x': 262, 'y': 59}, {'x': 262, 'y': 102}, {'x': 245, 'y': 102}]}, 'text': 'o', 'confidence': 0.99}, {'property': {'detectedLanguages': [{'languageCode': 'en'}]}, 'boundingBox': {'vertices': [{'x': 272, 'y': 59}, {'x': 287, 'y': 59}, {'x': 287, 'y': 102}, {'x': 272, 'y': 102}]}, 'text': 'g', 'confidence': 1}, {'property': {'detectedLanguages': [{'languageCode': 'en'}]}, 'boundingBox': {'vertices': [{'x': 287, 'y': 59}, {'x': 298, 'y': 59}, {'x': 298, 'y': 102}, {'x': 287, 'y': 102}]}, 'text': 'l', 'confidence': 1}, {'property': {'detectedLanguages': [{'languageCode': 'en'}], 'detectedBreak': {'type': 'SPACE'}}, 'boundingBox': {'vertices': [{'x': 301, 'y': 59}, {'x': 311, 'y': 59}, {'x': 311, 'y': 102}, {'x': 301, 'y': 102}]}, 'text': 'e', 'confidence': 1}], 'confidence': 0.99}, {'property': {'detectedLanguages': [{'languageCode': 'en'}]}, 'boundingBox': {'vertices': [{'x': 344, 'y': 59}, {'x': 403, 'y': 59}, {'x': 403, 'y': 102}, {'x': 344, 'y': 102}]}, 'symbols': [{'property': {'detectedLanguages': [{'languageCode': 'en'}]}, 'boundingBox': {'vertices': [{'x': 344, 'y': 59}, {'x': 355, 'y': 59}, {'x': 355, 'y': 102}, {'x': 344, 'y': 102}]}, 'text': 'C', 'confidence': 1}, {'property': {'detectedLanguages': [{'languageCode': 'en'}]}, 'boundingBox': {'vertices': [{'x': 358, 'y': 59}, {'x': 368, 'y': 59}, {'x': 368, 'y': 102}, {'x': 358, 'y': 102}]}, 'text': 'l', 'confidence': 0.99}, {'property': {'detectedLanguages': [{'languageCode': 'en'}]}, 'boundingBox': {'vertices': [{'x': 372, 'y': 59}, {'x': 381, 'y': 59}, {'x': 381, 'y': 102}, {'x': 372, 'y': 102}]}, 'text': 'o', 'confidence': 0.99}, {'property': {'detectedLanguages': [{'languageCode': 'en'}]}, 'boundingBox': {'vertices': [{'x': 381, 'y': 59}, {'x': 390, 'y': 59}, {'x': 390, 'y': 102}, {'x': 381, 'y': 102}]}, 'text': 'u', 'confidence': 0.96}, {'property': {'detectedLanguages': [{'languageCode': 'en'}], 'detectedBreak': {'type': 'LINE_BREAK'}}, 'boundingBox': {'vertices': [{'x': 393, 'y': 59}, {'x': 403, 'y': 59}, {'x': 403, 'y': 102}, {'x': 393, 'y': 102}]}, 'text': 'd', 'confidence': 0.99}], 'confidence': 0.98}], 'confidence': 0.99}, {'boundingBox': {'vertices': [{'x': 236, 'y': 109}, {'x': 340, 'y': 109}, {'x': 340, 'y': 155}, {'x': 236, 'y': 155}]}, 'words': [{'property': {'detectedLanguages': [{'languageCode': 'en'}]}, 'boundingBox': {'vertices': [{'x': 236, 'y': 109}, {'x': 340, 'y': 109}, {'x': 340, 'y': 155}, {'x': 236, 'y': 155}]}, 'symbols': [{'property': {'detectedLanguages': [{'languageCode': 'en'}]}, 'boundingBox': {'vertices': [{'x': 236, 'y': 109}, {'x': 254, 'y': 109}, {'x': 254, 'y': 155}, {'x': 236, 'y': 155}]}, 'text': 'P', 'confidence': 0.97}, {'property': {'detectedLanguages': [{'languageCode': 'en'}]}, 'boundingBox': {'vertices': [{'x': 262, 'y': 109}, {'x': 276, 'y': 109}, {'x': 276, 'y': 155}, {'x': 262, 'y': 155}]}, 'text': 'l', 'confidence': 0.97}, {'property': {'detectedLanguages': [{'languageCode': 'en'}]}, 'boundingBox': {'vertices': [{'x': 275, 'y': 109}, {'x': 282, 'y': 109}, {'x': 282, 'y': 155}, {'x': 275, 'y': 155}]}, 'text': 'a', 'confidence': 0.99}, {'property': {'detectedLanguages': [{'languageCode': 'en'}]}, 'boundingBox': {'vertices': [{'x': 283, 'y': 109}, {'x': 293, 'y': 109}, {'x': 293, 'y': 155}, {'x': 283, 'y': 155}]}, 'text': 't', 'confidence': 0.98}, {'property': {'detectedLanguages': [{'languageCode': 'en'}]}, 'boundingBox': {'vertices': [{'x': 297, 'y': 109}, {'x': 307, 'y': 109}, {'x': 307, 'y': 155}, {'x': 297, 'y': 155}]}, 'text': 'f', 'confidence': 0.98}, {'property': {'detectedLanguages': [{'languageCode': 'en'}]}, 'boundingBox': {'vertices': [{'x': 308, 'y': 109}, {'x': 315, 'y': 109}, {'x': 315, 'y': 155}, {'x': 308, 'y': 155}]}, 'text': 'o', 'confidence': 0.99}, {'property': {'detectedLanguages': [{'languageCode': 'en'}]}, 'boundingBox': {'vertices': [{'x': 316, 'y': 109}, {'x': 326, 'y': 109}, {'x': 326, 'y': 155}, {'x': 316, 'y': 155}]}, 'text': 'r', 'confidence': 0.98}, {'property': {'detectedLanguages': [{'languageCode': 'en'}], 'detectedBreak': {'type': 'LINE_BREAK'}}, 'boundingBox': {'vertices': [{'x': 329, 'y': 109}, {'x': 340, 'y': 109}, {'x': 340, 'y': 155}, {'x': 329, 'y': 155}]}, 'text': 'm', 'confidence': 0.99}], 'confidence': 0.98}], 'confidence': 0.98}], 'blockType': 'TEXT', 'confidence': 0.98}]}], 'text': 'Google Cloud\\nPlatform\\n'}}]}\n",
            "en\n",
            "English\n",
            "\n",
            "Google Cloud\n",
            "Platform\n",
            "\n"
          ],
          "name": "stdout"
        }
      ]
    },
    {
      "cell_type": "markdown",
      "metadata": {
        "id": "50ufePVuh6Kk",
        "colab_type": "text"
      },
      "source": [
        "## Cropping Images"
      ]
    },
    {
      "cell_type": "code",
      "metadata": {
        "id": "4nUa-nEVdRRK",
        "colab_type": "code",
        "outputId": "888a76a9-25f1-4ec3-8cc6-20ecbe943c4c",
        "colab": {
          "base_uri": "https://localhost:8080/",
          "height": 55
        },
        "cellView": "both"
      },
      "source": [
        "#@title\n",
        "vservice = build('vision', 'v1', developerKey=APIKEY)\n",
        "request = vservice.images().annotate(body={\n",
        "        'requests': [{\n",
        "                'image': {'source': {'gcs_image_uri': \"gs://achampiong_image/detect_handwriting_OCR-detect-handwriting_SMALL.png\"}\n",
        "                },\n",
        "                'features': [{\n",
        "                    'type': 'CROP_HINTS',\n",
        "                    'maxResults': 3,\n",
        "                }],\n",
        "             \"imageContext\": {\n",
        "        \"cropHintsParams\": {\n",
        "          \"aspectRatios\": [\n",
        "           21\n",
        "          ]\n",
        "        }\n",
        "      }\n",
        "\n",
        "            }],\n",
        "        })\n",
        "responses = request.execute()\n",
        "print(responses)\n"
      ],
      "execution_count": 0,
      "outputs": [
        {
          "output_type": "stream",
          "text": [
            "{'responses': [{'cropHintsAnnotation': {'cropHints': [{'boundingPoly': {'vertices': [{'y': 66}, {'x': 499, 'y': 66}, {'x': 499, 'y': 92}, {'y': 92}]}, 'confidence': 0.79999995, 'importanceFraction': 0.26999998}]}}]}\n"
          ],
          "name": "stdout"
        }
      ]
    },
    {
      "cell_type": "markdown",
      "metadata": {
        "id": "8XTkwjLBpQh3",
        "colab_type": "text"
      },
      "source": [
        "## Detecting Faces"
      ]
    },
    {
      "cell_type": "markdown",
      "metadata": {
        "id": "GmYrIV1xpWeG",
        "colab_type": "text"
      },
      "source": [
        ""
      ]
    },
    {
      "cell_type": "code",
      "metadata": {
        "id": "t835TgIef7U5",
        "colab_type": "code",
        "outputId": "55e086fb-904d-4676-819b-ea119dbffd88",
        "colab": {
          "base_uri": "https://localhost:8080/",
          "height": 141
        },
        "cellView": "both"
      },
      "source": [
        "#@title\n",
        "vservice = build('vision', 'v1', developerKey=APIKEY)\n",
        "request = vservice.images().annotate(body={\n",
        "        'requests': [{\n",
        "                'image': {'source': {'gcs_image_uri': \"gs://achampiong_image/278385524_ccc7f691ea.jpg\"}\n",
        "                },\n",
        "                'features': [{\n",
        "                    'type': \"FACE_DETECTION\",\n",
        "                    'maxResults': 10,\n",
        "                }]\n",
        "        \n",
        "      \n",
        "\n",
        "            }],\n",
        "        })\n",
        "responses = request.execute()\n",
        "annotation = responses['responses'][0]['faceAnnotations'][0]\n",
        "print('Surprise: {}\\nJoy: {}\\nSorrow: {}\\nAnger:{}\\nUnder Exposed:{}\\nBlurred:{}\\nHeadwear:{}'.format(annotation['surpriseLikelihood'], annotation['joyLikelihood'], annotation['sorrowLikelihood'], annotation['angerLikelihood'], annotation['underExposedLikelihood'], annotation['blurredLikelihood'], annotation['headwearLikelihood']))\n"
      ],
      "execution_count": 0,
      "outputs": [
        {
          "output_type": "stream",
          "text": [
            "Surprise: VERY_UNLIKELY\n",
            "Joy: VERY_UNLIKELY\n",
            "Sorrow: VERY_LIKELY\n",
            "Anger:VERY_UNLIKELY\n",
            "Under Exposed:VERY_UNLIKELY\n",
            "Blurred:VERY_UNLIKELY\n",
            "Headwear:VERY_UNLIKELY\n"
          ],
          "name": "stdout"
        }
      ]
    },
    {
      "cell_type": "markdown",
      "metadata": {
        "id": "efGLbgFdqhio",
        "colab_type": "text"
      },
      "source": [
        "![alt text](https://storage.cloud.google.com/achampiong_image/278385524_ccc7f691ea.jpg)"
      ]
    },
    {
      "cell_type": "code",
      "metadata": {
        "id": "NjdPd8kw3jgc",
        "colab_type": "code",
        "outputId": "fd6d6eca-6bc2-4b38-bf5e-1de0dbcbcb60",
        "colab": {
          "base_uri": "https://localhost:8080/",
          "height": 147
        },
        "cellView": "both"
      },
      "source": [
        "#@title\n",
        "pd.DataFrame(responses['responses'][0]['faceAnnotations'])"
      ],
      "execution_count": 0,
      "outputs": [
        {
          "output_type": "execute_result",
          "data": {
            "text/html": [
              "<div>\n",
              "<style scoped>\n",
              "    .dataframe tbody tr th:only-of-type {\n",
              "        vertical-align: middle;\n",
              "    }\n",
              "\n",
              "    .dataframe tbody tr th {\n",
              "        vertical-align: top;\n",
              "    }\n",
              "\n",
              "    .dataframe thead th {\n",
              "        text-align: right;\n",
              "    }\n",
              "</style>\n",
              "<table border=\"1\" class=\"dataframe\">\n",
              "  <thead>\n",
              "    <tr style=\"text-align: right;\">\n",
              "      <th></th>\n",
              "      <th>angerLikelihood</th>\n",
              "      <th>blurredLikelihood</th>\n",
              "      <th>boundingPoly</th>\n",
              "      <th>detectionConfidence</th>\n",
              "      <th>fdBoundingPoly</th>\n",
              "      <th>headwearLikelihood</th>\n",
              "      <th>joyLikelihood</th>\n",
              "      <th>landmarkingConfidence</th>\n",
              "      <th>landmarks</th>\n",
              "      <th>panAngle</th>\n",
              "      <th>rollAngle</th>\n",
              "      <th>sorrowLikelihood</th>\n",
              "      <th>surpriseLikelihood</th>\n",
              "      <th>tiltAngle</th>\n",
              "      <th>underExposedLikelihood</th>\n",
              "    </tr>\n",
              "  </thead>\n",
              "  <tbody>\n",
              "    <tr>\n",
              "      <th>0</th>\n",
              "      <td>VERY_UNLIKELY</td>\n",
              "      <td>VERY_UNLIKELY</td>\n",
              "      <td>{'vertices': [{'x': 87}, {'x': 398}, {'x': 398...</td>\n",
              "      <td>0.799492</td>\n",
              "      <td>{'vertices': [{'x': 138, 'y': 58}, {'x': 375, ...</td>\n",
              "      <td>VERY_UNLIKELY</td>\n",
              "      <td>VERY_UNLIKELY</td>\n",
              "      <td>0.529356</td>\n",
              "      <td>[{'type': 'LEFT_EYE', 'position': {'x': 208.95...</td>\n",
              "      <td>11.967798</td>\n",
              "      <td>-6.690847</td>\n",
              "      <td>VERY_LIKELY</td>\n",
              "      <td>VERY_UNLIKELY</td>\n",
              "      <td>1.984944</td>\n",
              "      <td>VERY_UNLIKELY</td>\n",
              "    </tr>\n",
              "  </tbody>\n",
              "</table>\n",
              "</div>"
            ],
            "text/plain": [
              "  angerLikelihood blurredLikelihood  ... tiltAngle  underExposedLikelihood\n",
              "0   VERY_UNLIKELY     VERY_UNLIKELY  ...  1.984944           VERY_UNLIKELY\n",
              "\n",
              "[1 rows x 15 columns]"
            ]
          },
          "metadata": {
            "tags": []
          },
          "execution_count": 274
        }
      ]
    },
    {
      "cell_type": "markdown",
      "metadata": {
        "id": "7rFODqtRqPBP",
        "colab_type": "text"
      },
      "source": [
        ""
      ]
    },
    {
      "cell_type": "code",
      "metadata": {
        "id": "Ki7durGuioCX",
        "colab_type": "code",
        "outputId": "06514d12-d27e-4b5c-d3ef-952765cb2386",
        "colab": {
          "base_uri": "https://localhost:8080/",
          "height": 141
        },
        "cellView": "both"
      },
      "source": [
        "#@title\n",
        "vservice = build('vision', 'v1', developerKey=APIKEY)\n",
        "request = vservice.images().annotate(body={\n",
        "        'requests': [{\n",
        "                'image': {'source': {'gcs_image_uri': \"gs://achampiong_image/fan-gele0-amillionstyles.jpg\"}\n",
        "                },\n",
        "                'features': [{\n",
        "                    'type': \"FACE_DETECTION\",\n",
        "                    'maxResults': 10,\n",
        "                }]\n",
        "        \n",
        "      \n",
        "\n",
        "            }],\n",
        "        })\n",
        "responses = request.execute()\n",
        "annotation = responses['responses'][0]['faceAnnotations'][0]\n",
        "print('Surprise: {}\\nJoy: {}\\nSorrow: {}\\nAnger:{}\\nUnder Exposed:{}\\nBlurred:{}\\nHeadwear:{}'.format(annotation['surpriseLikelihood'], annotation['joyLikelihood'], annotation['sorrowLikelihood'], annotation['angerLikelihood'], annotation['underExposedLikelihood'], annotation['blurredLikelihood'], annotation['headwearLikelihood']))\n"
      ],
      "execution_count": 0,
      "outputs": [
        {
          "output_type": "stream",
          "text": [
            "Surprise: VERY_UNLIKELY\n",
            "Joy: VERY_LIKELY\n",
            "Sorrow: VERY_UNLIKELY\n",
            "Anger:VERY_UNLIKELY\n",
            "Under Exposed:VERY_UNLIKELY\n",
            "Blurred:VERY_UNLIKELY\n",
            "Headwear:VERY_LIKELY\n"
          ],
          "name": "stdout"
        }
      ]
    },
    {
      "cell_type": "markdown",
      "metadata": {
        "id": "P6jAFKVHpN75",
        "colab_type": "text"
      },
      "source": [
        "![alt text](https://storage.cloud.google.com/achampiong_image/fan-gele0-amillionstyles.jpg)\n",
        "\n"
      ]
    },
    {
      "cell_type": "markdown",
      "metadata": {
        "id": "oMDcsGf9urbd",
        "colab_type": "text"
      },
      "source": [
        "## Image Properties"
      ]
    },
    {
      "cell_type": "code",
      "metadata": {
        "id": "1vV2Ebg2oyFd",
        "colab_type": "code",
        "outputId": "3fc730bb-cbeb-4d3d-8c76-4602794b9847",
        "colab": {
          "base_uri": "https://localhost:8080/",
          "height": 35
        },
        "cellView": "both"
      },
      "source": [
        "#@title\n",
        "vservice = build('vision', 'v1', developerKey=APIKEY)\n",
        "request = vservice.images().annotate(body={\n",
        "        'requests': [{\n",
        "                'image': {'source': {'gcs_image_uri': \"gs://achampiong_image/blue.png\"}\n",
        "                },\n",
        "                'features': [{\n",
        "                    'type': \"IMAGE_PROPERTIES\",\n",
        "                    'maxResults': 10\n",
        "                }]\n",
        "        \n",
        "      \n",
        "\n",
        "            }],\n",
        "        })\n",
        "responses = request.execute()\n",
        "annotation = responses['responses'][0]['imagePropertiesAnnotation']['dominantColors']\n",
        "print(annotation)"
      ],
      "execution_count": 0,
      "outputs": [
        {
          "output_type": "stream",
          "text": [
            "{'colors': [{'color': {'blue': 255}, 'score': 1, 'pixelFraction': 1}]}\n"
          ],
          "name": "stdout"
        }
      ]
    },
    {
      "cell_type": "markdown",
      "metadata": {
        "id": "gVEfdWdkvBpi",
        "colab_type": "text"
      },
      "source": [
        "![alt text](https://storage.cloud.google.com/achampiong_image/blue.png)"
      ]
    },
    {
      "cell_type": "code",
      "metadata": {
        "id": "609byR_Ssy5Q",
        "colab_type": "code",
        "outputId": "288195b0-a099-4fc9-8aca-3090654e44fa",
        "colab": {
          "base_uri": "https://localhost:8080/",
          "height": 55
        },
        "cellView": "both"
      },
      "source": [
        "#@title\n",
        "vservice = build('vision', 'v1', developerKey=APIKEY)\n",
        "request = vservice.images().annotate(body={\n",
        "        'requests': [{\n",
        "                'image': {'source': {'gcs_image_uri': \"gs://achampiong_image/gh.png\"}\n",
        "                },\n",
        "                'features': [{\n",
        "                    'type': \"IMAGE_PROPERTIES\",\n",
        "                    'maxResults': 10\n",
        "                }]\n",
        "        \n",
        "      \n",
        "\n",
        "            }],\n",
        "        })\n",
        "responses = request.execute()\n",
        "annotation = responses['responses'][0]['imagePropertiesAnnotation']['dominantColors']\n",
        "print(annotation)"
      ],
      "execution_count": 0,
      "outputs": [
        {
          "output_type": "stream",
          "text": [
            "{'colors': [{'color': {'red': 3, 'green': 3}, 'score': 0.4273736, 'pixelFraction': 0.020818116}, {'color': {'red': 93, 'green': 76, 'blue': 7}, 'score': 0.15292276, 'pixelFraction': 0.0012174336}, {'color': {'red': 79, 'green': 138, 'blue': 50}, 'score': 0.0798304, 'pixelFraction': 0.013270027}, {'color': {'red': 148, 'green': 123, 'blue': 13}, 'score': 0.024496228, 'pixelFraction': 0.0014609204}, {'color': {'green': 107, 'blue': 63}, 'score': 0.007667781, 'pixelFraction': 0.3243243}, {'color': {'red': 30, 'green': 25, 'blue': 2}, 'score': 0.1574946, 'pixelFraction': 0.0021913806}, {'color': {'red': 72, 'green': 60, 'blue': 7}, 'score': 0.14561234, 'pixelFraction': 0.0010956903}, {'color': {'red': 90, 'green': 148, 'blue': 51}, 'score': 0.003138673, 'pixelFraction': 0.00024348673}, {'color': {'red': 111, 'green': 101, 'blue': 9}, 'score': 0.0014629225, 'pixelFraction': 0.00012174337}, {'color': {'red': 251, 'green': 209, 'blue': 22}, 'score': 4.316058e-07, 'pixelFraction': 0.26479182}]}\n"
          ],
          "name": "stdout"
        }
      ]
    },
    {
      "cell_type": "markdown",
      "metadata": {
        "id": "kvAatmiMvEm4",
        "colab_type": "text"
      },
      "source": [
        "![alt text](https://storage.cloud.google.com/achampiong_image/gh.png)"
      ]
    },
    {
      "cell_type": "markdown",
      "metadata": {
        "id": "QiqD95Q0vOGL",
        "colab_type": "text"
      },
      "source": [
        "# Label Detection"
      ]
    },
    {
      "cell_type": "code",
      "metadata": {
        "id": "Nay9UFivumf6",
        "colab_type": "code",
        "outputId": "7b63e8df-1706-48e1-c08c-2ababf7feeed",
        "colab": {
          "base_uri": "https://localhost:8080/",
          "height": 55
        },
        "cellView": "both"
      },
      "source": [
        "#@title\n",
        "vservice = build('vision', 'v1', developerKey=APIKEY)\n",
        "request = vservice.images().annotate(body={\n",
        "        'requests': [{\n",
        "                'image': {'source': {'gcs_image_uri': \"gs://achampiong_image/kej.jpg\"}\n",
        "                },\n",
        "                'features': [{\n",
        "                    'type': \"LABEL_DETECTION\",\n",
        "                    'maxResults': 10\n",
        "                }]\n",
        "        \n",
        "      \n",
        "\n",
        "            }],\n",
        "        })\n",
        "responses = request.execute()\n",
        "print(responses['responses'][0]['labelAnnotations'])"
      ],
      "execution_count": 0,
      "outputs": [
        {
          "output_type": "stream",
          "text": [
            "[{'mid': '/m/012f08', 'description': 'Motor vehicle', 'score': 0.9783724, 'topicality': 0.9783724}, {'mid': '/m/03qtwd', 'description': 'Crowd', 'score': 0.96355593, 'topicality': 0.96355593}, {'mid': '/m/09g5pq', 'description': 'People', 'score': 0.9634134, 'topicality': 0.9634134}, {'mid': '/m/01lqfm', 'description': 'Public space', 'score': 0.84885365, 'topicality': 0.84885365}, {'mid': '/m/02jp1h', 'description': 'Marketplace', 'score': 0.8456931, 'topicality': 0.8456931}, {'mid': '/m/0hnnb', 'description': 'Umbrella', 'score': 0.8354804, 'topicality': 0.8354804}, {'mid': '/m/07bsy', 'description': 'Transport', 'score': 0.83513474, 'topicality': 0.83513474}, {'mid': '/m/02prwx', 'description': 'Bazaar', 'score': 0.8112053, 'topicality': 0.8112053}, {'mid': '/m/0btp2', 'description': 'Traffic', 'score': 0.8096693, 'topicality': 0.8096693}, {'mid': '/m/079bkr', 'description': 'Mode of transport', 'score': 0.80817014, 'topicality': 0.80817014}]\n"
          ],
          "name": "stdout"
        }
      ]
    },
    {
      "cell_type": "code",
      "metadata": {
        "id": "lQLpUls4vnhI",
        "colab_type": "code",
        "outputId": "66416588-60c3-45f4-f750-0decb02560da",
        "colab": {
          "base_uri": "https://localhost:8080/",
          "height": 340
        },
        "cellView": "both"
      },
      "source": [
        "#@title\n",
        "import pandas as pd\n",
        "pd.DataFrame(responses['responses'][0]['labelAnnotations'])"
      ],
      "execution_count": 0,
      "outputs": [
        {
          "output_type": "execute_result",
          "data": {
            "text/html": [
              "<div>\n",
              "<style scoped>\n",
              "    .dataframe tbody tr th:only-of-type {\n",
              "        vertical-align: middle;\n",
              "    }\n",
              "\n",
              "    .dataframe tbody tr th {\n",
              "        vertical-align: top;\n",
              "    }\n",
              "\n",
              "    .dataframe thead th {\n",
              "        text-align: right;\n",
              "    }\n",
              "</style>\n",
              "<table border=\"1\" class=\"dataframe\">\n",
              "  <thead>\n",
              "    <tr style=\"text-align: right;\">\n",
              "      <th></th>\n",
              "      <th>description</th>\n",
              "      <th>mid</th>\n",
              "      <th>score</th>\n",
              "      <th>topicality</th>\n",
              "    </tr>\n",
              "  </thead>\n",
              "  <tbody>\n",
              "    <tr>\n",
              "      <th>0</th>\n",
              "      <td>Motor vehicle</td>\n",
              "      <td>/m/012f08</td>\n",
              "      <td>0.978372</td>\n",
              "      <td>0.978372</td>\n",
              "    </tr>\n",
              "    <tr>\n",
              "      <th>1</th>\n",
              "      <td>Crowd</td>\n",
              "      <td>/m/03qtwd</td>\n",
              "      <td>0.963556</td>\n",
              "      <td>0.963556</td>\n",
              "    </tr>\n",
              "    <tr>\n",
              "      <th>2</th>\n",
              "      <td>People</td>\n",
              "      <td>/m/09g5pq</td>\n",
              "      <td>0.963413</td>\n",
              "      <td>0.963413</td>\n",
              "    </tr>\n",
              "    <tr>\n",
              "      <th>3</th>\n",
              "      <td>Public space</td>\n",
              "      <td>/m/01lqfm</td>\n",
              "      <td>0.848854</td>\n",
              "      <td>0.848854</td>\n",
              "    </tr>\n",
              "    <tr>\n",
              "      <th>4</th>\n",
              "      <td>Marketplace</td>\n",
              "      <td>/m/02jp1h</td>\n",
              "      <td>0.845693</td>\n",
              "      <td>0.845693</td>\n",
              "    </tr>\n",
              "    <tr>\n",
              "      <th>5</th>\n",
              "      <td>Umbrella</td>\n",
              "      <td>/m/0hnnb</td>\n",
              "      <td>0.835480</td>\n",
              "      <td>0.835480</td>\n",
              "    </tr>\n",
              "    <tr>\n",
              "      <th>6</th>\n",
              "      <td>Transport</td>\n",
              "      <td>/m/07bsy</td>\n",
              "      <td>0.835135</td>\n",
              "      <td>0.835135</td>\n",
              "    </tr>\n",
              "    <tr>\n",
              "      <th>7</th>\n",
              "      <td>Bazaar</td>\n",
              "      <td>/m/02prwx</td>\n",
              "      <td>0.811205</td>\n",
              "      <td>0.811205</td>\n",
              "    </tr>\n",
              "    <tr>\n",
              "      <th>8</th>\n",
              "      <td>Traffic</td>\n",
              "      <td>/m/0btp2</td>\n",
              "      <td>0.809669</td>\n",
              "      <td>0.809669</td>\n",
              "    </tr>\n",
              "    <tr>\n",
              "      <th>9</th>\n",
              "      <td>Mode of transport</td>\n",
              "      <td>/m/079bkr</td>\n",
              "      <td>0.808170</td>\n",
              "      <td>0.808170</td>\n",
              "    </tr>\n",
              "  </tbody>\n",
              "</table>\n",
              "</div>"
            ],
            "text/plain": [
              "         description        mid     score  topicality\n",
              "0      Motor vehicle  /m/012f08  0.978372    0.978372\n",
              "1              Crowd  /m/03qtwd  0.963556    0.963556\n",
              "2             People  /m/09g5pq  0.963413    0.963413\n",
              "3       Public space  /m/01lqfm  0.848854    0.848854\n",
              "4        Marketplace  /m/02jp1h  0.845693    0.845693\n",
              "5           Umbrella   /m/0hnnb  0.835480    0.835480\n",
              "6          Transport   /m/07bsy  0.835135    0.835135\n",
              "7             Bazaar  /m/02prwx  0.811205    0.811205\n",
              "8            Traffic   /m/0btp2  0.809669    0.809669\n",
              "9  Mode of transport  /m/079bkr  0.808170    0.808170"
            ]
          },
          "metadata": {
            "tags": []
          },
          "execution_count": 276
        }
      ]
    },
    {
      "cell_type": "markdown",
      "metadata": {
        "id": "DXIOUyz24g-m",
        "colab_type": "text"
      },
      "source": [
        "![alt text](https://storage.cloud.google.com/achampiong_image/kej.jpg)"
      ]
    },
    {
      "cell_type": "markdown",
      "metadata": {
        "id": "M5ds2B4v8nvI",
        "colab_type": "text"
      },
      "source": [
        "## Landmark Detection"
      ]
    },
    {
      "cell_type": "code",
      "metadata": {
        "id": "fv7lN1TwxNzf",
        "colab_type": "code",
        "colab": {},
        "cellView": "both"
      },
      "source": [
        "#@title\n",
        "vservice = build('vision', 'v1', developerKey=APIKEY)\n",
        "request = vservice.images().annotate(body={\n",
        "        'requests': [{\n",
        "                'image': {'source': {'gcs_image_uri': \"gs://cloud-samples-data/vision/landmark/st_basils.jpeg\"}\n",
        "                },\n",
        "                'features': [{\n",
        "                    'type': \"LANDMARK_DETECTION\",\n",
        "                    'maxResults': 10\n",
        "                }]\n",
        "        \n",
        "      \n",
        "\n",
        "            }],\n",
        "        })\n",
        "responses = request.execute()\n",
        "#print(responses['responses'][0]['landmarkAnnotations'])\n",
        "g = pd.DataFrame(responses['responses'][0]['landmarkAnnotations'])"
      ],
      "execution_count": 0,
      "outputs": []
    },
    {
      "cell_type": "markdown",
      "metadata": {
        "id": "XUklY1tB_GyM",
        "colab_type": "text"
      },
      "source": [
        ""
      ]
    },
    {
      "cell_type": "code",
      "metadata": {
        "id": "MsYmVfhw9CBm",
        "colab_type": "code",
        "outputId": "28087738-0d9d-4d94-e00e-0050f316bdc1",
        "colab": {
          "base_uri": "https://localhost:8080/",
          "height": 52
        },
        "cellView": "both"
      },
      "source": [
        "#@title\n",
        "g['description']"
      ],
      "execution_count": 0,
      "outputs": [
        {
          "output_type": "execute_result",
          "data": {
            "text/plain": [
              "0    Saint Basil's Cathedral\n",
              "Name: description, dtype: object"
            ]
          },
          "metadata": {
            "tags": []
          },
          "execution_count": 294
        }
      ]
    },
    {
      "cell_type": "markdown",
      "metadata": {
        "id": "_nZOP9sS-tVd",
        "colab_type": "text"
      },
      "source": [
        "![alt text](https://cloud.google.com/vision/docs/images/moscow_small.jpeg)"
      ]
    },
    {
      "cell_type": "code",
      "metadata": {
        "id": "_8B0Pgbq9s5B",
        "colab_type": "code",
        "colab": {},
        "cellView": "both"
      },
      "source": [
        "#@title\n",
        "vservice = build('vision', 'v1', developerKey=APIKEY)\n",
        "request = vservice.images().annotate(body={\n",
        "        'requests': [{\n",
        "                'image': {'source': {'gcs_image_uri': \"gs://achampiong_image/l1.jpg\"}\n",
        "                },\n",
        "                'features': [{\n",
        "                    'type': \"LANDMARK_DETECTION\",\n",
        "                    'maxResults': 10\n",
        "                }]\n",
        "        \n",
        "      \n",
        "\n",
        "            }],\n",
        "        })\n",
        "responses = request.execute()\n",
        "#print(responses['responses'][0]['landmarkAnnotations'])\n",
        "g = pd.DataFrame(responses['responses'][0]['landmarkAnnotations'])"
      ],
      "execution_count": 0,
      "outputs": []
    },
    {
      "cell_type": "code",
      "metadata": {
        "id": "KmmuE-JX_M3H",
        "colab_type": "code",
        "outputId": "2001447d-41c9-42d7-9eeb-9f8ed935d8f9",
        "colab": {
          "base_uri": "https://localhost:8080/",
          "height": 52
        },
        "cellView": "both"
      },
      "source": [
        "#@title\n",
        "g['description']"
      ],
      "execution_count": 0,
      "outputs": [
        {
          "output_type": "execute_result",
          "data": {
            "text/plain": [
              "0    Eiffel Tower\n",
              "Name: description, dtype: object"
            ]
          },
          "metadata": {
            "tags": []
          },
          "execution_count": 299
        }
      ]
    },
    {
      "cell_type": "markdown",
      "metadata": {
        "id": "9J29EC9r_U_v",
        "colab_type": "text"
      },
      "source": [
        "![alt text](https://storage.cloud.google.com/achampiong_image/l1.jpg)"
      ]
    },
    {
      "cell_type": "code",
      "metadata": {
        "id": "rYRrhW1a_ORc",
        "colab_type": "code",
        "colab": {},
        "cellView": "both"
      },
      "source": [
        "#@title\n",
        "vservice = build('vision', 'v1', developerKey=APIKEY)\n",
        "request = vservice.images().annotate(body={\n",
        "        'requests': [{\n",
        "                'image': {'source': {'gcs_image_uri': \"gs://achampiong_image/l3.jpg\"}\n",
        "                },\n",
        "                'features': [{\n",
        "                    'type': \"LANDMARK_DETECTION\",\n",
        "                    'maxResults': 10\n",
        "                }]\n",
        "        \n",
        "      \n",
        "\n",
        "            }],\n",
        "        })\n",
        "responses = request.execute()\n",
        "#print(responses['responses'][0]['landmarkAnnotations'])\n",
        "g = pd.DataFrame(responses['responses'][0]['landmarkAnnotations'])"
      ],
      "execution_count": 0,
      "outputs": []
    },
    {
      "cell_type": "code",
      "metadata": {
        "id": "r7kIaRXgADSU",
        "colab_type": "code",
        "outputId": "c6f88c2c-cb86-4646-e9e6-9f854ade3e38",
        "colab": {
          "base_uri": "https://localhost:8080/",
          "height": 35
        },
        "cellView": "both"
      },
      "source": [
        "#@title\n",
        "g.iloc[0]['description']"
      ],
      "execution_count": 0,
      "outputs": [
        {
          "output_type": "execute_result",
          "data": {
            "text/plain": [
              "'Brooklyn Bridge'"
            ]
          },
          "metadata": {
            "tags": []
          },
          "execution_count": 305
        }
      ]
    },
    {
      "cell_type": "markdown",
      "metadata": {
        "id": "kRNV-PePAjIs",
        "colab_type": "text"
      },
      "source": [
        "![alt text](https://storage.cloud.google.com/achampiong_image/l3.jpg)"
      ]
    },
    {
      "cell_type": "markdown",
      "metadata": {
        "id": "jwWAbfTvA4bf",
        "colab_type": "text"
      },
      "source": [
        "## Logo Detection"
      ]
    },
    {
      "cell_type": "code",
      "metadata": {
        "id": "ZIwbA8sHA3eK",
        "colab_type": "code",
        "outputId": "09fa2e01-6273-489b-c79e-828ac58461f8",
        "colab": {
          "base_uri": "https://localhost:8080/",
          "height": 35
        },
        "cellView": "both"
      },
      "source": [
        "#@title\n",
        "vservice = build('vision', 'v1', developerKey=APIKEY)\n",
        "request = vservice.images().annotate(body={\n",
        "        'requests': [{\n",
        "                'image': {'source': {'gcs_image_uri': \"gs://achampiong_image/l4.jpg\"}\n",
        "                },\n",
        "                'features': [{\n",
        "                    \"type\": \"LOGO_DETECTION\",\n",
        "                    'maxResults': 10\n",
        "                }]\n",
        "        \n",
        "      \n",
        "\n",
        "            }],\n",
        "        })\n",
        "responses = request.execute()\n",
        "print(responses['responses'][0]['logoAnnotations'])\n",
        "l = pd.DataFrame(responses['responses'][0]['logoAnnotations'])"
      ],
      "execution_count": 0,
      "outputs": [
        {
          "output_type": "stream",
          "text": [
            "[{'mid': '/m/0jvs0', 'description': 'morgan stanley', 'score': 0.932875, 'boundingPoly': {'vertices': [{'x': 158, 'y': 106}, {'x': 523, 'y': 106}, {'x': 523, 'y': 281}, {'x': 158, 'y': 281}]}}]\n"
          ],
          "name": "stdout"
        }
      ]
    },
    {
      "cell_type": "code",
      "metadata": {
        "id": "GlcxVkSgBKN4",
        "colab_type": "code",
        "outputId": "9a3bb98b-7434-43f5-facc-1094be813962",
        "colab": {
          "base_uri": "https://localhost:8080/",
          "height": 35
        },
        "cellView": "both"
      },
      "source": [
        "#@title\n",
        "l.iloc[0]['description']"
      ],
      "execution_count": 0,
      "outputs": [
        {
          "output_type": "execute_result",
          "data": {
            "text/plain": [
              "'morgan stanley'"
            ]
          },
          "metadata": {
            "tags": []
          },
          "execution_count": 312
        }
      ]
    },
    {
      "cell_type": "markdown",
      "metadata": {
        "id": "fpQV7A3ACMg2",
        "colab_type": "text"
      },
      "source": [
        "![alt text](https://storage.cloud.google.com/achampiong_image/l4.jpg)"
      ]
    },
    {
      "cell_type": "markdown",
      "metadata": {
        "id": "4U9oy0V1DFUH",
        "colab_type": "text"
      },
      "source": [
        "># 3. Natural Language API \n",
        "![alt text](https://cms-assets.tutsplus.com/uploads/users/362/posts/28890/preview_image/preview.png)"
      ]
    },
    {
      "cell_type": "markdown",
      "metadata": {
        "id": "AqrXOQvqM9QD",
        "colab_type": "text"
      },
      "source": [
        "## Sentiment Analysis"
      ]
    },
    {
      "cell_type": "code",
      "metadata": {
        "id": "eBrSO0FoBu3p",
        "colab_type": "code",
        "outputId": "d7029544-8f54-4fb3-9f6a-769e8c885977",
        "colab": {
          "base_uri": "https://localhost:8080/",
          "height": 88
        },
        "cellView": "both"
      },
      "source": [
        "#@title\n",
        "lservice = build('language', 'v1beta1', developerKey=APIKEY)\n",
        "\n",
        "words = [\"I hate you\", \"I love you\", \"The world is great\", \"This song is awful\"]\n",
        "\n",
        "for word in words:\n",
        "  response = lservice.documents().analyzeSentiment(\n",
        "    body={\n",
        "      'document': {\n",
        "         'type': 'PLAIN_TEXT',\n",
        "         'content': word\n",
        "      }\n",
        "    }).execute()\n",
        "  \n",
        "  polarity = response['documentSentiment']['polarity']\n",
        "  magnitude = response['documentSentiment']['magnitude']\n",
        "  print('POLARITY=%s MAGNITUDE=%s for %s' % (polarity, magnitude, word))"
      ],
      "execution_count": 0,
      "outputs": [
        {
          "output_type": "stream",
          "text": [
            "POLARITY=-1 MAGNITUDE=0.6 for I hate you\n",
            "POLARITY=1 MAGNITUDE=0.8 for I love you\n",
            "POLARITY=1 MAGNITUDE=0.8 for The world is great\n",
            "POLARITY=-1 MAGNITUDE=0.9 for This song is awful\n"
          ],
          "name": "stdout"
        }
      ]
    },
    {
      "cell_type": "markdown",
      "metadata": {
        "id": "N5eNwnMZNc3b",
        "colab_type": "text"
      },
      "source": [
        "## Entity Analysis"
      ]
    },
    {
      "cell_type": "code",
      "metadata": {
        "id": "U3TCMOZfDzrN",
        "colab_type": "code",
        "outputId": "379960ce-98ec-4203-8b44-0a2ce0e1d8cf",
        "colab": {
          "base_uri": "https://localhost:8080/",
          "height": 55
        },
        "cellView": "both"
      },
      "source": [
        "#@title\n",
        "lservice = build('language', 'v1beta1', developerKey=APIKEY)\n",
        "\n",
        "words = 'President Kennedy spoke at the White House.'\n",
        "\n",
        "response = lservice.documents().analyzeEntities(\n",
        "    body={\n",
        "      'document': {\n",
        "         'type': 'PLAIN_TEXT',\n",
        "         'content': words\n",
        "      }\n",
        "    }).execute()\n",
        "  \n",
        "print(response)"
      ],
      "execution_count": 0,
      "outputs": [
        {
          "output_type": "stream",
          "text": [
            "{'entities': [{'name': 'Kennedy', 'type': 'PERSON', 'metadata': {'mid': '/m/0d3k14', 'wikipedia_url': 'https://en.wikipedia.org/wiki/John_F._Kennedy'}, 'salience': 0.9562666, 'mentions': [{'text': {'content': 'Kennedy', 'beginOffset': -1}, 'type': 'PROPER'}, {'text': {'content': 'President', 'beginOffset': -1}, 'type': 'COMMON'}]}, {'name': 'White House', 'type': 'LOCATION', 'metadata': {'mid': '/m/081sq', 'wikipedia_url': 'https://en.wikipedia.org/wiki/White_House'}, 'salience': 0.043733425, 'mentions': [{'text': {'content': 'White House', 'beginOffset': -1}, 'type': 'PROPER'}]}], 'language': 'en'}\n"
          ],
          "name": "stdout"
        }
      ]
    },
    {
      "cell_type": "code",
      "metadata": {
        "id": "_HIRHAACF4Se",
        "colab_type": "code",
        "colab": {},
        "cellView": "both"
      },
      "source": [
        "#@title\n",
        "pt =pd.DataFrame(response['entities'])"
      ],
      "execution_count": 0,
      "outputs": []
    },
    {
      "cell_type": "code",
      "metadata": {
        "id": "d40MGEOSKzz6",
        "colab_type": "code",
        "outputId": "7de23c6c-340d-476e-c972-6402734fb570",
        "colab": {
          "base_uri": "https://localhost:8080/",
          "height": 106
        },
        "cellView": "both"
      },
      "source": [
        "#@title\n",
        "pt"
      ],
      "execution_count": 0,
      "outputs": [
        {
          "output_type": "execute_result",
          "data": {
            "text/html": [
              "<div>\n",
              "<style scoped>\n",
              "    .dataframe tbody tr th:only-of-type {\n",
              "        vertical-align: middle;\n",
              "    }\n",
              "\n",
              "    .dataframe tbody tr th {\n",
              "        vertical-align: top;\n",
              "    }\n",
              "\n",
              "    .dataframe thead th {\n",
              "        text-align: right;\n",
              "    }\n",
              "</style>\n",
              "<table border=\"1\" class=\"dataframe\">\n",
              "  <thead>\n",
              "    <tr style=\"text-align: right;\">\n",
              "      <th></th>\n",
              "      <th>mentions</th>\n",
              "      <th>metadata</th>\n",
              "      <th>name</th>\n",
              "      <th>salience</th>\n",
              "      <th>type</th>\n",
              "    </tr>\n",
              "  </thead>\n",
              "  <tbody>\n",
              "    <tr>\n",
              "      <th>0</th>\n",
              "      <td>[{'text': {'content': 'Kennedy', 'beginOffset'...</td>\n",
              "      <td>{'mid': '/m/0d3k14', 'wikipedia_url': 'https:/...</td>\n",
              "      <td>Kennedy</td>\n",
              "      <td>0.956267</td>\n",
              "      <td>PERSON</td>\n",
              "    </tr>\n",
              "    <tr>\n",
              "      <th>1</th>\n",
              "      <td>[{'text': {'content': 'White House', 'beginOff...</td>\n",
              "      <td>{'mid': '/m/081sq', 'wikipedia_url': 'https://...</td>\n",
              "      <td>White House</td>\n",
              "      <td>0.043733</td>\n",
              "      <td>LOCATION</td>\n",
              "    </tr>\n",
              "  </tbody>\n",
              "</table>\n",
              "</div>"
            ],
            "text/plain": [
              "                                            mentions  ...      type\n",
              "0  [{'text': {'content': 'Kennedy', 'beginOffset'...  ...    PERSON\n",
              "1  [{'text': {'content': 'White House', 'beginOff...  ...  LOCATION\n",
              "\n",
              "[2 rows x 5 columns]"
            ]
          },
          "metadata": {
            "tags": []
          },
          "execution_count": 347
        }
      ]
    },
    {
      "cell_type": "code",
      "metadata": {
        "id": "aUlGcEY-K3cQ",
        "colab_type": "code",
        "outputId": "5653111d-75ab-4565-ef18-b2e8135941b9",
        "colab": {
          "base_uri": "https://localhost:8080/",
          "height": 55
        },
        "cellView": "both"
      },
      "source": [
        "#@title\n",
        "lservice = build('language', 'v1beta1', developerKey=APIKEY)\n",
        "\n",
        "words = '\"Regina King, I love you so much. You taught us patience, persistence, and how to be masterful in your craft. Chadwick Boseman is teaching children to dream and to see themselves as kings. LeBron James has taught us strength of all forms in leading by example and providing education for our kids. Ryan Coogler tells our story in a way that celebrates our history and proved that we do have power at the box office, and I’m honored to be included among all of you and to a part of a vital, thriving, beautiful community. Thank you so much, NAACP, God bless you. I hope ya’ll had a great night.\"'\n",
        "\n",
        "response = lservice.documents().analyzeEntities(\n",
        "    body={\n",
        "      'document': {\n",
        "         'type': 'PLAIN_TEXT',\n",
        "         'content': words\n",
        "      }\n",
        "    }).execute()\n",
        "  \n",
        "print(response)"
      ],
      "execution_count": 0,
      "outputs": [
        {
          "output_type": "stream",
          "text": [
            "{'entities': [{'name': 'Regina King', 'type': 'PERSON', 'metadata': {'mid': '/m/05fmqq', 'wikipedia_url': 'https://en.wikipedia.org/wiki/Regina_King'}, 'salience': 0.20846768, 'mentions': [{'text': {'content': 'Regina King', 'beginOffset': -1}, 'type': 'PROPER'}]}, {'name': 'children', 'type': 'PERSON', 'metadata': {}, 'salience': 0.14126605, 'mentions': [{'text': {'content': 'children', 'beginOffset': -1}, 'type': 'COMMON'}]}, {'name': 'patience', 'type': 'OTHER', 'metadata': {}, 'salience': 0.10487081, 'mentions': [{'text': {'content': 'patience', 'beginOffset': -1}, 'type': 'COMMON'}]}, {'name': 'persistence', 'type': 'OTHER', 'metadata': {}, 'salience': 0.09754407, 'mentions': [{'text': {'content': 'persistence', 'beginOffset': -1}, 'type': 'COMMON'}]}, {'name': 'way', 'type': 'OTHER', 'metadata': {}, 'salience': 0.058800172, 'mentions': [{'text': {'content': 'way', 'beginOffset': -1}, 'type': 'COMMON'}]}, {'name': 'history', 'type': 'OTHER', 'metadata': {}, 'salience': 0.044317152, 'mentions': [{'text': {'content': 'history', 'beginOffset': -1}, 'type': 'COMMON'}]}, {'name': 'craft', 'type': 'OTHER', 'metadata': {}, 'salience': 0.037311025, 'mentions': [{'text': {'content': 'craft', 'beginOffset': -1}, 'type': 'COMMON'}]}, {'name': 'kings', 'type': 'PERSON', 'metadata': {}, 'salience': 0.028551895, 'mentions': [{'text': {'content': 'kings', 'beginOffset': -1}, 'type': 'COMMON'}]}, {'name': 'strength', 'type': 'OTHER', 'metadata': {}, 'salience': 0.026911588, 'mentions': [{'text': {'content': 'strength', 'beginOffset': -1}, 'type': 'COMMON'}]}, {'name': 'kids', 'type': 'PERSON', 'metadata': {}, 'salience': 0.025312176, 'mentions': [{'text': {'content': 'kids', 'beginOffset': -1}, 'type': 'COMMON'}]}, {'name': 'example', 'type': 'OTHER', 'metadata': {}, 'salience': 0.025312176, 'mentions': [{'text': {'content': 'example', 'beginOffset': -1}, 'type': 'COMMON'}]}, {'name': 'forms', 'type': 'OTHER', 'metadata': {}, 'salience': 0.025003828, 'mentions': [{'text': {'content': 'forms', 'beginOffset': -1}, 'type': 'COMMON'}]}, {'name': 'power', 'type': 'OTHER', 'metadata': {}, 'salience': 0.022884872, 'mentions': [{'text': {'content': 'power', 'beginOffset': -1}, 'type': 'COMMON'}]}, {'name': 'Chadwick Boseman', 'type': 'PERSON', 'metadata': {'mid': '/m/0bm96gr', 'wikipedia_url': 'https://en.wikipedia.org/wiki/Chadwick_Boseman'}, 'salience': 0.0219972, 'mentions': [{'text': {'content': 'Chadwick Boseman', 'beginOffset': -1}, 'type': 'PROPER'}]}, {'name': 'education', 'type': 'OTHER', 'metadata': {}, 'salience': 0.019326564, 'mentions': [{'text': {'content': 'education', 'beginOffset': -1}, 'type': 'COMMON'}]}, {'name': 'story', 'type': 'OTHER', 'metadata': {}, 'salience': 0.018806439, 'mentions': [{'text': {'content': 'story', 'beginOffset': -1}, 'type': 'COMMON'}]}, {'name': 'part', 'type': 'OTHER', 'metadata': {}, 'salience': 0.017471248, 'mentions': [{'text': {'content': 'part', 'beginOffset': -1}, 'type': 'COMMON'}]}, {'name': 'community', 'type': 'PERSON', 'metadata': {}, 'salience': 0.017471248, 'mentions': [{'text': {'content': 'community', 'beginOffset': -1}, 'type': 'COMMON'}]}, {'name': 'LeBron James', 'type': 'PERSON', 'metadata': {'mid': '/m/01jz6d', 'wikipedia_url': 'https://en.wikipedia.org/wiki/LeBron_James'}, 'salience': 0.014799981, 'mentions': [{'text': {'content': 'LeBron James', 'beginOffset': -1}, 'type': 'PROPER'}]}, {'name': 'Ryan Coogler', 'type': 'PERSON', 'metadata': {'mid': '/m/0q587ql', 'wikipedia_url': 'https://en.wikipedia.org/wiki/Ryan_Coogler'}, 'salience': 0.012736484, 'mentions': [{'text': {'content': 'Ryan Coogler', 'beginOffset': -1}, 'type': 'PROPER'}]}, {'name': 'all', 'type': 'OTHER', 'metadata': {}, 'salience': 0.008730669, 'mentions': [{'text': {'content': 'all', 'beginOffset': -1}, 'type': 'COMMON'}]}, {'name': 'box office', 'type': 'OTHER', 'metadata': {}, 'salience': 0.007669063, 'mentions': [{'text': {'content': 'box office', 'beginOffset': -1}, 'type': 'COMMON'}]}, {'name': 'NAACP', 'type': 'ORGANIZATION', 'metadata': {'mid': '/m/05hpy', 'wikipedia_url': 'https://en.wikipedia.org/wiki/NAACP'}, 'salience': 0.007218807, 'mentions': [{'text': {'content': 'NAACP', 'beginOffset': -1}, 'type': 'PROPER'}]}, {'name': 'God', 'type': 'PERSON', 'metadata': {'mid': '/m/0d05l6', 'wikipedia_url': 'https://en.wikipedia.org/wiki/God'}, 'salience': 0.007218807, 'mentions': [{'text': {'content': 'God', 'beginOffset': -1}, 'type': 'PROPER'}]}], 'language': 'en'}\n"
          ],
          "name": "stdout"
        }
      ]
    },
    {
      "cell_type": "code",
      "metadata": {
        "id": "1E_hhNMHLHVW",
        "colab_type": "code",
        "outputId": "2bd601d4-6fca-4844-91d2-1d27dfe07fdb",
        "colab": {
          "base_uri": "https://localhost:8080/",
          "height": 751
        },
        "cellView": "both"
      },
      "source": [
        "#@title\n",
        "pt =pd.DataFrame(response['entities'])\n",
        "pt"
      ],
      "execution_count": 0,
      "outputs": [
        {
          "output_type": "execute_result",
          "data": {
            "text/html": [
              "<div>\n",
              "<style scoped>\n",
              "    .dataframe tbody tr th:only-of-type {\n",
              "        vertical-align: middle;\n",
              "    }\n",
              "\n",
              "    .dataframe tbody tr th {\n",
              "        vertical-align: top;\n",
              "    }\n",
              "\n",
              "    .dataframe thead th {\n",
              "        text-align: right;\n",
              "    }\n",
              "</style>\n",
              "<table border=\"1\" class=\"dataframe\">\n",
              "  <thead>\n",
              "    <tr style=\"text-align: right;\">\n",
              "      <th></th>\n",
              "      <th>mentions</th>\n",
              "      <th>metadata</th>\n",
              "      <th>name</th>\n",
              "      <th>salience</th>\n",
              "      <th>type</th>\n",
              "    </tr>\n",
              "  </thead>\n",
              "  <tbody>\n",
              "    <tr>\n",
              "      <th>0</th>\n",
              "      <td>[{'text': {'content': 'Regina King', 'beginOff...</td>\n",
              "      <td>{'mid': '/m/05fmqq', 'wikipedia_url': 'https:/...</td>\n",
              "      <td>Regina King</td>\n",
              "      <td>0.208468</td>\n",
              "      <td>PERSON</td>\n",
              "    </tr>\n",
              "    <tr>\n",
              "      <th>1</th>\n",
              "      <td>[{'text': {'content': 'children', 'beginOffset...</td>\n",
              "      <td>{}</td>\n",
              "      <td>children</td>\n",
              "      <td>0.141266</td>\n",
              "      <td>PERSON</td>\n",
              "    </tr>\n",
              "    <tr>\n",
              "      <th>2</th>\n",
              "      <td>[{'text': {'content': 'patience', 'beginOffset...</td>\n",
              "      <td>{}</td>\n",
              "      <td>patience</td>\n",
              "      <td>0.104871</td>\n",
              "      <td>OTHER</td>\n",
              "    </tr>\n",
              "    <tr>\n",
              "      <th>3</th>\n",
              "      <td>[{'text': {'content': 'persistence', 'beginOff...</td>\n",
              "      <td>{}</td>\n",
              "      <td>persistence</td>\n",
              "      <td>0.097544</td>\n",
              "      <td>OTHER</td>\n",
              "    </tr>\n",
              "    <tr>\n",
              "      <th>4</th>\n",
              "      <td>[{'text': {'content': 'way', 'beginOffset': -1...</td>\n",
              "      <td>{}</td>\n",
              "      <td>way</td>\n",
              "      <td>0.058800</td>\n",
              "      <td>OTHER</td>\n",
              "    </tr>\n",
              "    <tr>\n",
              "      <th>5</th>\n",
              "      <td>[{'text': {'content': 'history', 'beginOffset'...</td>\n",
              "      <td>{}</td>\n",
              "      <td>history</td>\n",
              "      <td>0.044317</td>\n",
              "      <td>OTHER</td>\n",
              "    </tr>\n",
              "    <tr>\n",
              "      <th>6</th>\n",
              "      <td>[{'text': {'content': 'craft', 'beginOffset': ...</td>\n",
              "      <td>{}</td>\n",
              "      <td>craft</td>\n",
              "      <td>0.037311</td>\n",
              "      <td>OTHER</td>\n",
              "    </tr>\n",
              "    <tr>\n",
              "      <th>7</th>\n",
              "      <td>[{'text': {'content': 'kings', 'beginOffset': ...</td>\n",
              "      <td>{}</td>\n",
              "      <td>kings</td>\n",
              "      <td>0.028552</td>\n",
              "      <td>PERSON</td>\n",
              "    </tr>\n",
              "    <tr>\n",
              "      <th>8</th>\n",
              "      <td>[{'text': {'content': 'strength', 'beginOffset...</td>\n",
              "      <td>{}</td>\n",
              "      <td>strength</td>\n",
              "      <td>0.026912</td>\n",
              "      <td>OTHER</td>\n",
              "    </tr>\n",
              "    <tr>\n",
              "      <th>9</th>\n",
              "      <td>[{'text': {'content': 'kids', 'beginOffset': -...</td>\n",
              "      <td>{}</td>\n",
              "      <td>kids</td>\n",
              "      <td>0.025312</td>\n",
              "      <td>PERSON</td>\n",
              "    </tr>\n",
              "    <tr>\n",
              "      <th>10</th>\n",
              "      <td>[{'text': {'content': 'example', 'beginOffset'...</td>\n",
              "      <td>{}</td>\n",
              "      <td>example</td>\n",
              "      <td>0.025312</td>\n",
              "      <td>OTHER</td>\n",
              "    </tr>\n",
              "    <tr>\n",
              "      <th>11</th>\n",
              "      <td>[{'text': {'content': 'forms', 'beginOffset': ...</td>\n",
              "      <td>{}</td>\n",
              "      <td>forms</td>\n",
              "      <td>0.025004</td>\n",
              "      <td>OTHER</td>\n",
              "    </tr>\n",
              "    <tr>\n",
              "      <th>12</th>\n",
              "      <td>[{'text': {'content': 'power', 'beginOffset': ...</td>\n",
              "      <td>{}</td>\n",
              "      <td>power</td>\n",
              "      <td>0.022885</td>\n",
              "      <td>OTHER</td>\n",
              "    </tr>\n",
              "    <tr>\n",
              "      <th>13</th>\n",
              "      <td>[{'text': {'content': 'Chadwick Boseman', 'beg...</td>\n",
              "      <td>{'mid': '/m/0bm96gr', 'wikipedia_url': 'https:...</td>\n",
              "      <td>Chadwick Boseman</td>\n",
              "      <td>0.021997</td>\n",
              "      <td>PERSON</td>\n",
              "    </tr>\n",
              "    <tr>\n",
              "      <th>14</th>\n",
              "      <td>[{'text': {'content': 'education', 'beginOffse...</td>\n",
              "      <td>{}</td>\n",
              "      <td>education</td>\n",
              "      <td>0.019327</td>\n",
              "      <td>OTHER</td>\n",
              "    </tr>\n",
              "    <tr>\n",
              "      <th>15</th>\n",
              "      <td>[{'text': {'content': 'story', 'beginOffset': ...</td>\n",
              "      <td>{}</td>\n",
              "      <td>story</td>\n",
              "      <td>0.018806</td>\n",
              "      <td>OTHER</td>\n",
              "    </tr>\n",
              "    <tr>\n",
              "      <th>16</th>\n",
              "      <td>[{'text': {'content': 'part', 'beginOffset': -...</td>\n",
              "      <td>{}</td>\n",
              "      <td>part</td>\n",
              "      <td>0.017471</td>\n",
              "      <td>OTHER</td>\n",
              "    </tr>\n",
              "    <tr>\n",
              "      <th>17</th>\n",
              "      <td>[{'text': {'content': 'community', 'beginOffse...</td>\n",
              "      <td>{}</td>\n",
              "      <td>community</td>\n",
              "      <td>0.017471</td>\n",
              "      <td>PERSON</td>\n",
              "    </tr>\n",
              "    <tr>\n",
              "      <th>18</th>\n",
              "      <td>[{'text': {'content': 'LeBron James', 'beginOf...</td>\n",
              "      <td>{'mid': '/m/01jz6d', 'wikipedia_url': 'https:/...</td>\n",
              "      <td>LeBron James</td>\n",
              "      <td>0.014800</td>\n",
              "      <td>PERSON</td>\n",
              "    </tr>\n",
              "    <tr>\n",
              "      <th>19</th>\n",
              "      <td>[{'text': {'content': 'Ryan Coogler', 'beginOf...</td>\n",
              "      <td>{'mid': '/m/0q587ql', 'wikipedia_url': 'https:...</td>\n",
              "      <td>Ryan Coogler</td>\n",
              "      <td>0.012736</td>\n",
              "      <td>PERSON</td>\n",
              "    </tr>\n",
              "    <tr>\n",
              "      <th>20</th>\n",
              "      <td>[{'text': {'content': 'all', 'beginOffset': -1...</td>\n",
              "      <td>{}</td>\n",
              "      <td>all</td>\n",
              "      <td>0.008731</td>\n",
              "      <td>OTHER</td>\n",
              "    </tr>\n",
              "    <tr>\n",
              "      <th>21</th>\n",
              "      <td>[{'text': {'content': 'box office', 'beginOffs...</td>\n",
              "      <td>{}</td>\n",
              "      <td>box office</td>\n",
              "      <td>0.007669</td>\n",
              "      <td>OTHER</td>\n",
              "    </tr>\n",
              "    <tr>\n",
              "      <th>22</th>\n",
              "      <td>[{'text': {'content': 'NAACP', 'beginOffset': ...</td>\n",
              "      <td>{'mid': '/m/05hpy', 'wikipedia_url': 'https://...</td>\n",
              "      <td>NAACP</td>\n",
              "      <td>0.007219</td>\n",
              "      <td>ORGANIZATION</td>\n",
              "    </tr>\n",
              "    <tr>\n",
              "      <th>23</th>\n",
              "      <td>[{'text': {'content': 'God', 'beginOffset': -1...</td>\n",
              "      <td>{'mid': '/m/0d05l6', 'wikipedia_url': 'https:/...</td>\n",
              "      <td>God</td>\n",
              "      <td>0.007219</td>\n",
              "      <td>PERSON</td>\n",
              "    </tr>\n",
              "  </tbody>\n",
              "</table>\n",
              "</div>"
            ],
            "text/plain": [
              "                                             mentions  ...          type\n",
              "0   [{'text': {'content': 'Regina King', 'beginOff...  ...        PERSON\n",
              "1   [{'text': {'content': 'children', 'beginOffset...  ...        PERSON\n",
              "2   [{'text': {'content': 'patience', 'beginOffset...  ...         OTHER\n",
              "3   [{'text': {'content': 'persistence', 'beginOff...  ...         OTHER\n",
              "4   [{'text': {'content': 'way', 'beginOffset': -1...  ...         OTHER\n",
              "5   [{'text': {'content': 'history', 'beginOffset'...  ...         OTHER\n",
              "6   [{'text': {'content': 'craft', 'beginOffset': ...  ...         OTHER\n",
              "7   [{'text': {'content': 'kings', 'beginOffset': ...  ...        PERSON\n",
              "8   [{'text': {'content': 'strength', 'beginOffset...  ...         OTHER\n",
              "9   [{'text': {'content': 'kids', 'beginOffset': -...  ...        PERSON\n",
              "10  [{'text': {'content': 'example', 'beginOffset'...  ...         OTHER\n",
              "11  [{'text': {'content': 'forms', 'beginOffset': ...  ...         OTHER\n",
              "12  [{'text': {'content': 'power', 'beginOffset': ...  ...         OTHER\n",
              "13  [{'text': {'content': 'Chadwick Boseman', 'beg...  ...        PERSON\n",
              "14  [{'text': {'content': 'education', 'beginOffse...  ...         OTHER\n",
              "15  [{'text': {'content': 'story', 'beginOffset': ...  ...         OTHER\n",
              "16  [{'text': {'content': 'part', 'beginOffset': -...  ...         OTHER\n",
              "17  [{'text': {'content': 'community', 'beginOffse...  ...        PERSON\n",
              "18  [{'text': {'content': 'LeBron James', 'beginOf...  ...        PERSON\n",
              "19  [{'text': {'content': 'Ryan Coogler', 'beginOf...  ...        PERSON\n",
              "20  [{'text': {'content': 'all', 'beginOffset': -1...  ...         OTHER\n",
              "21  [{'text': {'content': 'box office', 'beginOffs...  ...         OTHER\n",
              "22  [{'text': {'content': 'NAACP', 'beginOffset': ...  ...  ORGANIZATION\n",
              "23  [{'text': {'content': 'God', 'beginOffset': -1...  ...        PERSON\n",
              "\n",
              "[24 rows x 5 columns]"
            ]
          },
          "metadata": {
            "tags": []
          },
          "execution_count": 350
        }
      ]
    },
    {
      "cell_type": "markdown",
      "metadata": {
        "id": "yxXMfB1yLWWo",
        "colab_type": "text"
      },
      "source": [
        "![alt text](https://hips.hearstapps.com/hmg-prod.s3.amazonaws.com/images/gettyimages-1139516807.jpg?crop=1.00xw:0.947xh;0,0.0530xh&resize=980:*)"
      ]
    },
    {
      "cell_type": "markdown",
      "metadata": {
        "id": "A1UR4-1tNmNf",
        "colab_type": "text"
      },
      "source": [
        "## Syntax Analysis"
      ]
    },
    {
      "cell_type": "code",
      "metadata": {
        "id": "sTGewnlfLMw0",
        "colab_type": "code",
        "outputId": "7004304a-059e-4ed1-e7b3-8e7d71753dbf",
        "colab": {
          "base_uri": "https://localhost:8080/",
          "height": 55
        },
        "cellView": "both"
      },
      "source": [
        "#@title\n",
        "lservice = build('language', 'v1beta1', developerKey=APIKEY)\n",
        "\n",
        "words = '\"Regina King, I love you so much. You taught us patience, persistence, and how to be masterful in your craft. Chadwick Boseman is teaching children to dream and to see themselves as kings. LeBron James has taught us strength of all forms in leading by example and providing education for our kids. Ryan Coogler tells our story in a way that celebrates our history and proved that we do have power at the box office, and I’m honored to be included among all of you and to a part of a vital, thriving, beautiful community. Thank you so much, NAACP, God bless you. I hope ya’ll had a great night.\"'\n",
        "\n",
        "response = lservice.documents().analyzeSyntax(\n",
        "    body={\n",
        "      'document': {\n",
        "         'type': 'PLAIN_TEXT',\n",
        "         'content': words\n",
        "      }\n",
        "    }).execute()\n",
        "  \n",
        "print(response)"
      ],
      "execution_count": 0,
      "outputs": [
        {
          "output_type": "stream",
          "text": [
            "{'sentences': [{'text': {'content': '\"Regina King, I love you so much.', 'beginOffset': -1}}, {'text': {'content': 'You taught us patience, persistence, and how to be masterful in your craft.', 'beginOffset': -1}}, {'text': {'content': 'Chadwick Boseman is teaching children to dream and to see themselves as kings.', 'beginOffset': -1}}, {'text': {'content': 'LeBron James has taught us strength of all forms in leading by example and providing education for our kids.', 'beginOffset': -1}}, {'text': {'content': 'Ryan Coogler tells our story in a way that celebrates our history and proved that we do have power at the box office, and I’m honored to be included among all of you and to a part of a vital, thriving, beautiful community.', 'beginOffset': -1}}, {'text': {'content': 'Thank you so much, NAACP, God bless you.', 'beginOffset': -1}}, {'text': {'content': 'I hope ya’ll had a great night.\"', 'beginOffset': -1}}], 'tokens': [{'text': {'content': '\"', 'beginOffset': -1}, 'partOfSpeech': {'tag': 'PUNCT', 'aspect': 'ASPECT_UNKNOWN', 'case': 'CASE_UNKNOWN', 'form': 'FORM_UNKNOWN', 'gender': 'GENDER_UNKNOWN', 'mood': 'MOOD_UNKNOWN', 'number': 'NUMBER_UNKNOWN', 'person': 'PERSON_UNKNOWN', 'proper': 'PROPER_UNKNOWN', 'reciprocity': 'RECIPROCITY_UNKNOWN', 'tense': 'TENSE_UNKNOWN', 'voice': 'VOICE_UNKNOWN'}, 'dependencyEdge': {'headTokenIndex': 5, 'label': 'P'}, 'lemma': '\"'}, {'text': {'content': 'Regina', 'beginOffset': -1}, 'partOfSpeech': {'tag': 'NOUN', 'aspect': 'ASPECT_UNKNOWN', 'case': 'CASE_UNKNOWN', 'form': 'FORM_UNKNOWN', 'gender': 'GENDER_UNKNOWN', 'mood': 'MOOD_UNKNOWN', 'number': 'SINGULAR', 'person': 'PERSON_UNKNOWN', 'proper': 'PROPER', 'reciprocity': 'RECIPROCITY_UNKNOWN', 'tense': 'TENSE_UNKNOWN', 'voice': 'VOICE_UNKNOWN'}, 'dependencyEdge': {'headTokenIndex': 2, 'label': 'NN'}, 'lemma': 'Regina'}, {'text': {'content': 'King', 'beginOffset': -1}, 'partOfSpeech': {'tag': 'NOUN', 'aspect': 'ASPECT_UNKNOWN', 'case': 'CASE_UNKNOWN', 'form': 'FORM_UNKNOWN', 'gender': 'GENDER_UNKNOWN', 'mood': 'MOOD_UNKNOWN', 'number': 'SINGULAR', 'person': 'PERSON_UNKNOWN', 'proper': 'PROPER', 'reciprocity': 'RECIPROCITY_UNKNOWN', 'tense': 'TENSE_UNKNOWN', 'voice': 'VOICE_UNKNOWN'}, 'dependencyEdge': {'headTokenIndex': 5, 'label': 'NSUBJ'}, 'lemma': 'King'}, {'text': {'content': ',', 'beginOffset': -1}, 'partOfSpeech': {'tag': 'PUNCT', 'aspect': 'ASPECT_UNKNOWN', 'case': 'CASE_UNKNOWN', 'form': 'FORM_UNKNOWN', 'gender': 'GENDER_UNKNOWN', 'mood': 'MOOD_UNKNOWN', 'number': 'NUMBER_UNKNOWN', 'person': 'PERSON_UNKNOWN', 'proper': 'PROPER_UNKNOWN', 'reciprocity': 'RECIPROCITY_UNKNOWN', 'tense': 'TENSE_UNKNOWN', 'voice': 'VOICE_UNKNOWN'}, 'dependencyEdge': {'headTokenIndex': 5, 'label': 'P'}, 'lemma': ','}, {'text': {'content': 'I', 'beginOffset': -1}, 'partOfSpeech': {'tag': 'PRON', 'aspect': 'ASPECT_UNKNOWN', 'case': 'NOMINATIVE', 'form': 'FORM_UNKNOWN', 'gender': 'GENDER_UNKNOWN', 'mood': 'MOOD_UNKNOWN', 'number': 'SINGULAR', 'person': 'FIRST', 'proper': 'PROPER_UNKNOWN', 'reciprocity': 'RECIPROCITY_UNKNOWN', 'tense': 'TENSE_UNKNOWN', 'voice': 'VOICE_UNKNOWN'}, 'dependencyEdge': {'headTokenIndex': 5, 'label': 'NSUBJ'}, 'lemma': 'I'}, {'text': {'content': 'love', 'beginOffset': -1}, 'partOfSpeech': {'tag': 'VERB', 'aspect': 'ASPECT_UNKNOWN', 'case': 'CASE_UNKNOWN', 'form': 'FORM_UNKNOWN', 'gender': 'GENDER_UNKNOWN', 'mood': 'INDICATIVE', 'number': 'NUMBER_UNKNOWN', 'person': 'PERSON_UNKNOWN', 'proper': 'PROPER_UNKNOWN', 'reciprocity': 'RECIPROCITY_UNKNOWN', 'tense': 'PRESENT', 'voice': 'VOICE_UNKNOWN'}, 'dependencyEdge': {'headTokenIndex': 5, 'label': 'ROOT'}, 'lemma': 'love'}, {'text': {'content': 'you', 'beginOffset': -1}, 'partOfSpeech': {'tag': 'PRON', 'aspect': 'ASPECT_UNKNOWN', 'case': 'ACCUSATIVE', 'form': 'FORM_UNKNOWN', 'gender': 'GENDER_UNKNOWN', 'mood': 'MOOD_UNKNOWN', 'number': 'NUMBER_UNKNOWN', 'person': 'SECOND', 'proper': 'PROPER_UNKNOWN', 'reciprocity': 'RECIPROCITY_UNKNOWN', 'tense': 'TENSE_UNKNOWN', 'voice': 'VOICE_UNKNOWN'}, 'dependencyEdge': {'headTokenIndex': 5, 'label': 'DOBJ'}, 'lemma': 'you'}, {'text': {'content': 'so', 'beginOffset': -1}, 'partOfSpeech': {'tag': 'ADV', 'aspect': 'ASPECT_UNKNOWN', 'case': 'CASE_UNKNOWN', 'form': 'FORM_UNKNOWN', 'gender': 'GENDER_UNKNOWN', 'mood': 'MOOD_UNKNOWN', 'number': 'NUMBER_UNKNOWN', 'person': 'PERSON_UNKNOWN', 'proper': 'PROPER_UNKNOWN', 'reciprocity': 'RECIPROCITY_UNKNOWN', 'tense': 'TENSE_UNKNOWN', 'voice': 'VOICE_UNKNOWN'}, 'dependencyEdge': {'headTokenIndex': 8, 'label': 'ADVMOD'}, 'lemma': 'so'}, {'text': {'content': 'much', 'beginOffset': -1}, 'partOfSpeech': {'tag': 'ADV', 'aspect': 'ASPECT_UNKNOWN', 'case': 'CASE_UNKNOWN', 'form': 'FORM_UNKNOWN', 'gender': 'GENDER_UNKNOWN', 'mood': 'MOOD_UNKNOWN', 'number': 'NUMBER_UNKNOWN', 'person': 'PERSON_UNKNOWN', 'proper': 'PROPER_UNKNOWN', 'reciprocity': 'RECIPROCITY_UNKNOWN', 'tense': 'TENSE_UNKNOWN', 'voice': 'VOICE_UNKNOWN'}, 'dependencyEdge': {'headTokenIndex': 5, 'label': 'ADVMOD'}, 'lemma': 'much'}, {'text': {'content': '.', 'beginOffset': -1}, 'partOfSpeech': {'tag': 'PUNCT', 'aspect': 'ASPECT_UNKNOWN', 'case': 'CASE_UNKNOWN', 'form': 'FORM_UNKNOWN', 'gender': 'GENDER_UNKNOWN', 'mood': 'MOOD_UNKNOWN', 'number': 'NUMBER_UNKNOWN', 'person': 'PERSON_UNKNOWN', 'proper': 'PROPER_UNKNOWN', 'reciprocity': 'RECIPROCITY_UNKNOWN', 'tense': 'TENSE_UNKNOWN', 'voice': 'VOICE_UNKNOWN'}, 'dependencyEdge': {'headTokenIndex': 5, 'label': 'P'}, 'lemma': '.'}, {'text': {'content': 'You', 'beginOffset': -1}, 'partOfSpeech': {'tag': 'PRON', 'aspect': 'ASPECT_UNKNOWN', 'case': 'NOMINATIVE', 'form': 'FORM_UNKNOWN', 'gender': 'GENDER_UNKNOWN', 'mood': 'MOOD_UNKNOWN', 'number': 'NUMBER_UNKNOWN', 'person': 'SECOND', 'proper': 'PROPER_UNKNOWN', 'reciprocity': 'RECIPROCITY_UNKNOWN', 'tense': 'TENSE_UNKNOWN', 'voice': 'VOICE_UNKNOWN'}, 'dependencyEdge': {'headTokenIndex': 11, 'label': 'NSUBJ'}, 'lemma': 'You'}, {'text': {'content': 'taught', 'beginOffset': -1}, 'partOfSpeech': {'tag': 'VERB', 'aspect': 'ASPECT_UNKNOWN', 'case': 'CASE_UNKNOWN', 'form': 'FORM_UNKNOWN', 'gender': 'GENDER_UNKNOWN', 'mood': 'INDICATIVE', 'number': 'NUMBER_UNKNOWN', 'person': 'PERSON_UNKNOWN', 'proper': 'PROPER_UNKNOWN', 'reciprocity': 'RECIPROCITY_UNKNOWN', 'tense': 'PAST', 'voice': 'VOICE_UNKNOWN'}, 'dependencyEdge': {'headTokenIndex': 11, 'label': 'ROOT'}, 'lemma': 'teach'}, {'text': {'content': 'us', 'beginOffset': -1}, 'partOfSpeech': {'tag': 'PRON', 'aspect': 'ASPECT_UNKNOWN', 'case': 'ACCUSATIVE', 'form': 'FORM_UNKNOWN', 'gender': 'GENDER_UNKNOWN', 'mood': 'MOOD_UNKNOWN', 'number': 'PLURAL', 'person': 'FIRST', 'proper': 'PROPER_UNKNOWN', 'reciprocity': 'RECIPROCITY_UNKNOWN', 'tense': 'TENSE_UNKNOWN', 'voice': 'VOICE_UNKNOWN'}, 'dependencyEdge': {'headTokenIndex': 11, 'label': 'IOBJ'}, 'lemma': 'us'}, {'text': {'content': 'patience', 'beginOffset': -1}, 'partOfSpeech': {'tag': 'NOUN', 'aspect': 'ASPECT_UNKNOWN', 'case': 'CASE_UNKNOWN', 'form': 'FORM_UNKNOWN', 'gender': 'GENDER_UNKNOWN', 'mood': 'MOOD_UNKNOWN', 'number': 'SINGULAR', 'person': 'PERSON_UNKNOWN', 'proper': 'PROPER_UNKNOWN', 'reciprocity': 'RECIPROCITY_UNKNOWN', 'tense': 'TENSE_UNKNOWN', 'voice': 'VOICE_UNKNOWN'}, 'dependencyEdge': {'headTokenIndex': 11, 'label': 'DOBJ'}, 'lemma': 'patience'}, {'text': {'content': ',', 'beginOffset': -1}, 'partOfSpeech': {'tag': 'PUNCT', 'aspect': 'ASPECT_UNKNOWN', 'case': 'CASE_UNKNOWN', 'form': 'FORM_UNKNOWN', 'gender': 'GENDER_UNKNOWN', 'mood': 'MOOD_UNKNOWN', 'number': 'NUMBER_UNKNOWN', 'person': 'PERSON_UNKNOWN', 'proper': 'PROPER_UNKNOWN', 'reciprocity': 'RECIPROCITY_UNKNOWN', 'tense': 'TENSE_UNKNOWN', 'voice': 'VOICE_UNKNOWN'}, 'dependencyEdge': {'headTokenIndex': 13, 'label': 'P'}, 'lemma': ','}, {'text': {'content': 'persistence', 'beginOffset': -1}, 'partOfSpeech': {'tag': 'NOUN', 'aspect': 'ASPECT_UNKNOWN', 'case': 'CASE_UNKNOWN', 'form': 'FORM_UNKNOWN', 'gender': 'GENDER_UNKNOWN', 'mood': 'MOOD_UNKNOWN', 'number': 'SINGULAR', 'person': 'PERSON_UNKNOWN', 'proper': 'PROPER_UNKNOWN', 'reciprocity': 'RECIPROCITY_UNKNOWN', 'tense': 'TENSE_UNKNOWN', 'voice': 'VOICE_UNKNOWN'}, 'dependencyEdge': {'headTokenIndex': 13, 'label': 'CONJ'}, 'lemma': 'persistence'}, {'text': {'content': ',', 'beginOffset': -1}, 'partOfSpeech': {'tag': 'PUNCT', 'aspect': 'ASPECT_UNKNOWN', 'case': 'CASE_UNKNOWN', 'form': 'FORM_UNKNOWN', 'gender': 'GENDER_UNKNOWN', 'mood': 'MOOD_UNKNOWN', 'number': 'NUMBER_UNKNOWN', 'person': 'PERSON_UNKNOWN', 'proper': 'PROPER_UNKNOWN', 'reciprocity': 'RECIPROCITY_UNKNOWN', 'tense': 'TENSE_UNKNOWN', 'voice': 'VOICE_UNKNOWN'}, 'dependencyEdge': {'headTokenIndex': 11, 'label': 'P'}, 'lemma': ','}, {'text': {'content': 'and', 'beginOffset': -1}, 'partOfSpeech': {'tag': 'CONJ', 'aspect': 'ASPECT_UNKNOWN', 'case': 'CASE_UNKNOWN', 'form': 'FORM_UNKNOWN', 'gender': 'GENDER_UNKNOWN', 'mood': 'MOOD_UNKNOWN', 'number': 'NUMBER_UNKNOWN', 'person': 'PERSON_UNKNOWN', 'proper': 'PROPER_UNKNOWN', 'reciprocity': 'RECIPROCITY_UNKNOWN', 'tense': 'TENSE_UNKNOWN', 'voice': 'VOICE_UNKNOWN'}, 'dependencyEdge': {'headTokenIndex': 11, 'label': 'CC'}, 'lemma': 'and'}, {'text': {'content': 'how', 'beginOffset': -1}, 'partOfSpeech': {'tag': 'ADV', 'aspect': 'ASPECT_UNKNOWN', 'case': 'CASE_UNKNOWN', 'form': 'FORM_UNKNOWN', 'gender': 'GENDER_UNKNOWN', 'mood': 'MOOD_UNKNOWN', 'number': 'NUMBER_UNKNOWN', 'person': 'PERSON_UNKNOWN', 'proper': 'PROPER_UNKNOWN', 'reciprocity': 'RECIPROCITY_UNKNOWN', 'tense': 'TENSE_UNKNOWN', 'voice': 'VOICE_UNKNOWN'}, 'dependencyEdge': {'headTokenIndex': 20, 'label': 'ADVMOD'}, 'lemma': 'how'}, {'text': {'content': 'to', 'beginOffset': -1}, 'partOfSpeech': {'tag': 'PRT', 'aspect': 'ASPECT_UNKNOWN', 'case': 'CASE_UNKNOWN', 'form': 'FORM_UNKNOWN', 'gender': 'GENDER_UNKNOWN', 'mood': 'MOOD_UNKNOWN', 'number': 'NUMBER_UNKNOWN', 'person': 'PERSON_UNKNOWN', 'proper': 'PROPER_UNKNOWN', 'reciprocity': 'RECIPROCITY_UNKNOWN', 'tense': 'TENSE_UNKNOWN', 'voice': 'VOICE_UNKNOWN'}, 'dependencyEdge': {'headTokenIndex': 20, 'label': 'AUX'}, 'lemma': 'to'}, {'text': {'content': 'be', 'beginOffset': -1}, 'partOfSpeech': {'tag': 'VERB', 'aspect': 'ASPECT_UNKNOWN', 'case': 'CASE_UNKNOWN', 'form': 'FORM_UNKNOWN', 'gender': 'GENDER_UNKNOWN', 'mood': 'MOOD_UNKNOWN', 'number': 'NUMBER_UNKNOWN', 'person': 'PERSON_UNKNOWN', 'proper': 'PROPER_UNKNOWN', 'reciprocity': 'RECIPROCITY_UNKNOWN', 'tense': 'TENSE_UNKNOWN', 'voice': 'VOICE_UNKNOWN'}, 'dependencyEdge': {'headTokenIndex': 11, 'label': 'CONJ'}, 'lemma': 'be'}, {'text': {'content': 'masterful', 'beginOffset': -1}, 'partOfSpeech': {'tag': 'ADJ', 'aspect': 'ASPECT_UNKNOWN', 'case': 'CASE_UNKNOWN', 'form': 'FORM_UNKNOWN', 'gender': 'GENDER_UNKNOWN', 'mood': 'MOOD_UNKNOWN', 'number': 'NUMBER_UNKNOWN', 'person': 'PERSON_UNKNOWN', 'proper': 'PROPER_UNKNOWN', 'reciprocity': 'RECIPROCITY_UNKNOWN', 'tense': 'TENSE_UNKNOWN', 'voice': 'VOICE_UNKNOWN'}, 'dependencyEdge': {'headTokenIndex': 20, 'label': 'ACOMP'}, 'lemma': 'masterful'}, {'text': {'content': 'in', 'beginOffset': -1}, 'partOfSpeech': {'tag': 'ADP', 'aspect': 'ASPECT_UNKNOWN', 'case': 'CASE_UNKNOWN', 'form': 'FORM_UNKNOWN', 'gender': 'GENDER_UNKNOWN', 'mood': 'MOOD_UNKNOWN', 'number': 'NUMBER_UNKNOWN', 'person': 'PERSON_UNKNOWN', 'proper': 'PROPER_UNKNOWN', 'reciprocity': 'RECIPROCITY_UNKNOWN', 'tense': 'TENSE_UNKNOWN', 'voice': 'VOICE_UNKNOWN'}, 'dependencyEdge': {'headTokenIndex': 20, 'label': 'PREP'}, 'lemma': 'in'}, {'text': {'content': 'your', 'beginOffset': -1}, 'partOfSpeech': {'tag': 'PRON', 'aspect': 'ASPECT_UNKNOWN', 'case': 'GENITIVE', 'form': 'FORM_UNKNOWN', 'gender': 'GENDER_UNKNOWN', 'mood': 'MOOD_UNKNOWN', 'number': 'SINGULAR', 'person': 'SECOND', 'proper': 'PROPER_UNKNOWN', 'reciprocity': 'RECIPROCITY_UNKNOWN', 'tense': 'TENSE_UNKNOWN', 'voice': 'VOICE_UNKNOWN'}, 'dependencyEdge': {'headTokenIndex': 24, 'label': 'POSS'}, 'lemma': 'your'}, {'text': {'content': 'craft', 'beginOffset': -1}, 'partOfSpeech': {'tag': 'NOUN', 'aspect': 'ASPECT_UNKNOWN', 'case': 'CASE_UNKNOWN', 'form': 'FORM_UNKNOWN', 'gender': 'GENDER_UNKNOWN', 'mood': 'MOOD_UNKNOWN', 'number': 'SINGULAR', 'person': 'PERSON_UNKNOWN', 'proper': 'PROPER_UNKNOWN', 'reciprocity': 'RECIPROCITY_UNKNOWN', 'tense': 'TENSE_UNKNOWN', 'voice': 'VOICE_UNKNOWN'}, 'dependencyEdge': {'headTokenIndex': 22, 'label': 'POBJ'}, 'lemma': 'craft'}, {'text': {'content': '.', 'beginOffset': -1}, 'partOfSpeech': {'tag': 'PUNCT', 'aspect': 'ASPECT_UNKNOWN', 'case': 'CASE_UNKNOWN', 'form': 'FORM_UNKNOWN', 'gender': 'GENDER_UNKNOWN', 'mood': 'MOOD_UNKNOWN', 'number': 'NUMBER_UNKNOWN', 'person': 'PERSON_UNKNOWN', 'proper': 'PROPER_UNKNOWN', 'reciprocity': 'RECIPROCITY_UNKNOWN', 'tense': 'TENSE_UNKNOWN', 'voice': 'VOICE_UNKNOWN'}, 'dependencyEdge': {'headTokenIndex': 11, 'label': 'P'}, 'lemma': '.'}, {'text': {'content': 'Chadwick', 'beginOffset': -1}, 'partOfSpeech': {'tag': 'NOUN', 'aspect': 'ASPECT_UNKNOWN', 'case': 'CASE_UNKNOWN', 'form': 'FORM_UNKNOWN', 'gender': 'GENDER_UNKNOWN', 'mood': 'MOOD_UNKNOWN', 'number': 'SINGULAR', 'person': 'PERSON_UNKNOWN', 'proper': 'PROPER', 'reciprocity': 'RECIPROCITY_UNKNOWN', 'tense': 'TENSE_UNKNOWN', 'voice': 'VOICE_UNKNOWN'}, 'dependencyEdge': {'headTokenIndex': 27, 'label': 'NN'}, 'lemma': 'Chadwick'}, {'text': {'content': 'Boseman', 'beginOffset': -1}, 'partOfSpeech': {'tag': 'NOUN', 'aspect': 'ASPECT_UNKNOWN', 'case': 'CASE_UNKNOWN', 'form': 'FORM_UNKNOWN', 'gender': 'GENDER_UNKNOWN', 'mood': 'MOOD_UNKNOWN', 'number': 'SINGULAR', 'person': 'PERSON_UNKNOWN', 'proper': 'PROPER', 'reciprocity': 'RECIPROCITY_UNKNOWN', 'tense': 'TENSE_UNKNOWN', 'voice': 'VOICE_UNKNOWN'}, 'dependencyEdge': {'headTokenIndex': 29, 'label': 'NSUBJ'}, 'lemma': 'Boseman'}, {'text': {'content': 'is', 'beginOffset': -1}, 'partOfSpeech': {'tag': 'VERB', 'aspect': 'ASPECT_UNKNOWN', 'case': 'CASE_UNKNOWN', 'form': 'FORM_UNKNOWN', 'gender': 'GENDER_UNKNOWN', 'mood': 'INDICATIVE', 'number': 'SINGULAR', 'person': 'THIRD', 'proper': 'PROPER_UNKNOWN', 'reciprocity': 'RECIPROCITY_UNKNOWN', 'tense': 'PRESENT', 'voice': 'VOICE_UNKNOWN'}, 'dependencyEdge': {'headTokenIndex': 29, 'label': 'AUX'}, 'lemma': 'be'}, {'text': {'content': 'teaching', 'beginOffset': -1}, 'partOfSpeech': {'tag': 'VERB', 'aspect': 'ASPECT_UNKNOWN', 'case': 'CASE_UNKNOWN', 'form': 'FORM_UNKNOWN', 'gender': 'GENDER_UNKNOWN', 'mood': 'MOOD_UNKNOWN', 'number': 'NUMBER_UNKNOWN', 'person': 'PERSON_UNKNOWN', 'proper': 'PROPER_UNKNOWN', 'reciprocity': 'RECIPROCITY_UNKNOWN', 'tense': 'TENSE_UNKNOWN', 'voice': 'VOICE_UNKNOWN'}, 'dependencyEdge': {'headTokenIndex': 29, 'label': 'ROOT'}, 'lemma': 'teach'}, {'text': {'content': 'children', 'beginOffset': -1}, 'partOfSpeech': {'tag': 'NOUN', 'aspect': 'ASPECT_UNKNOWN', 'case': 'CASE_UNKNOWN', 'form': 'FORM_UNKNOWN', 'gender': 'GENDER_UNKNOWN', 'mood': 'MOOD_UNKNOWN', 'number': 'PLURAL', 'person': 'PERSON_UNKNOWN', 'proper': 'PROPER_UNKNOWN', 'reciprocity': 'RECIPROCITY_UNKNOWN', 'tense': 'TENSE_UNKNOWN', 'voice': 'VOICE_UNKNOWN'}, 'dependencyEdge': {'headTokenIndex': 29, 'label': 'DOBJ'}, 'lemma': 'child'}, {'text': {'content': 'to', 'beginOffset': -1}, 'partOfSpeech': {'tag': 'PRT', 'aspect': 'ASPECT_UNKNOWN', 'case': 'CASE_UNKNOWN', 'form': 'FORM_UNKNOWN', 'gender': 'GENDER_UNKNOWN', 'mood': 'MOOD_UNKNOWN', 'number': 'NUMBER_UNKNOWN', 'person': 'PERSON_UNKNOWN', 'proper': 'PROPER_UNKNOWN', 'reciprocity': 'RECIPROCITY_UNKNOWN', 'tense': 'TENSE_UNKNOWN', 'voice': 'VOICE_UNKNOWN'}, 'dependencyEdge': {'headTokenIndex': 32, 'label': 'AUX'}, 'lemma': 'to'}, {'text': {'content': 'dream', 'beginOffset': -1}, 'partOfSpeech': {'tag': 'VERB', 'aspect': 'ASPECT_UNKNOWN', 'case': 'CASE_UNKNOWN', 'form': 'FORM_UNKNOWN', 'gender': 'GENDER_UNKNOWN', 'mood': 'MOOD_UNKNOWN', 'number': 'NUMBER_UNKNOWN', 'person': 'PERSON_UNKNOWN', 'proper': 'PROPER_UNKNOWN', 'reciprocity': 'RECIPROCITY_UNKNOWN', 'tense': 'TENSE_UNKNOWN', 'voice': 'VOICE_UNKNOWN'}, 'dependencyEdge': {'headTokenIndex': 29, 'label': 'XCOMP'}, 'lemma': 'dream'}, {'text': {'content': 'and', 'beginOffset': -1}, 'partOfSpeech': {'tag': 'CONJ', 'aspect': 'ASPECT_UNKNOWN', 'case': 'CASE_UNKNOWN', 'form': 'FORM_UNKNOWN', 'gender': 'GENDER_UNKNOWN', 'mood': 'MOOD_UNKNOWN', 'number': 'NUMBER_UNKNOWN', 'person': 'PERSON_UNKNOWN', 'proper': 'PROPER_UNKNOWN', 'reciprocity': 'RECIPROCITY_UNKNOWN', 'tense': 'TENSE_UNKNOWN', 'voice': 'VOICE_UNKNOWN'}, 'dependencyEdge': {'headTokenIndex': 32, 'label': 'CC'}, 'lemma': 'and'}, {'text': {'content': 'to', 'beginOffset': -1}, 'partOfSpeech': {'tag': 'PRT', 'aspect': 'ASPECT_UNKNOWN', 'case': 'CASE_UNKNOWN', 'form': 'FORM_UNKNOWN', 'gender': 'GENDER_UNKNOWN', 'mood': 'MOOD_UNKNOWN', 'number': 'NUMBER_UNKNOWN', 'person': 'PERSON_UNKNOWN', 'proper': 'PROPER_UNKNOWN', 'reciprocity': 'RECIPROCITY_UNKNOWN', 'tense': 'TENSE_UNKNOWN', 'voice': 'VOICE_UNKNOWN'}, 'dependencyEdge': {'headTokenIndex': 35, 'label': 'AUX'}, 'lemma': 'to'}, {'text': {'content': 'see', 'beginOffset': -1}, 'partOfSpeech': {'tag': 'VERB', 'aspect': 'ASPECT_UNKNOWN', 'case': 'CASE_UNKNOWN', 'form': 'FORM_UNKNOWN', 'gender': 'GENDER_UNKNOWN', 'mood': 'MOOD_UNKNOWN', 'number': 'NUMBER_UNKNOWN', 'person': 'PERSON_UNKNOWN', 'proper': 'PROPER_UNKNOWN', 'reciprocity': 'RECIPROCITY_UNKNOWN', 'tense': 'TENSE_UNKNOWN', 'voice': 'VOICE_UNKNOWN'}, 'dependencyEdge': {'headTokenIndex': 32, 'label': 'CONJ'}, 'lemma': 'see'}, {'text': {'content': 'themselves', 'beginOffset': -1}, 'partOfSpeech': {'tag': 'PRON', 'aspect': 'ASPECT_UNKNOWN', 'case': 'ACCUSATIVE', 'form': 'FORM_UNKNOWN', 'gender': 'GENDER_UNKNOWN', 'mood': 'MOOD_UNKNOWN', 'number': 'PLURAL', 'person': 'THIRD', 'proper': 'PROPER_UNKNOWN', 'reciprocity': 'RECIPROCITY_UNKNOWN', 'tense': 'TENSE_UNKNOWN', 'voice': 'VOICE_UNKNOWN'}, 'dependencyEdge': {'headTokenIndex': 35, 'label': 'DOBJ'}, 'lemma': 'themselves'}, {'text': {'content': 'as', 'beginOffset': -1}, 'partOfSpeech': {'tag': 'ADP', 'aspect': 'ASPECT_UNKNOWN', 'case': 'CASE_UNKNOWN', 'form': 'FORM_UNKNOWN', 'gender': 'GENDER_UNKNOWN', 'mood': 'MOOD_UNKNOWN', 'number': 'NUMBER_UNKNOWN', 'person': 'PERSON_UNKNOWN', 'proper': 'PROPER_UNKNOWN', 'reciprocity': 'RECIPROCITY_UNKNOWN', 'tense': 'TENSE_UNKNOWN', 'voice': 'VOICE_UNKNOWN'}, 'dependencyEdge': {'headTokenIndex': 35, 'label': 'PREP'}, 'lemma': 'as'}, {'text': {'content': 'kings', 'beginOffset': -1}, 'partOfSpeech': {'tag': 'NOUN', 'aspect': 'ASPECT_UNKNOWN', 'case': 'CASE_UNKNOWN', 'form': 'FORM_UNKNOWN', 'gender': 'GENDER_UNKNOWN', 'mood': 'MOOD_UNKNOWN', 'number': 'PLURAL', 'person': 'PERSON_UNKNOWN', 'proper': 'PROPER_UNKNOWN', 'reciprocity': 'RECIPROCITY_UNKNOWN', 'tense': 'TENSE_UNKNOWN', 'voice': 'VOICE_UNKNOWN'}, 'dependencyEdge': {'headTokenIndex': 37, 'label': 'POBJ'}, 'lemma': 'king'}, {'text': {'content': '.', 'beginOffset': -1}, 'partOfSpeech': {'tag': 'PUNCT', 'aspect': 'ASPECT_UNKNOWN', 'case': 'CASE_UNKNOWN', 'form': 'FORM_UNKNOWN', 'gender': 'GENDER_UNKNOWN', 'mood': 'MOOD_UNKNOWN', 'number': 'NUMBER_UNKNOWN', 'person': 'PERSON_UNKNOWN', 'proper': 'PROPER_UNKNOWN', 'reciprocity': 'RECIPROCITY_UNKNOWN', 'tense': 'TENSE_UNKNOWN', 'voice': 'VOICE_UNKNOWN'}, 'dependencyEdge': {'headTokenIndex': 29, 'label': 'P'}, 'lemma': '.'}, {'text': {'content': 'LeBron', 'beginOffset': -1}, 'partOfSpeech': {'tag': 'NOUN', 'aspect': 'ASPECT_UNKNOWN', 'case': 'CASE_UNKNOWN', 'form': 'FORM_UNKNOWN', 'gender': 'GENDER_UNKNOWN', 'mood': 'MOOD_UNKNOWN', 'number': 'SINGULAR', 'person': 'PERSON_UNKNOWN', 'proper': 'PROPER', 'reciprocity': 'RECIPROCITY_UNKNOWN', 'tense': 'TENSE_UNKNOWN', 'voice': 'VOICE_UNKNOWN'}, 'dependencyEdge': {'headTokenIndex': 41, 'label': 'NN'}, 'lemma': 'LeBron'}, {'text': {'content': 'James', 'beginOffset': -1}, 'partOfSpeech': {'tag': 'NOUN', 'aspect': 'ASPECT_UNKNOWN', 'case': 'CASE_UNKNOWN', 'form': 'FORM_UNKNOWN', 'gender': 'GENDER_UNKNOWN', 'mood': 'MOOD_UNKNOWN', 'number': 'SINGULAR', 'person': 'PERSON_UNKNOWN', 'proper': 'PROPER', 'reciprocity': 'RECIPROCITY_UNKNOWN', 'tense': 'TENSE_UNKNOWN', 'voice': 'VOICE_UNKNOWN'}, 'dependencyEdge': {'headTokenIndex': 43, 'label': 'NSUBJ'}, 'lemma': 'James'}, {'text': {'content': 'has', 'beginOffset': -1}, 'partOfSpeech': {'tag': 'VERB', 'aspect': 'ASPECT_UNKNOWN', 'case': 'CASE_UNKNOWN', 'form': 'FORM_UNKNOWN', 'gender': 'GENDER_UNKNOWN', 'mood': 'INDICATIVE', 'number': 'SINGULAR', 'person': 'THIRD', 'proper': 'PROPER_UNKNOWN', 'reciprocity': 'RECIPROCITY_UNKNOWN', 'tense': 'PRESENT', 'voice': 'VOICE_UNKNOWN'}, 'dependencyEdge': {'headTokenIndex': 43, 'label': 'AUX'}, 'lemma': 'have'}, {'text': {'content': 'taught', 'beginOffset': -1}, 'partOfSpeech': {'tag': 'VERB', 'aspect': 'ASPECT_UNKNOWN', 'case': 'CASE_UNKNOWN', 'form': 'FORM_UNKNOWN', 'gender': 'GENDER_UNKNOWN', 'mood': 'MOOD_UNKNOWN', 'number': 'NUMBER_UNKNOWN', 'person': 'PERSON_UNKNOWN', 'proper': 'PROPER_UNKNOWN', 'reciprocity': 'RECIPROCITY_UNKNOWN', 'tense': 'PAST', 'voice': 'VOICE_UNKNOWN'}, 'dependencyEdge': {'headTokenIndex': 43, 'label': 'ROOT'}, 'lemma': 'teach'}, {'text': {'content': 'us', 'beginOffset': -1}, 'partOfSpeech': {'tag': 'PRON', 'aspect': 'ASPECT_UNKNOWN', 'case': 'ACCUSATIVE', 'form': 'FORM_UNKNOWN', 'gender': 'GENDER_UNKNOWN', 'mood': 'MOOD_UNKNOWN', 'number': 'PLURAL', 'person': 'FIRST', 'proper': 'PROPER_UNKNOWN', 'reciprocity': 'RECIPROCITY_UNKNOWN', 'tense': 'TENSE_UNKNOWN', 'voice': 'VOICE_UNKNOWN'}, 'dependencyEdge': {'headTokenIndex': 43, 'label': 'IOBJ'}, 'lemma': 'us'}, {'text': {'content': 'strength', 'beginOffset': -1}, 'partOfSpeech': {'tag': 'NOUN', 'aspect': 'ASPECT_UNKNOWN', 'case': 'CASE_UNKNOWN', 'form': 'FORM_UNKNOWN', 'gender': 'GENDER_UNKNOWN', 'mood': 'MOOD_UNKNOWN', 'number': 'SINGULAR', 'person': 'PERSON_UNKNOWN', 'proper': 'PROPER_UNKNOWN', 'reciprocity': 'RECIPROCITY_UNKNOWN', 'tense': 'TENSE_UNKNOWN', 'voice': 'VOICE_UNKNOWN'}, 'dependencyEdge': {'headTokenIndex': 43, 'label': 'DOBJ'}, 'lemma': 'strength'}, {'text': {'content': 'of', 'beginOffset': -1}, 'partOfSpeech': {'tag': 'ADP', 'aspect': 'ASPECT_UNKNOWN', 'case': 'CASE_UNKNOWN', 'form': 'FORM_UNKNOWN', 'gender': 'GENDER_UNKNOWN', 'mood': 'MOOD_UNKNOWN', 'number': 'NUMBER_UNKNOWN', 'person': 'PERSON_UNKNOWN', 'proper': 'PROPER_UNKNOWN', 'reciprocity': 'RECIPROCITY_UNKNOWN', 'tense': 'TENSE_UNKNOWN', 'voice': 'VOICE_UNKNOWN'}, 'dependencyEdge': {'headTokenIndex': 45, 'label': 'PREP'}, 'lemma': 'of'}, {'text': {'content': 'all', 'beginOffset': -1}, 'partOfSpeech': {'tag': 'DET', 'aspect': 'ASPECT_UNKNOWN', 'case': 'CASE_UNKNOWN', 'form': 'FORM_UNKNOWN', 'gender': 'GENDER_UNKNOWN', 'mood': 'MOOD_UNKNOWN', 'number': 'NUMBER_UNKNOWN', 'person': 'PERSON_UNKNOWN', 'proper': 'PROPER_UNKNOWN', 'reciprocity': 'RECIPROCITY_UNKNOWN', 'tense': 'TENSE_UNKNOWN', 'voice': 'VOICE_UNKNOWN'}, 'dependencyEdge': {'headTokenIndex': 48, 'label': 'DET'}, 'lemma': 'all'}, {'text': {'content': 'forms', 'beginOffset': -1}, 'partOfSpeech': {'tag': 'NOUN', 'aspect': 'ASPECT_UNKNOWN', 'case': 'CASE_UNKNOWN', 'form': 'FORM_UNKNOWN', 'gender': 'GENDER_UNKNOWN', 'mood': 'MOOD_UNKNOWN', 'number': 'PLURAL', 'person': 'PERSON_UNKNOWN', 'proper': 'PROPER_UNKNOWN', 'reciprocity': 'RECIPROCITY_UNKNOWN', 'tense': 'TENSE_UNKNOWN', 'voice': 'VOICE_UNKNOWN'}, 'dependencyEdge': {'headTokenIndex': 46, 'label': 'POBJ'}, 'lemma': 'form'}, {'text': {'content': 'in', 'beginOffset': -1}, 'partOfSpeech': {'tag': 'ADP', 'aspect': 'ASPECT_UNKNOWN', 'case': 'CASE_UNKNOWN', 'form': 'FORM_UNKNOWN', 'gender': 'GENDER_UNKNOWN', 'mood': 'MOOD_UNKNOWN', 'number': 'NUMBER_UNKNOWN', 'person': 'PERSON_UNKNOWN', 'proper': 'PROPER_UNKNOWN', 'reciprocity': 'RECIPROCITY_UNKNOWN', 'tense': 'TENSE_UNKNOWN', 'voice': 'VOICE_UNKNOWN'}, 'dependencyEdge': {'headTokenIndex': 43, 'label': 'PREP'}, 'lemma': 'in'}, {'text': {'content': 'leading', 'beginOffset': -1}, 'partOfSpeech': {'tag': 'VERB', 'aspect': 'ASPECT_UNKNOWN', 'case': 'CASE_UNKNOWN', 'form': 'FORM_UNKNOWN', 'gender': 'GENDER_UNKNOWN', 'mood': 'MOOD_UNKNOWN', 'number': 'NUMBER_UNKNOWN', 'person': 'PERSON_UNKNOWN', 'proper': 'PROPER_UNKNOWN', 'reciprocity': 'RECIPROCITY_UNKNOWN', 'tense': 'TENSE_UNKNOWN', 'voice': 'VOICE_UNKNOWN'}, 'dependencyEdge': {'headTokenIndex': 49, 'label': 'PCOMP'}, 'lemma': 'lead'}, {'text': {'content': 'by', 'beginOffset': -1}, 'partOfSpeech': {'tag': 'ADP', 'aspect': 'ASPECT_UNKNOWN', 'case': 'CASE_UNKNOWN', 'form': 'FORM_UNKNOWN', 'gender': 'GENDER_UNKNOWN', 'mood': 'MOOD_UNKNOWN', 'number': 'NUMBER_UNKNOWN', 'person': 'PERSON_UNKNOWN', 'proper': 'PROPER_UNKNOWN', 'reciprocity': 'RECIPROCITY_UNKNOWN', 'tense': 'TENSE_UNKNOWN', 'voice': 'VOICE_UNKNOWN'}, 'dependencyEdge': {'headTokenIndex': 50, 'label': 'PREP'}, 'lemma': 'by'}, {'text': {'content': 'example', 'beginOffset': -1}, 'partOfSpeech': {'tag': 'NOUN', 'aspect': 'ASPECT_UNKNOWN', 'case': 'CASE_UNKNOWN', 'form': 'FORM_UNKNOWN', 'gender': 'GENDER_UNKNOWN', 'mood': 'MOOD_UNKNOWN', 'number': 'SINGULAR', 'person': 'PERSON_UNKNOWN', 'proper': 'PROPER_UNKNOWN', 'reciprocity': 'RECIPROCITY_UNKNOWN', 'tense': 'TENSE_UNKNOWN', 'voice': 'VOICE_UNKNOWN'}, 'dependencyEdge': {'headTokenIndex': 51, 'label': 'POBJ'}, 'lemma': 'example'}, {'text': {'content': 'and', 'beginOffset': -1}, 'partOfSpeech': {'tag': 'CONJ', 'aspect': 'ASPECT_UNKNOWN', 'case': 'CASE_UNKNOWN', 'form': 'FORM_UNKNOWN', 'gender': 'GENDER_UNKNOWN', 'mood': 'MOOD_UNKNOWN', 'number': 'NUMBER_UNKNOWN', 'person': 'PERSON_UNKNOWN', 'proper': 'PROPER_UNKNOWN', 'reciprocity': 'RECIPROCITY_UNKNOWN', 'tense': 'TENSE_UNKNOWN', 'voice': 'VOICE_UNKNOWN'}, 'dependencyEdge': {'headTokenIndex': 50, 'label': 'CC'}, 'lemma': 'and'}, {'text': {'content': 'providing', 'beginOffset': -1}, 'partOfSpeech': {'tag': 'VERB', 'aspect': 'ASPECT_UNKNOWN', 'case': 'CASE_UNKNOWN', 'form': 'FORM_UNKNOWN', 'gender': 'GENDER_UNKNOWN', 'mood': 'MOOD_UNKNOWN', 'number': 'NUMBER_UNKNOWN', 'person': 'PERSON_UNKNOWN', 'proper': 'PROPER_UNKNOWN', 'reciprocity': 'RECIPROCITY_UNKNOWN', 'tense': 'TENSE_UNKNOWN', 'voice': 'VOICE_UNKNOWN'}, 'dependencyEdge': {'headTokenIndex': 50, 'label': 'CONJ'}, 'lemma': 'provide'}, {'text': {'content': 'education', 'beginOffset': -1}, 'partOfSpeech': {'tag': 'NOUN', 'aspect': 'ASPECT_UNKNOWN', 'case': 'CASE_UNKNOWN', 'form': 'FORM_UNKNOWN', 'gender': 'GENDER_UNKNOWN', 'mood': 'MOOD_UNKNOWN', 'number': 'SINGULAR', 'person': 'PERSON_UNKNOWN', 'proper': 'PROPER_UNKNOWN', 'reciprocity': 'RECIPROCITY_UNKNOWN', 'tense': 'TENSE_UNKNOWN', 'voice': 'VOICE_UNKNOWN'}, 'dependencyEdge': {'headTokenIndex': 54, 'label': 'DOBJ'}, 'lemma': 'education'}, {'text': {'content': 'for', 'beginOffset': -1}, 'partOfSpeech': {'tag': 'ADP', 'aspect': 'ASPECT_UNKNOWN', 'case': 'CASE_UNKNOWN', 'form': 'FORM_UNKNOWN', 'gender': 'GENDER_UNKNOWN', 'mood': 'MOOD_UNKNOWN', 'number': 'NUMBER_UNKNOWN', 'person': 'PERSON_UNKNOWN', 'proper': 'PROPER_UNKNOWN', 'reciprocity': 'RECIPROCITY_UNKNOWN', 'tense': 'TENSE_UNKNOWN', 'voice': 'VOICE_UNKNOWN'}, 'dependencyEdge': {'headTokenIndex': 54, 'label': 'PREP'}, 'lemma': 'for'}, {'text': {'content': 'our', 'beginOffset': -1}, 'partOfSpeech': {'tag': 'PRON', 'aspect': 'ASPECT_UNKNOWN', 'case': 'GENITIVE', 'form': 'FORM_UNKNOWN', 'gender': 'GENDER_UNKNOWN', 'mood': 'MOOD_UNKNOWN', 'number': 'PLURAL', 'person': 'FIRST', 'proper': 'PROPER_UNKNOWN', 'reciprocity': 'RECIPROCITY_UNKNOWN', 'tense': 'TENSE_UNKNOWN', 'voice': 'VOICE_UNKNOWN'}, 'dependencyEdge': {'headTokenIndex': 58, 'label': 'POSS'}, 'lemma': 'our'}, {'text': {'content': 'kids', 'beginOffset': -1}, 'partOfSpeech': {'tag': 'NOUN', 'aspect': 'ASPECT_UNKNOWN', 'case': 'CASE_UNKNOWN', 'form': 'FORM_UNKNOWN', 'gender': 'GENDER_UNKNOWN', 'mood': 'MOOD_UNKNOWN', 'number': 'PLURAL', 'person': 'PERSON_UNKNOWN', 'proper': 'PROPER_UNKNOWN', 'reciprocity': 'RECIPROCITY_UNKNOWN', 'tense': 'TENSE_UNKNOWN', 'voice': 'VOICE_UNKNOWN'}, 'dependencyEdge': {'headTokenIndex': 56, 'label': 'POBJ'}, 'lemma': 'kid'}, {'text': {'content': '.', 'beginOffset': -1}, 'partOfSpeech': {'tag': 'PUNCT', 'aspect': 'ASPECT_UNKNOWN', 'case': 'CASE_UNKNOWN', 'form': 'FORM_UNKNOWN', 'gender': 'GENDER_UNKNOWN', 'mood': 'MOOD_UNKNOWN', 'number': 'NUMBER_UNKNOWN', 'person': 'PERSON_UNKNOWN', 'proper': 'PROPER_UNKNOWN', 'reciprocity': 'RECIPROCITY_UNKNOWN', 'tense': 'TENSE_UNKNOWN', 'voice': 'VOICE_UNKNOWN'}, 'dependencyEdge': {'headTokenIndex': 43, 'label': 'P'}, 'lemma': '.'}, {'text': {'content': 'Ryan', 'beginOffset': -1}, 'partOfSpeech': {'tag': 'NOUN', 'aspect': 'ASPECT_UNKNOWN', 'case': 'CASE_UNKNOWN', 'form': 'FORM_UNKNOWN', 'gender': 'GENDER_UNKNOWN', 'mood': 'MOOD_UNKNOWN', 'number': 'SINGULAR', 'person': 'PERSON_UNKNOWN', 'proper': 'PROPER', 'reciprocity': 'RECIPROCITY_UNKNOWN', 'tense': 'TENSE_UNKNOWN', 'voice': 'VOICE_UNKNOWN'}, 'dependencyEdge': {'headTokenIndex': 61, 'label': 'NN'}, 'lemma': 'Ryan'}, {'text': {'content': 'Coogler', 'beginOffset': -1}, 'partOfSpeech': {'tag': 'NOUN', 'aspect': 'ASPECT_UNKNOWN', 'case': 'CASE_UNKNOWN', 'form': 'FORM_UNKNOWN', 'gender': 'GENDER_UNKNOWN', 'mood': 'MOOD_UNKNOWN', 'number': 'SINGULAR', 'person': 'PERSON_UNKNOWN', 'proper': 'PROPER', 'reciprocity': 'RECIPROCITY_UNKNOWN', 'tense': 'TENSE_UNKNOWN', 'voice': 'VOICE_UNKNOWN'}, 'dependencyEdge': {'headTokenIndex': 62, 'label': 'NSUBJ'}, 'lemma': 'Coogler'}, {'text': {'content': 'tells', 'beginOffset': -1}, 'partOfSpeech': {'tag': 'VERB', 'aspect': 'ASPECT_UNKNOWN', 'case': 'CASE_UNKNOWN', 'form': 'FORM_UNKNOWN', 'gender': 'GENDER_UNKNOWN', 'mood': 'INDICATIVE', 'number': 'SINGULAR', 'person': 'THIRD', 'proper': 'PROPER_UNKNOWN', 'reciprocity': 'RECIPROCITY_UNKNOWN', 'tense': 'PRESENT', 'voice': 'VOICE_UNKNOWN'}, 'dependencyEdge': {'headTokenIndex': 62, 'label': 'ROOT'}, 'lemma': 'tell'}, {'text': {'content': 'our', 'beginOffset': -1}, 'partOfSpeech': {'tag': 'PRON', 'aspect': 'ASPECT_UNKNOWN', 'case': 'GENITIVE', 'form': 'FORM_UNKNOWN', 'gender': 'GENDER_UNKNOWN', 'mood': 'MOOD_UNKNOWN', 'number': 'PLURAL', 'person': 'FIRST', 'proper': 'PROPER_UNKNOWN', 'reciprocity': 'RECIPROCITY_UNKNOWN', 'tense': 'TENSE_UNKNOWN', 'voice': 'VOICE_UNKNOWN'}, 'dependencyEdge': {'headTokenIndex': 64, 'label': 'POSS'}, 'lemma': 'our'}, {'text': {'content': 'story', 'beginOffset': -1}, 'partOfSpeech': {'tag': 'NOUN', 'aspect': 'ASPECT_UNKNOWN', 'case': 'CASE_UNKNOWN', 'form': 'FORM_UNKNOWN', 'gender': 'GENDER_UNKNOWN', 'mood': 'MOOD_UNKNOWN', 'number': 'SINGULAR', 'person': 'PERSON_UNKNOWN', 'proper': 'PROPER_UNKNOWN', 'reciprocity': 'RECIPROCITY_UNKNOWN', 'tense': 'TENSE_UNKNOWN', 'voice': 'VOICE_UNKNOWN'}, 'dependencyEdge': {'headTokenIndex': 62, 'label': 'DOBJ'}, 'lemma': 'story'}, {'text': {'content': 'in', 'beginOffset': -1}, 'partOfSpeech': {'tag': 'ADP', 'aspect': 'ASPECT_UNKNOWN', 'case': 'CASE_UNKNOWN', 'form': 'FORM_UNKNOWN', 'gender': 'GENDER_UNKNOWN', 'mood': 'MOOD_UNKNOWN', 'number': 'NUMBER_UNKNOWN', 'person': 'PERSON_UNKNOWN', 'proper': 'PROPER_UNKNOWN', 'reciprocity': 'RECIPROCITY_UNKNOWN', 'tense': 'TENSE_UNKNOWN', 'voice': 'VOICE_UNKNOWN'}, 'dependencyEdge': {'headTokenIndex': 62, 'label': 'PREP'}, 'lemma': 'in'}, {'text': {'content': 'a', 'beginOffset': -1}, 'partOfSpeech': {'tag': 'DET', 'aspect': 'ASPECT_UNKNOWN', 'case': 'CASE_UNKNOWN', 'form': 'FORM_UNKNOWN', 'gender': 'GENDER_UNKNOWN', 'mood': 'MOOD_UNKNOWN', 'number': 'NUMBER_UNKNOWN', 'person': 'PERSON_UNKNOWN', 'proper': 'PROPER_UNKNOWN', 'reciprocity': 'RECIPROCITY_UNKNOWN', 'tense': 'TENSE_UNKNOWN', 'voice': 'VOICE_UNKNOWN'}, 'dependencyEdge': {'headTokenIndex': 67, 'label': 'DET'}, 'lemma': 'a'}, {'text': {'content': 'way', 'beginOffset': -1}, 'partOfSpeech': {'tag': 'NOUN', 'aspect': 'ASPECT_UNKNOWN', 'case': 'CASE_UNKNOWN', 'form': 'FORM_UNKNOWN', 'gender': 'GENDER_UNKNOWN', 'mood': 'MOOD_UNKNOWN', 'number': 'SINGULAR', 'person': 'PERSON_UNKNOWN', 'proper': 'PROPER_UNKNOWN', 'reciprocity': 'RECIPROCITY_UNKNOWN', 'tense': 'TENSE_UNKNOWN', 'voice': 'VOICE_UNKNOWN'}, 'dependencyEdge': {'headTokenIndex': 65, 'label': 'POBJ'}, 'lemma': 'way'}, {'text': {'content': 'that', 'beginOffset': -1}, 'partOfSpeech': {'tag': 'DET', 'aspect': 'ASPECT_UNKNOWN', 'case': 'CASE_UNKNOWN', 'form': 'FORM_UNKNOWN', 'gender': 'GENDER_UNKNOWN', 'mood': 'MOOD_UNKNOWN', 'number': 'NUMBER_UNKNOWN', 'person': 'PERSON_UNKNOWN', 'proper': 'PROPER_UNKNOWN', 'reciprocity': 'RECIPROCITY_UNKNOWN', 'tense': 'TENSE_UNKNOWN', 'voice': 'VOICE_UNKNOWN'}, 'dependencyEdge': {'headTokenIndex': 69, 'label': 'NSUBJ'}, 'lemma': 'that'}, {'text': {'content': 'celebrates', 'beginOffset': -1}, 'partOfSpeech': {'tag': 'VERB', 'aspect': 'ASPECT_UNKNOWN', 'case': 'CASE_UNKNOWN', 'form': 'FORM_UNKNOWN', 'gender': 'GENDER_UNKNOWN', 'mood': 'INDICATIVE', 'number': 'SINGULAR', 'person': 'THIRD', 'proper': 'PROPER_UNKNOWN', 'reciprocity': 'RECIPROCITY_UNKNOWN', 'tense': 'PRESENT', 'voice': 'VOICE_UNKNOWN'}, 'dependencyEdge': {'headTokenIndex': 67, 'label': 'RCMOD'}, 'lemma': 'celebrate'}, {'text': {'content': 'our', 'beginOffset': -1}, 'partOfSpeech': {'tag': 'PRON', 'aspect': 'ASPECT_UNKNOWN', 'case': 'GENITIVE', 'form': 'FORM_UNKNOWN', 'gender': 'GENDER_UNKNOWN', 'mood': 'MOOD_UNKNOWN', 'number': 'PLURAL', 'person': 'FIRST', 'proper': 'PROPER_UNKNOWN', 'reciprocity': 'RECIPROCITY_UNKNOWN', 'tense': 'TENSE_UNKNOWN', 'voice': 'VOICE_UNKNOWN'}, 'dependencyEdge': {'headTokenIndex': 71, 'label': 'POSS'}, 'lemma': 'our'}, {'text': {'content': 'history', 'beginOffset': -1}, 'partOfSpeech': {'tag': 'NOUN', 'aspect': 'ASPECT_UNKNOWN', 'case': 'CASE_UNKNOWN', 'form': 'FORM_UNKNOWN', 'gender': 'GENDER_UNKNOWN', 'mood': 'MOOD_UNKNOWN', 'number': 'SINGULAR', 'person': 'PERSON_UNKNOWN', 'proper': 'PROPER_UNKNOWN', 'reciprocity': 'RECIPROCITY_UNKNOWN', 'tense': 'TENSE_UNKNOWN', 'voice': 'VOICE_UNKNOWN'}, 'dependencyEdge': {'headTokenIndex': 69, 'label': 'DOBJ'}, 'lemma': 'history'}, {'text': {'content': 'and', 'beginOffset': -1}, 'partOfSpeech': {'tag': 'CONJ', 'aspect': 'ASPECT_UNKNOWN', 'case': 'CASE_UNKNOWN', 'form': 'FORM_UNKNOWN', 'gender': 'GENDER_UNKNOWN', 'mood': 'MOOD_UNKNOWN', 'number': 'NUMBER_UNKNOWN', 'person': 'PERSON_UNKNOWN', 'proper': 'PROPER_UNKNOWN', 'reciprocity': 'RECIPROCITY_UNKNOWN', 'tense': 'TENSE_UNKNOWN', 'voice': 'VOICE_UNKNOWN'}, 'dependencyEdge': {'headTokenIndex': 69, 'label': 'CC'}, 'lemma': 'and'}, {'text': {'content': 'proved', 'beginOffset': -1}, 'partOfSpeech': {'tag': 'VERB', 'aspect': 'ASPECT_UNKNOWN', 'case': 'CASE_UNKNOWN', 'form': 'FORM_UNKNOWN', 'gender': 'GENDER_UNKNOWN', 'mood': 'INDICATIVE', 'number': 'NUMBER_UNKNOWN', 'person': 'PERSON_UNKNOWN', 'proper': 'PROPER_UNKNOWN', 'reciprocity': 'RECIPROCITY_UNKNOWN', 'tense': 'PAST', 'voice': 'VOICE_UNKNOWN'}, 'dependencyEdge': {'headTokenIndex': 69, 'label': 'CONJ'}, 'lemma': 'prove'}, {'text': {'content': 'that', 'beginOffset': -1}, 'partOfSpeech': {'tag': 'ADP', 'aspect': 'ASPECT_UNKNOWN', 'case': 'CASE_UNKNOWN', 'form': 'FORM_UNKNOWN', 'gender': 'GENDER_UNKNOWN', 'mood': 'MOOD_UNKNOWN', 'number': 'NUMBER_UNKNOWN', 'person': 'PERSON_UNKNOWN', 'proper': 'PROPER_UNKNOWN', 'reciprocity': 'RECIPROCITY_UNKNOWN', 'tense': 'TENSE_UNKNOWN', 'voice': 'VOICE_UNKNOWN'}, 'dependencyEdge': {'headTokenIndex': 77, 'label': 'MARK'}, 'lemma': 'that'}, {'text': {'content': 'we', 'beginOffset': -1}, 'partOfSpeech': {'tag': 'PRON', 'aspect': 'ASPECT_UNKNOWN', 'case': 'NOMINATIVE', 'form': 'FORM_UNKNOWN', 'gender': 'GENDER_UNKNOWN', 'mood': 'MOOD_UNKNOWN', 'number': 'PLURAL', 'person': 'FIRST', 'proper': 'PROPER_UNKNOWN', 'reciprocity': 'RECIPROCITY_UNKNOWN', 'tense': 'TENSE_UNKNOWN', 'voice': 'VOICE_UNKNOWN'}, 'dependencyEdge': {'headTokenIndex': 77, 'label': 'NSUBJ'}, 'lemma': 'we'}, {'text': {'content': 'do', 'beginOffset': -1}, 'partOfSpeech': {'tag': 'VERB', 'aspect': 'ASPECT_UNKNOWN', 'case': 'CASE_UNKNOWN', 'form': 'FORM_UNKNOWN', 'gender': 'GENDER_UNKNOWN', 'mood': 'INDICATIVE', 'number': 'NUMBER_UNKNOWN', 'person': 'PERSON_UNKNOWN', 'proper': 'PROPER_UNKNOWN', 'reciprocity': 'RECIPROCITY_UNKNOWN', 'tense': 'PRESENT', 'voice': 'VOICE_UNKNOWN'}, 'dependencyEdge': {'headTokenIndex': 77, 'label': 'AUX'}, 'lemma': 'do'}, {'text': {'content': 'have', 'beginOffset': -1}, 'partOfSpeech': {'tag': 'VERB', 'aspect': 'ASPECT_UNKNOWN', 'case': 'CASE_UNKNOWN', 'form': 'FORM_UNKNOWN', 'gender': 'GENDER_UNKNOWN', 'mood': 'MOOD_UNKNOWN', 'number': 'NUMBER_UNKNOWN', 'person': 'PERSON_UNKNOWN', 'proper': 'PROPER_UNKNOWN', 'reciprocity': 'RECIPROCITY_UNKNOWN', 'tense': 'TENSE_UNKNOWN', 'voice': 'VOICE_UNKNOWN'}, 'dependencyEdge': {'headTokenIndex': 73, 'label': 'CCOMP'}, 'lemma': 'have'}, {'text': {'content': 'power', 'beginOffset': -1}, 'partOfSpeech': {'tag': 'NOUN', 'aspect': 'ASPECT_UNKNOWN', 'case': 'CASE_UNKNOWN', 'form': 'FORM_UNKNOWN', 'gender': 'GENDER_UNKNOWN', 'mood': 'MOOD_UNKNOWN', 'number': 'SINGULAR', 'person': 'PERSON_UNKNOWN', 'proper': 'PROPER_UNKNOWN', 'reciprocity': 'RECIPROCITY_UNKNOWN', 'tense': 'TENSE_UNKNOWN', 'voice': 'VOICE_UNKNOWN'}, 'dependencyEdge': {'headTokenIndex': 77, 'label': 'DOBJ'}, 'lemma': 'power'}, {'text': {'content': 'at', 'beginOffset': -1}, 'partOfSpeech': {'tag': 'ADP', 'aspect': 'ASPECT_UNKNOWN', 'case': 'CASE_UNKNOWN', 'form': 'FORM_UNKNOWN', 'gender': 'GENDER_UNKNOWN', 'mood': 'MOOD_UNKNOWN', 'number': 'NUMBER_UNKNOWN', 'person': 'PERSON_UNKNOWN', 'proper': 'PROPER_UNKNOWN', 'reciprocity': 'RECIPROCITY_UNKNOWN', 'tense': 'TENSE_UNKNOWN', 'voice': 'VOICE_UNKNOWN'}, 'dependencyEdge': {'headTokenIndex': 77, 'label': 'PREP'}, 'lemma': 'at'}, {'text': {'content': 'the', 'beginOffset': -1}, 'partOfSpeech': {'tag': 'DET', 'aspect': 'ASPECT_UNKNOWN', 'case': 'CASE_UNKNOWN', 'form': 'FORM_UNKNOWN', 'gender': 'GENDER_UNKNOWN', 'mood': 'MOOD_UNKNOWN', 'number': 'NUMBER_UNKNOWN', 'person': 'PERSON_UNKNOWN', 'proper': 'PROPER_UNKNOWN', 'reciprocity': 'RECIPROCITY_UNKNOWN', 'tense': 'TENSE_UNKNOWN', 'voice': 'VOICE_UNKNOWN'}, 'dependencyEdge': {'headTokenIndex': 82, 'label': 'DET'}, 'lemma': 'the'}, {'text': {'content': 'box', 'beginOffset': -1}, 'partOfSpeech': {'tag': 'NOUN', 'aspect': 'ASPECT_UNKNOWN', 'case': 'CASE_UNKNOWN', 'form': 'FORM_UNKNOWN', 'gender': 'GENDER_UNKNOWN', 'mood': 'MOOD_UNKNOWN', 'number': 'SINGULAR', 'person': 'PERSON_UNKNOWN', 'proper': 'PROPER_UNKNOWN', 'reciprocity': 'RECIPROCITY_UNKNOWN', 'tense': 'TENSE_UNKNOWN', 'voice': 'VOICE_UNKNOWN'}, 'dependencyEdge': {'headTokenIndex': 82, 'label': 'NN'}, 'lemma': 'box'}, {'text': {'content': 'office', 'beginOffset': -1}, 'partOfSpeech': {'tag': 'NOUN', 'aspect': 'ASPECT_UNKNOWN', 'case': 'CASE_UNKNOWN', 'form': 'FORM_UNKNOWN', 'gender': 'GENDER_UNKNOWN', 'mood': 'MOOD_UNKNOWN', 'number': 'SINGULAR', 'person': 'PERSON_UNKNOWN', 'proper': 'PROPER_UNKNOWN', 'reciprocity': 'RECIPROCITY_UNKNOWN', 'tense': 'TENSE_UNKNOWN', 'voice': 'VOICE_UNKNOWN'}, 'dependencyEdge': {'headTokenIndex': 79, 'label': 'POBJ'}, 'lemma': 'office'}, {'text': {'content': ',', 'beginOffset': -1}, 'partOfSpeech': {'tag': 'PUNCT', 'aspect': 'ASPECT_UNKNOWN', 'case': 'CASE_UNKNOWN', 'form': 'FORM_UNKNOWN', 'gender': 'GENDER_UNKNOWN', 'mood': 'MOOD_UNKNOWN', 'number': 'NUMBER_UNKNOWN', 'person': 'PERSON_UNKNOWN', 'proper': 'PROPER_UNKNOWN', 'reciprocity': 'RECIPROCITY_UNKNOWN', 'tense': 'TENSE_UNKNOWN', 'voice': 'VOICE_UNKNOWN'}, 'dependencyEdge': {'headTokenIndex': 62, 'label': 'P'}, 'lemma': ','}, {'text': {'content': 'and', 'beginOffset': -1}, 'partOfSpeech': {'tag': 'CONJ', 'aspect': 'ASPECT_UNKNOWN', 'case': 'CASE_UNKNOWN', 'form': 'FORM_UNKNOWN', 'gender': 'GENDER_UNKNOWN', 'mood': 'MOOD_UNKNOWN', 'number': 'NUMBER_UNKNOWN', 'person': 'PERSON_UNKNOWN', 'proper': 'PROPER_UNKNOWN', 'reciprocity': 'RECIPROCITY_UNKNOWN', 'tense': 'TENSE_UNKNOWN', 'voice': 'VOICE_UNKNOWN'}, 'dependencyEdge': {'headTokenIndex': 62, 'label': 'CC'}, 'lemma': 'and'}, {'text': {'content': 'I', 'beginOffset': -1}, 'partOfSpeech': {'tag': 'PRON', 'aspect': 'ASPECT_UNKNOWN', 'case': 'NOMINATIVE', 'form': 'FORM_UNKNOWN', 'gender': 'GENDER_UNKNOWN', 'mood': 'MOOD_UNKNOWN', 'number': 'SINGULAR', 'person': 'FIRST', 'proper': 'PROPER_UNKNOWN', 'reciprocity': 'RECIPROCITY_UNKNOWN', 'tense': 'TENSE_UNKNOWN', 'voice': 'VOICE_UNKNOWN'}, 'dependencyEdge': {'headTokenIndex': 86, 'label': 'NSUBJ'}, 'lemma': 'I'}, {'text': {'content': '’m', 'beginOffset': -1}, 'partOfSpeech': {'tag': 'VERB', 'aspect': 'ASPECT_UNKNOWN', 'case': 'CASE_UNKNOWN', 'form': 'FORM_UNKNOWN', 'gender': 'GENDER_UNKNOWN', 'mood': 'INDICATIVE', 'number': 'NUMBER_UNKNOWN', 'person': 'PERSON_UNKNOWN', 'proper': 'PROPER_UNKNOWN', 'reciprocity': 'RECIPROCITY_UNKNOWN', 'tense': 'PRESENT', 'voice': 'VOICE_UNKNOWN'}, 'dependencyEdge': {'headTokenIndex': 62, 'label': 'CONJ'}, 'lemma': 'be'}, {'text': {'content': 'honored', 'beginOffset': -1}, 'partOfSpeech': {'tag': 'ADJ', 'aspect': 'ASPECT_UNKNOWN', 'case': 'CASE_UNKNOWN', 'form': 'FORM_UNKNOWN', 'gender': 'GENDER_UNKNOWN', 'mood': 'MOOD_UNKNOWN', 'number': 'NUMBER_UNKNOWN', 'person': 'PERSON_UNKNOWN', 'proper': 'PROPER_UNKNOWN', 'reciprocity': 'RECIPROCITY_UNKNOWN', 'tense': 'PAST', 'voice': 'VOICE_UNKNOWN'}, 'dependencyEdge': {'headTokenIndex': 86, 'label': 'ACOMP'}, 'lemma': 'honored'}, {'text': {'content': 'to', 'beginOffset': -1}, 'partOfSpeech': {'tag': 'PRT', 'aspect': 'ASPECT_UNKNOWN', 'case': 'CASE_UNKNOWN', 'form': 'FORM_UNKNOWN', 'gender': 'GENDER_UNKNOWN', 'mood': 'MOOD_UNKNOWN', 'number': 'NUMBER_UNKNOWN', 'person': 'PERSON_UNKNOWN', 'proper': 'PROPER_UNKNOWN', 'reciprocity': 'RECIPROCITY_UNKNOWN', 'tense': 'TENSE_UNKNOWN', 'voice': 'VOICE_UNKNOWN'}, 'dependencyEdge': {'headTokenIndex': 90, 'label': 'AUX'}, 'lemma': 'to'}, {'text': {'content': 'be', 'beginOffset': -1}, 'partOfSpeech': {'tag': 'VERB', 'aspect': 'ASPECT_UNKNOWN', 'case': 'CASE_UNKNOWN', 'form': 'FORM_UNKNOWN', 'gender': 'GENDER_UNKNOWN', 'mood': 'MOOD_UNKNOWN', 'number': 'NUMBER_UNKNOWN', 'person': 'PERSON_UNKNOWN', 'proper': 'PROPER_UNKNOWN', 'reciprocity': 'RECIPROCITY_UNKNOWN', 'tense': 'TENSE_UNKNOWN', 'voice': 'VOICE_UNKNOWN'}, 'dependencyEdge': {'headTokenIndex': 90, 'label': 'AUXPASS'}, 'lemma': 'be'}, {'text': {'content': 'included', 'beginOffset': -1}, 'partOfSpeech': {'tag': 'VERB', 'aspect': 'ASPECT_UNKNOWN', 'case': 'CASE_UNKNOWN', 'form': 'FORM_UNKNOWN', 'gender': 'GENDER_UNKNOWN', 'mood': 'MOOD_UNKNOWN', 'number': 'NUMBER_UNKNOWN', 'person': 'PERSON_UNKNOWN', 'proper': 'PROPER_UNKNOWN', 'reciprocity': 'RECIPROCITY_UNKNOWN', 'tense': 'PAST', 'voice': 'PASSIVE'}, 'dependencyEdge': {'headTokenIndex': 87, 'label': 'XCOMP'}, 'lemma': 'include'}, {'text': {'content': 'among', 'beginOffset': -1}, 'partOfSpeech': {'tag': 'ADP', 'aspect': 'ASPECT_UNKNOWN', 'case': 'CASE_UNKNOWN', 'form': 'FORM_UNKNOWN', 'gender': 'GENDER_UNKNOWN', 'mood': 'MOOD_UNKNOWN', 'number': 'NUMBER_UNKNOWN', 'person': 'PERSON_UNKNOWN', 'proper': 'PROPER_UNKNOWN', 'reciprocity': 'RECIPROCITY_UNKNOWN', 'tense': 'TENSE_UNKNOWN', 'voice': 'VOICE_UNKNOWN'}, 'dependencyEdge': {'headTokenIndex': 90, 'label': 'PREP'}, 'lemma': 'among'}, {'text': {'content': 'all', 'beginOffset': -1}, 'partOfSpeech': {'tag': 'DET', 'aspect': 'ASPECT_UNKNOWN', 'case': 'CASE_UNKNOWN', 'form': 'FORM_UNKNOWN', 'gender': 'GENDER_UNKNOWN', 'mood': 'MOOD_UNKNOWN', 'number': 'NUMBER_UNKNOWN', 'person': 'PERSON_UNKNOWN', 'proper': 'PROPER_UNKNOWN', 'reciprocity': 'RECIPROCITY_UNKNOWN', 'tense': 'TENSE_UNKNOWN', 'voice': 'VOICE_UNKNOWN'}, 'dependencyEdge': {'headTokenIndex': 91, 'label': 'POBJ'}, 'lemma': 'all'}, {'text': {'content': 'of', 'beginOffset': -1}, 'partOfSpeech': {'tag': 'ADP', 'aspect': 'ASPECT_UNKNOWN', 'case': 'CASE_UNKNOWN', 'form': 'FORM_UNKNOWN', 'gender': 'GENDER_UNKNOWN', 'mood': 'MOOD_UNKNOWN', 'number': 'NUMBER_UNKNOWN', 'person': 'PERSON_UNKNOWN', 'proper': 'PROPER_UNKNOWN', 'reciprocity': 'RECIPROCITY_UNKNOWN', 'tense': 'TENSE_UNKNOWN', 'voice': 'VOICE_UNKNOWN'}, 'dependencyEdge': {'headTokenIndex': 92, 'label': 'PREP'}, 'lemma': 'of'}, {'text': {'content': 'you', 'beginOffset': -1}, 'partOfSpeech': {'tag': 'PRON', 'aspect': 'ASPECT_UNKNOWN', 'case': 'ACCUSATIVE', 'form': 'FORM_UNKNOWN', 'gender': 'GENDER_UNKNOWN', 'mood': 'MOOD_UNKNOWN', 'number': 'NUMBER_UNKNOWN', 'person': 'SECOND', 'proper': 'PROPER_UNKNOWN', 'reciprocity': 'RECIPROCITY_UNKNOWN', 'tense': 'TENSE_UNKNOWN', 'voice': 'VOICE_UNKNOWN'}, 'dependencyEdge': {'headTokenIndex': 93, 'label': 'POBJ'}, 'lemma': 'you'}, {'text': {'content': 'and', 'beginOffset': -1}, 'partOfSpeech': {'tag': 'CONJ', 'aspect': 'ASPECT_UNKNOWN', 'case': 'CASE_UNKNOWN', 'form': 'FORM_UNKNOWN', 'gender': 'GENDER_UNKNOWN', 'mood': 'MOOD_UNKNOWN', 'number': 'NUMBER_UNKNOWN', 'person': 'PERSON_UNKNOWN', 'proper': 'PROPER_UNKNOWN', 'reciprocity': 'RECIPROCITY_UNKNOWN', 'tense': 'TENSE_UNKNOWN', 'voice': 'VOICE_UNKNOWN'}, 'dependencyEdge': {'headTokenIndex': 91, 'label': 'CC'}, 'lemma': 'and'}, {'text': {'content': 'to', 'beginOffset': -1}, 'partOfSpeech': {'tag': 'ADP', 'aspect': 'ASPECT_UNKNOWN', 'case': 'CASE_UNKNOWN', 'form': 'FORM_UNKNOWN', 'gender': 'GENDER_UNKNOWN', 'mood': 'MOOD_UNKNOWN', 'number': 'NUMBER_UNKNOWN', 'person': 'PERSON_UNKNOWN', 'proper': 'PROPER_UNKNOWN', 'reciprocity': 'RECIPROCITY_UNKNOWN', 'tense': 'TENSE_UNKNOWN', 'voice': 'VOICE_UNKNOWN'}, 'dependencyEdge': {'headTokenIndex': 91, 'label': 'CONJ'}, 'lemma': 'to'}, {'text': {'content': 'a', 'beginOffset': -1}, 'partOfSpeech': {'tag': 'DET', 'aspect': 'ASPECT_UNKNOWN', 'case': 'CASE_UNKNOWN', 'form': 'FORM_UNKNOWN', 'gender': 'GENDER_UNKNOWN', 'mood': 'MOOD_UNKNOWN', 'number': 'NUMBER_UNKNOWN', 'person': 'PERSON_UNKNOWN', 'proper': 'PROPER_UNKNOWN', 'reciprocity': 'RECIPROCITY_UNKNOWN', 'tense': 'TENSE_UNKNOWN', 'voice': 'VOICE_UNKNOWN'}, 'dependencyEdge': {'headTokenIndex': 98, 'label': 'DET'}, 'lemma': 'a'}, {'text': {'content': 'part', 'beginOffset': -1}, 'partOfSpeech': {'tag': 'NOUN', 'aspect': 'ASPECT_UNKNOWN', 'case': 'CASE_UNKNOWN', 'form': 'FORM_UNKNOWN', 'gender': 'GENDER_UNKNOWN', 'mood': 'MOOD_UNKNOWN', 'number': 'SINGULAR', 'person': 'PERSON_UNKNOWN', 'proper': 'PROPER_UNKNOWN', 'reciprocity': 'RECIPROCITY_UNKNOWN', 'tense': 'TENSE_UNKNOWN', 'voice': 'VOICE_UNKNOWN'}, 'dependencyEdge': {'headTokenIndex': 96, 'label': 'POBJ'}, 'lemma': 'part'}, {'text': {'content': 'of', 'beginOffset': -1}, 'partOfSpeech': {'tag': 'ADP', 'aspect': 'ASPECT_UNKNOWN', 'case': 'CASE_UNKNOWN', 'form': 'FORM_UNKNOWN', 'gender': 'GENDER_UNKNOWN', 'mood': 'MOOD_UNKNOWN', 'number': 'NUMBER_UNKNOWN', 'person': 'PERSON_UNKNOWN', 'proper': 'PROPER_UNKNOWN', 'reciprocity': 'RECIPROCITY_UNKNOWN', 'tense': 'TENSE_UNKNOWN', 'voice': 'VOICE_UNKNOWN'}, 'dependencyEdge': {'headTokenIndex': 98, 'label': 'PREP'}, 'lemma': 'of'}, {'text': {'content': 'a', 'beginOffset': -1}, 'partOfSpeech': {'tag': 'DET', 'aspect': 'ASPECT_UNKNOWN', 'case': 'CASE_UNKNOWN', 'form': 'FORM_UNKNOWN', 'gender': 'GENDER_UNKNOWN', 'mood': 'MOOD_UNKNOWN', 'number': 'NUMBER_UNKNOWN', 'person': 'PERSON_UNKNOWN', 'proper': 'PROPER_UNKNOWN', 'reciprocity': 'RECIPROCITY_UNKNOWN', 'tense': 'TENSE_UNKNOWN', 'voice': 'VOICE_UNKNOWN'}, 'dependencyEdge': {'headTokenIndex': 106, 'label': 'DET'}, 'lemma': 'a'}, {'text': {'content': 'vital', 'beginOffset': -1}, 'partOfSpeech': {'tag': 'ADJ', 'aspect': 'ASPECT_UNKNOWN', 'case': 'CASE_UNKNOWN', 'form': 'FORM_UNKNOWN', 'gender': 'GENDER_UNKNOWN', 'mood': 'MOOD_UNKNOWN', 'number': 'NUMBER_UNKNOWN', 'person': 'PERSON_UNKNOWN', 'proper': 'PROPER_UNKNOWN', 'reciprocity': 'RECIPROCITY_UNKNOWN', 'tense': 'TENSE_UNKNOWN', 'voice': 'VOICE_UNKNOWN'}, 'dependencyEdge': {'headTokenIndex': 106, 'label': 'AMOD'}, 'lemma': 'vital'}, {'text': {'content': ',', 'beginOffset': -1}, 'partOfSpeech': {'tag': 'PUNCT', 'aspect': 'ASPECT_UNKNOWN', 'case': 'CASE_UNKNOWN', 'form': 'FORM_UNKNOWN', 'gender': 'GENDER_UNKNOWN', 'mood': 'MOOD_UNKNOWN', 'number': 'NUMBER_UNKNOWN', 'person': 'PERSON_UNKNOWN', 'proper': 'PROPER_UNKNOWN', 'reciprocity': 'RECIPROCITY_UNKNOWN', 'tense': 'TENSE_UNKNOWN', 'voice': 'VOICE_UNKNOWN'}, 'dependencyEdge': {'headTokenIndex': 106, 'label': 'P'}, 'lemma': ','}, {'text': {'content': 'thriving', 'beginOffset': -1}, 'partOfSpeech': {'tag': 'ADJ', 'aspect': 'ASPECT_UNKNOWN', 'case': 'CASE_UNKNOWN', 'form': 'FORM_UNKNOWN', 'gender': 'GENDER_UNKNOWN', 'mood': 'MOOD_UNKNOWN', 'number': 'NUMBER_UNKNOWN', 'person': 'PERSON_UNKNOWN', 'proper': 'PROPER_UNKNOWN', 'reciprocity': 'RECIPROCITY_UNKNOWN', 'tense': 'TENSE_UNKNOWN', 'voice': 'VOICE_UNKNOWN'}, 'dependencyEdge': {'headTokenIndex': 106, 'label': 'AMOD'}, 'lemma': 'thriving'}, {'text': {'content': ',', 'beginOffset': -1}, 'partOfSpeech': {'tag': 'PUNCT', 'aspect': 'ASPECT_UNKNOWN', 'case': 'CASE_UNKNOWN', 'form': 'FORM_UNKNOWN', 'gender': 'GENDER_UNKNOWN', 'mood': 'MOOD_UNKNOWN', 'number': 'NUMBER_UNKNOWN', 'person': 'PERSON_UNKNOWN', 'proper': 'PROPER_UNKNOWN', 'reciprocity': 'RECIPROCITY_UNKNOWN', 'tense': 'TENSE_UNKNOWN', 'voice': 'VOICE_UNKNOWN'}, 'dependencyEdge': {'headTokenIndex': 106, 'label': 'P'}, 'lemma': ','}, {'text': {'content': 'beautiful', 'beginOffset': -1}, 'partOfSpeech': {'tag': 'ADJ', 'aspect': 'ASPECT_UNKNOWN', 'case': 'CASE_UNKNOWN', 'form': 'FORM_UNKNOWN', 'gender': 'GENDER_UNKNOWN', 'mood': 'MOOD_UNKNOWN', 'number': 'NUMBER_UNKNOWN', 'person': 'PERSON_UNKNOWN', 'proper': 'PROPER_UNKNOWN', 'reciprocity': 'RECIPROCITY_UNKNOWN', 'tense': 'TENSE_UNKNOWN', 'voice': 'VOICE_UNKNOWN'}, 'dependencyEdge': {'headTokenIndex': 106, 'label': 'AMOD'}, 'lemma': 'beautiful'}, {'text': {'content': 'community', 'beginOffset': -1}, 'partOfSpeech': {'tag': 'NOUN', 'aspect': 'ASPECT_UNKNOWN', 'case': 'CASE_UNKNOWN', 'form': 'FORM_UNKNOWN', 'gender': 'GENDER_UNKNOWN', 'mood': 'MOOD_UNKNOWN', 'number': 'SINGULAR', 'person': 'PERSON_UNKNOWN', 'proper': 'PROPER_UNKNOWN', 'reciprocity': 'RECIPROCITY_UNKNOWN', 'tense': 'TENSE_UNKNOWN', 'voice': 'VOICE_UNKNOWN'}, 'dependencyEdge': {'headTokenIndex': 99, 'label': 'POBJ'}, 'lemma': 'community'}, {'text': {'content': '.', 'beginOffset': -1}, 'partOfSpeech': {'tag': 'PUNCT', 'aspect': 'ASPECT_UNKNOWN', 'case': 'CASE_UNKNOWN', 'form': 'FORM_UNKNOWN', 'gender': 'GENDER_UNKNOWN', 'mood': 'MOOD_UNKNOWN', 'number': 'NUMBER_UNKNOWN', 'person': 'PERSON_UNKNOWN', 'proper': 'PROPER_UNKNOWN', 'reciprocity': 'RECIPROCITY_UNKNOWN', 'tense': 'TENSE_UNKNOWN', 'voice': 'VOICE_UNKNOWN'}, 'dependencyEdge': {'headTokenIndex': 62, 'label': 'P'}, 'lemma': '.'}, {'text': {'content': 'Thank', 'beginOffset': -1}, 'partOfSpeech': {'tag': 'VERB', 'aspect': 'ASPECT_UNKNOWN', 'case': 'CASE_UNKNOWN', 'form': 'FORM_UNKNOWN', 'gender': 'GENDER_UNKNOWN', 'mood': 'INDICATIVE', 'number': 'NUMBER_UNKNOWN', 'person': 'PERSON_UNKNOWN', 'proper': 'PROPER_UNKNOWN', 'reciprocity': 'RECIPROCITY_UNKNOWN', 'tense': 'PRESENT', 'voice': 'VOICE_UNKNOWN'}, 'dependencyEdge': {'headTokenIndex': 108, 'label': 'ROOT'}, 'lemma': 'Thank'}, {'text': {'content': 'you', 'beginOffset': -1}, 'partOfSpeech': {'tag': 'PRON', 'aspect': 'ASPECT_UNKNOWN', 'case': 'ACCUSATIVE', 'form': 'FORM_UNKNOWN', 'gender': 'GENDER_UNKNOWN', 'mood': 'MOOD_UNKNOWN', 'number': 'NUMBER_UNKNOWN', 'person': 'SECOND', 'proper': 'PROPER_UNKNOWN', 'reciprocity': 'RECIPROCITY_UNKNOWN', 'tense': 'TENSE_UNKNOWN', 'voice': 'VOICE_UNKNOWN'}, 'dependencyEdge': {'headTokenIndex': 108, 'label': 'DOBJ'}, 'lemma': 'you'}, {'text': {'content': 'so', 'beginOffset': -1}, 'partOfSpeech': {'tag': 'ADV', 'aspect': 'ASPECT_UNKNOWN', 'case': 'CASE_UNKNOWN', 'form': 'FORM_UNKNOWN', 'gender': 'GENDER_UNKNOWN', 'mood': 'MOOD_UNKNOWN', 'number': 'NUMBER_UNKNOWN', 'person': 'PERSON_UNKNOWN', 'proper': 'PROPER_UNKNOWN', 'reciprocity': 'RECIPROCITY_UNKNOWN', 'tense': 'TENSE_UNKNOWN', 'voice': 'VOICE_UNKNOWN'}, 'dependencyEdge': {'headTokenIndex': 111, 'label': 'ADVMOD'}, 'lemma': 'so'}, {'text': {'content': 'much', 'beginOffset': -1}, 'partOfSpeech': {'tag': 'ADV', 'aspect': 'ASPECT_UNKNOWN', 'case': 'CASE_UNKNOWN', 'form': 'FORM_UNKNOWN', 'gender': 'GENDER_UNKNOWN', 'mood': 'MOOD_UNKNOWN', 'number': 'NUMBER_UNKNOWN', 'person': 'PERSON_UNKNOWN', 'proper': 'PROPER_UNKNOWN', 'reciprocity': 'RECIPROCITY_UNKNOWN', 'tense': 'TENSE_UNKNOWN', 'voice': 'VOICE_UNKNOWN'}, 'dependencyEdge': {'headTokenIndex': 108, 'label': 'ADVMOD'}, 'lemma': 'much'}, {'text': {'content': ',', 'beginOffset': -1}, 'partOfSpeech': {'tag': 'PUNCT', 'aspect': 'ASPECT_UNKNOWN', 'case': 'CASE_UNKNOWN', 'form': 'FORM_UNKNOWN', 'gender': 'GENDER_UNKNOWN', 'mood': 'MOOD_UNKNOWN', 'number': 'NUMBER_UNKNOWN', 'person': 'PERSON_UNKNOWN', 'proper': 'PROPER_UNKNOWN', 'reciprocity': 'RECIPROCITY_UNKNOWN', 'tense': 'TENSE_UNKNOWN', 'voice': 'VOICE_UNKNOWN'}, 'dependencyEdge': {'headTokenIndex': 108, 'label': 'P'}, 'lemma': ','}, {'text': {'content': 'NAACP', 'beginOffset': -1}, 'partOfSpeech': {'tag': 'NOUN', 'aspect': 'ASPECT_UNKNOWN', 'case': 'CASE_UNKNOWN', 'form': 'FORM_UNKNOWN', 'gender': 'GENDER_UNKNOWN', 'mood': 'MOOD_UNKNOWN', 'number': 'SINGULAR', 'person': 'PERSON_UNKNOWN', 'proper': 'PROPER', 'reciprocity': 'RECIPROCITY_UNKNOWN', 'tense': 'TENSE_UNKNOWN', 'voice': 'VOICE_UNKNOWN'}, 'dependencyEdge': {'headTokenIndex': 108, 'label': 'DEP'}, 'lemma': 'NAACP'}, {'text': {'content': ',', 'beginOffset': -1}, 'partOfSpeech': {'tag': 'PUNCT', 'aspect': 'ASPECT_UNKNOWN', 'case': 'CASE_UNKNOWN', 'form': 'FORM_UNKNOWN', 'gender': 'GENDER_UNKNOWN', 'mood': 'MOOD_UNKNOWN', 'number': 'NUMBER_UNKNOWN', 'person': 'PERSON_UNKNOWN', 'proper': 'PROPER_UNKNOWN', 'reciprocity': 'RECIPROCITY_UNKNOWN', 'tense': 'TENSE_UNKNOWN', 'voice': 'VOICE_UNKNOWN'}, 'dependencyEdge': {'headTokenIndex': 108, 'label': 'P'}, 'lemma': ','}, {'text': {'content': 'God', 'beginOffset': -1}, 'partOfSpeech': {'tag': 'NOUN', 'aspect': 'ASPECT_UNKNOWN', 'case': 'CASE_UNKNOWN', 'form': 'FORM_UNKNOWN', 'gender': 'GENDER_UNKNOWN', 'mood': 'MOOD_UNKNOWN', 'number': 'SINGULAR', 'person': 'PERSON_UNKNOWN', 'proper': 'PROPER', 'reciprocity': 'RECIPROCITY_UNKNOWN', 'tense': 'TENSE_UNKNOWN', 'voice': 'VOICE_UNKNOWN'}, 'dependencyEdge': {'headTokenIndex': 116, 'label': 'NSUBJ'}, 'lemma': 'God'}, {'text': {'content': 'bless', 'beginOffset': -1}, 'partOfSpeech': {'tag': 'VERB', 'aspect': 'ASPECT_UNKNOWN', 'case': 'CASE_UNKNOWN', 'form': 'FORM_UNKNOWN', 'gender': 'GENDER_UNKNOWN', 'mood': 'MOOD_UNKNOWN', 'number': 'NUMBER_UNKNOWN', 'person': 'PERSON_UNKNOWN', 'proper': 'PROPER_UNKNOWN', 'reciprocity': 'RECIPROCITY_UNKNOWN', 'tense': 'TENSE_UNKNOWN', 'voice': 'VOICE_UNKNOWN'}, 'dependencyEdge': {'headTokenIndex': 108, 'label': 'PARATAXIS'}, 'lemma': 'bless'}, {'text': {'content': 'you', 'beginOffset': -1}, 'partOfSpeech': {'tag': 'PRON', 'aspect': 'ASPECT_UNKNOWN', 'case': 'ACCUSATIVE', 'form': 'FORM_UNKNOWN', 'gender': 'GENDER_UNKNOWN', 'mood': 'MOOD_UNKNOWN', 'number': 'NUMBER_UNKNOWN', 'person': 'SECOND', 'proper': 'PROPER_UNKNOWN', 'reciprocity': 'RECIPROCITY_UNKNOWN', 'tense': 'TENSE_UNKNOWN', 'voice': 'VOICE_UNKNOWN'}, 'dependencyEdge': {'headTokenIndex': 116, 'label': 'DOBJ'}, 'lemma': 'you'}, {'text': {'content': '.', 'beginOffset': -1}, 'partOfSpeech': {'tag': 'PUNCT', 'aspect': 'ASPECT_UNKNOWN', 'case': 'CASE_UNKNOWN', 'form': 'FORM_UNKNOWN', 'gender': 'GENDER_UNKNOWN', 'mood': 'MOOD_UNKNOWN', 'number': 'NUMBER_UNKNOWN', 'person': 'PERSON_UNKNOWN', 'proper': 'PROPER_UNKNOWN', 'reciprocity': 'RECIPROCITY_UNKNOWN', 'tense': 'TENSE_UNKNOWN', 'voice': 'VOICE_UNKNOWN'}, 'dependencyEdge': {'headTokenIndex': 108, 'label': 'P'}, 'lemma': '.'}, {'text': {'content': 'I', 'beginOffset': -1}, 'partOfSpeech': {'tag': 'PRON', 'aspect': 'ASPECT_UNKNOWN', 'case': 'NOMINATIVE', 'form': 'FORM_UNKNOWN', 'gender': 'GENDER_UNKNOWN', 'mood': 'MOOD_UNKNOWN', 'number': 'SINGULAR', 'person': 'FIRST', 'proper': 'PROPER_UNKNOWN', 'reciprocity': 'RECIPROCITY_UNKNOWN', 'tense': 'TENSE_UNKNOWN', 'voice': 'VOICE_UNKNOWN'}, 'dependencyEdge': {'headTokenIndex': 120, 'label': 'NSUBJ'}, 'lemma': 'I'}, {'text': {'content': 'hope', 'beginOffset': -1}, 'partOfSpeech': {'tag': 'VERB', 'aspect': 'ASPECT_UNKNOWN', 'case': 'CASE_UNKNOWN', 'form': 'FORM_UNKNOWN', 'gender': 'GENDER_UNKNOWN', 'mood': 'INDICATIVE', 'number': 'NUMBER_UNKNOWN', 'person': 'PERSON_UNKNOWN', 'proper': 'PROPER_UNKNOWN', 'reciprocity': 'RECIPROCITY_UNKNOWN', 'tense': 'PRESENT', 'voice': 'VOICE_UNKNOWN'}, 'dependencyEdge': {'headTokenIndex': 120, 'label': 'ROOT'}, 'lemma': 'hope'}, {'text': {'content': 'ya', 'beginOffset': -1}, 'partOfSpeech': {'tag': 'PRON', 'aspect': 'ASPECT_UNKNOWN', 'case': 'CASE_UNKNOWN', 'form': 'FORM_UNKNOWN', 'gender': 'GENDER_UNKNOWN', 'mood': 'MOOD_UNKNOWN', 'number': 'NUMBER_UNKNOWN', 'person': 'PERSON_UNKNOWN', 'proper': 'PROPER_UNKNOWN', 'reciprocity': 'RECIPROCITY_UNKNOWN', 'tense': 'TENSE_UNKNOWN', 'voice': 'VOICE_UNKNOWN'}, 'dependencyEdge': {'headTokenIndex': 123, 'label': 'NSUBJ'}, 'lemma': 'ya'}, {'text': {'content': '’ll', 'beginOffset': -1}, 'partOfSpeech': {'tag': 'VERB', 'aspect': 'ASPECT_UNKNOWN', 'case': 'CASE_UNKNOWN', 'form': 'FORM_UNKNOWN', 'gender': 'GENDER_UNKNOWN', 'mood': 'MOOD_UNKNOWN', 'number': 'NUMBER_UNKNOWN', 'person': 'PERSON_UNKNOWN', 'proper': 'PROPER_UNKNOWN', 'reciprocity': 'RECIPROCITY_UNKNOWN', 'tense': 'TENSE_UNKNOWN', 'voice': 'VOICE_UNKNOWN'}, 'dependencyEdge': {'headTokenIndex': 123, 'label': 'AUX'}, 'lemma': 'will'}, {'text': {'content': 'had', 'beginOffset': -1}, 'partOfSpeech': {'tag': 'VERB', 'aspect': 'ASPECT_UNKNOWN', 'case': 'CASE_UNKNOWN', 'form': 'FORM_UNKNOWN', 'gender': 'GENDER_UNKNOWN', 'mood': 'INDICATIVE', 'number': 'NUMBER_UNKNOWN', 'person': 'PERSON_UNKNOWN', 'proper': 'PROPER_UNKNOWN', 'reciprocity': 'RECIPROCITY_UNKNOWN', 'tense': 'PAST', 'voice': 'VOICE_UNKNOWN'}, 'dependencyEdge': {'headTokenIndex': 120, 'label': 'CCOMP'}, 'lemma': 'have'}, {'text': {'content': 'a', 'beginOffset': -1}, 'partOfSpeech': {'tag': 'DET', 'aspect': 'ASPECT_UNKNOWN', 'case': 'CASE_UNKNOWN', 'form': 'FORM_UNKNOWN', 'gender': 'GENDER_UNKNOWN', 'mood': 'MOOD_UNKNOWN', 'number': 'NUMBER_UNKNOWN', 'person': 'PERSON_UNKNOWN', 'proper': 'PROPER_UNKNOWN', 'reciprocity': 'RECIPROCITY_UNKNOWN', 'tense': 'TENSE_UNKNOWN', 'voice': 'VOICE_UNKNOWN'}, 'dependencyEdge': {'headTokenIndex': 126, 'label': 'DET'}, 'lemma': 'a'}, {'text': {'content': 'great', 'beginOffset': -1}, 'partOfSpeech': {'tag': 'ADJ', 'aspect': 'ASPECT_UNKNOWN', 'case': 'CASE_UNKNOWN', 'form': 'FORM_UNKNOWN', 'gender': 'GENDER_UNKNOWN', 'mood': 'MOOD_UNKNOWN', 'number': 'NUMBER_UNKNOWN', 'person': 'PERSON_UNKNOWN', 'proper': 'PROPER_UNKNOWN', 'reciprocity': 'RECIPROCITY_UNKNOWN', 'tense': 'TENSE_UNKNOWN', 'voice': 'VOICE_UNKNOWN'}, 'dependencyEdge': {'headTokenIndex': 126, 'label': 'AMOD'}, 'lemma': 'great'}, {'text': {'content': 'night', 'beginOffset': -1}, 'partOfSpeech': {'tag': 'NOUN', 'aspect': 'ASPECT_UNKNOWN', 'case': 'CASE_UNKNOWN', 'form': 'FORM_UNKNOWN', 'gender': 'GENDER_UNKNOWN', 'mood': 'MOOD_UNKNOWN', 'number': 'SINGULAR', 'person': 'PERSON_UNKNOWN', 'proper': 'PROPER_UNKNOWN', 'reciprocity': 'RECIPROCITY_UNKNOWN', 'tense': 'TENSE_UNKNOWN', 'voice': 'VOICE_UNKNOWN'}, 'dependencyEdge': {'headTokenIndex': 123, 'label': 'DOBJ'}, 'lemma': 'night'}, {'text': {'content': '.', 'beginOffset': -1}, 'partOfSpeech': {'tag': 'PUNCT', 'aspect': 'ASPECT_UNKNOWN', 'case': 'CASE_UNKNOWN', 'form': 'FORM_UNKNOWN', 'gender': 'GENDER_UNKNOWN', 'mood': 'MOOD_UNKNOWN', 'number': 'NUMBER_UNKNOWN', 'person': 'PERSON_UNKNOWN', 'proper': 'PROPER_UNKNOWN', 'reciprocity': 'RECIPROCITY_UNKNOWN', 'tense': 'TENSE_UNKNOWN', 'voice': 'VOICE_UNKNOWN'}, 'dependencyEdge': {'headTokenIndex': 120, 'label': 'P'}, 'lemma': '.'}, {'text': {'content': '\"', 'beginOffset': -1}, 'partOfSpeech': {'tag': 'PUNCT', 'aspect': 'ASPECT_UNKNOWN', 'case': 'CASE_UNKNOWN', 'form': 'FORM_UNKNOWN', 'gender': 'GENDER_UNKNOWN', 'mood': 'MOOD_UNKNOWN', 'number': 'NUMBER_UNKNOWN', 'person': 'PERSON_UNKNOWN', 'proper': 'PROPER_UNKNOWN', 'reciprocity': 'RECIPROCITY_UNKNOWN', 'tense': 'TENSE_UNKNOWN', 'voice': 'VOICE_UNKNOWN'}, 'dependencyEdge': {'headTokenIndex': 120, 'label': 'P'}, 'lemma': '\"'}], 'language': 'en'}\n"
          ],
          "name": "stdout"
        }
      ]
    },
    {
      "cell_type": "code",
      "metadata": {
        "id": "W6mkHniuMBJB",
        "colab_type": "code",
        "outputId": "c6b7d21a-c99d-498a-f3ab-39f6d1007c24",
        "colab": {
          "base_uri": "https://localhost:8080/",
          "height": 161
        },
        "cellView": "both"
      },
      "source": [
        "#@title\n",
        "#pt =pd.DataFrame(response['sentences'][0])\n",
        "for i in (response['sentences']):\n",
        "  print(i)"
      ],
      "execution_count": 0,
      "outputs": [
        {
          "output_type": "stream",
          "text": [
            "{'text': {'content': '\"Regina King, I love you so much.', 'beginOffset': -1}}\n",
            "{'text': {'content': 'You taught us patience, persistence, and how to be masterful in your craft.', 'beginOffset': -1}}\n",
            "{'text': {'content': 'Chadwick Boseman is teaching children to dream and to see themselves as kings.', 'beginOffset': -1}}\n",
            "{'text': {'content': 'LeBron James has taught us strength of all forms in leading by example and providing education for our kids.', 'beginOffset': -1}}\n",
            "{'text': {'content': 'Ryan Coogler tells our story in a way that celebrates our history and proved that we do have power at the box office, and I’m honored to be included among all of you and to a part of a vital, thriving, beautiful community.', 'beginOffset': -1}}\n",
            "{'text': {'content': 'Thank you so much, NAACP, God bless you.', 'beginOffset': -1}}\n",
            "{'text': {'content': 'I hope ya’ll had a great night.\"', 'beginOffset': -1}}\n"
          ],
          "name": "stdout"
        }
      ]
    },
    {
      "cell_type": "markdown",
      "metadata": {
        "id": "E1Rn9MO0N5z8",
        "colab_type": "text"
      },
      "source": [
        "># 4.  Dialogflow API\n",
        "\n",
        "![alt text](https://yt3.ggpht.com/a/AGF-l78sCrWnJHZlRs-DP1imkaINg2KkpT5Gomkahw=s900-mo-c-c0xffffffff-rj-k-no)"
      ]
    },
    {
      "cell_type": "code",
      "metadata": {
        "id": "8JSIM7j3MJgu",
        "colab_type": "code",
        "colab": {},
        "cellView": "both"
      },
      "source": [
        "#@title\n",
        "def detect_intent_texts(project_id, session_id, texts, language_code):\n",
        "    \"\"\"Returns the result of detect intent with texts as inputs.\n",
        "\n",
        "    Using the same `session_id` between requests allows continuation\n",
        "    of the conversation.\"\"\"\n",
        "\n",
        "    import dialogflow\n",
        "    session_client = dialogflow.SessionsClient()\n",
        "\n",
        "    session = session_client.session_path(project_id, session_id)\n",
        "    print('Session path: {}\\n'.format(session))\n",
        "\n",
        "    for text in texts:\n",
        "        text_input = dialogflow.types.TextInput(\n",
        "            text=text, language_code=language_code)\n",
        "\n",
        "        query_input = dialogflow.types.QueryInput(text=text_input)\n",
        "\n",
        "        response = session_client.detect_intent(\n",
        "            session=session, query_input=query_input)\n",
        "\n",
        "        print('=' * 20)\n",
        "        print('Query text: {}'.format(response.query_result.query_text))\n",
        "        print('Detected intent: {} (confidence: {})\\n'.format(\n",
        "            response.query_result.intent.display_name,\n",
        "            response.query_result.intent_detection_confidence))\n",
        "        print('Fulfillment text: {}\\n'.format(\n",
        "            response.query_result.fulfillment_text))"
      ],
      "execution_count": 0,
      "outputs": []
    },
    {
      "cell_type": "code",
      "metadata": {
        "id": "chOe-oV3PLlS",
        "colab_type": "code",
        "outputId": "e1cd3417-b300-4f92-f81f-891977fe3988",
        "colab": {
          "base_uri": "https://localhost:8080/",
          "height": 479
        },
        "cellView": "both"
      },
      "source": [
        "#@title\n",
        "detect_intent_texts('ghana-quiz','33','hello world', 'en')"
      ],
      "execution_count": 0,
      "outputs": [
        {
          "output_type": "stream",
          "text": [
            "Session path: projects/ghana-quiz/agent/sessions/33\n",
            "\n"
          ],
          "name": "stdout"
        },
        {
          "output_type": "error",
          "ename": "NotFound",
          "evalue": "ignored",
          "traceback": [
            "\u001b[0;31m---------------------------------------------------------------------------\u001b[0m",
            "\u001b[0;31m_Rendezvous\u001b[0m                               Traceback (most recent call last)",
            "\u001b[0;32m/usr/local/lib/python3.6/dist-packages/google/api_core/grpc_helpers.py\u001b[0m in \u001b[0;36merror_remapped_callable\u001b[0;34m(*args, **kwargs)\u001b[0m\n\u001b[1;32m     56\u001b[0m         \u001b[0;32mtry\u001b[0m\u001b[0;34m:\u001b[0m\u001b[0;34m\u001b[0m\u001b[0;34m\u001b[0m\u001b[0m\n\u001b[0;32m---> 57\u001b[0;31m             \u001b[0;32mreturn\u001b[0m \u001b[0mcallable_\u001b[0m\u001b[0;34m(\u001b[0m\u001b[0;34m*\u001b[0m\u001b[0margs\u001b[0m\u001b[0;34m,\u001b[0m \u001b[0;34m**\u001b[0m\u001b[0mkwargs\u001b[0m\u001b[0;34m)\u001b[0m\u001b[0;34m\u001b[0m\u001b[0;34m\u001b[0m\u001b[0m\n\u001b[0m\u001b[1;32m     58\u001b[0m         \u001b[0;32mexcept\u001b[0m \u001b[0mgrpc\u001b[0m\u001b[0;34m.\u001b[0m\u001b[0mRpcError\u001b[0m \u001b[0;32mas\u001b[0m \u001b[0mexc\u001b[0m\u001b[0;34m:\u001b[0m\u001b[0;34m\u001b[0m\u001b[0;34m\u001b[0m\u001b[0m\n",
            "\u001b[0;32m/usr/local/lib/python3.6/dist-packages/grpc/_channel.py\u001b[0m in \u001b[0;36m__call__\u001b[0;34m(self, request, timeout, metadata, credentials)\u001b[0m\n\u001b[1;32m    531\u001b[0m         \u001b[0mstate\u001b[0m\u001b[0;34m,\u001b[0m \u001b[0mcall\u001b[0m\u001b[0;34m,\u001b[0m \u001b[0;34m=\u001b[0m \u001b[0mself\u001b[0m\u001b[0;34m.\u001b[0m\u001b[0m_blocking\u001b[0m\u001b[0;34m(\u001b[0m\u001b[0mrequest\u001b[0m\u001b[0;34m,\u001b[0m \u001b[0mtimeout\u001b[0m\u001b[0;34m,\u001b[0m \u001b[0mmetadata\u001b[0m\u001b[0;34m,\u001b[0m \u001b[0mcredentials\u001b[0m\u001b[0;34m)\u001b[0m\u001b[0;34m\u001b[0m\u001b[0;34m\u001b[0m\u001b[0m\n\u001b[0;32m--> 532\u001b[0;31m         \u001b[0;32mreturn\u001b[0m \u001b[0m_end_unary_response_blocking\u001b[0m\u001b[0;34m(\u001b[0m\u001b[0mstate\u001b[0m\u001b[0;34m,\u001b[0m \u001b[0mcall\u001b[0m\u001b[0;34m,\u001b[0m \u001b[0;32mFalse\u001b[0m\u001b[0;34m,\u001b[0m \u001b[0;32mNone\u001b[0m\u001b[0;34m)\u001b[0m\u001b[0;34m\u001b[0m\u001b[0;34m\u001b[0m\u001b[0m\n\u001b[0m\u001b[1;32m    533\u001b[0m \u001b[0;34m\u001b[0m\u001b[0m\n",
            "\u001b[0;32m/usr/local/lib/python3.6/dist-packages/grpc/_channel.py\u001b[0m in \u001b[0;36m_end_unary_response_blocking\u001b[0;34m(state, call, with_call, deadline)\u001b[0m\n\u001b[1;32m    465\u001b[0m     \u001b[0;32melse\u001b[0m\u001b[0;34m:\u001b[0m\u001b[0;34m\u001b[0m\u001b[0;34m\u001b[0m\u001b[0m\n\u001b[0;32m--> 466\u001b[0;31m         \u001b[0;32mraise\u001b[0m \u001b[0m_Rendezvous\u001b[0m\u001b[0;34m(\u001b[0m\u001b[0mstate\u001b[0m\u001b[0;34m,\u001b[0m \u001b[0;32mNone\u001b[0m\u001b[0;34m,\u001b[0m \u001b[0;32mNone\u001b[0m\u001b[0;34m,\u001b[0m \u001b[0mdeadline\u001b[0m\u001b[0;34m)\u001b[0m\u001b[0;34m\u001b[0m\u001b[0;34m\u001b[0m\u001b[0m\n\u001b[0m\u001b[1;32m    467\u001b[0m \u001b[0;34m\u001b[0m\u001b[0m\n",
            "\u001b[0;31m_Rendezvous\u001b[0m: <_Rendezvous of RPC that terminated with:\n\tstatus = StatusCode.NOT_FOUND\n\tdetails = \"com.google.apps.framework.request.NotFoundException: No DesignTimeAgent found for project 'ghana-quiz'.\"\n\tdebug_error_string = \"{\"created\":\"@1561581598.378859903\",\"description\":\"Error received from peer\",\"file\":\"src/core/lib/surface/call.cc\",\"file_line\":1099,\"grpc_message\":\"com.google.apps.framework.request.NotFoundException: No DesignTimeAgent found for project 'ghana-quiz'.\",\"grpc_status\":5}\"\n>",
            "\nThe above exception was the direct cause of the following exception:\n",
            "\u001b[0;31mNotFound\u001b[0m                                  Traceback (most recent call last)",
            "\u001b[0;32m<ipython-input-409-567b8bf96bd8>\u001b[0m in \u001b[0;36m<module>\u001b[0;34m()\u001b[0m\n\u001b[0;32m----> 1\u001b[0;31m \u001b[0mdetect_intent_texts\u001b[0m\u001b[0;34m(\u001b[0m\u001b[0;34m'ghana-quiz'\u001b[0m\u001b[0;34m,\u001b[0m\u001b[0;34m'33'\u001b[0m\u001b[0;34m,\u001b[0m\u001b[0;34m'hello world'\u001b[0m\u001b[0;34m,\u001b[0m \u001b[0;34m'en'\u001b[0m\u001b[0;34m)\u001b[0m\u001b[0;34m\u001b[0m\u001b[0;34m\u001b[0m\u001b[0m\n\u001b[0m",
            "\u001b[0;32m<ipython-input-408-c192d434ed3c>\u001b[0m in \u001b[0;36mdetect_intent_texts\u001b[0;34m(project_id, session_id, texts, language_code)\u001b[0m\n\u001b[1;32m     18\u001b[0m \u001b[0;34m\u001b[0m\u001b[0m\n\u001b[1;32m     19\u001b[0m         response = session_client.detect_intent(\n\u001b[0;32m---> 20\u001b[0;31m             session=session, query_input=query_input)\n\u001b[0m\u001b[1;32m     21\u001b[0m \u001b[0;34m\u001b[0m\u001b[0m\n\u001b[1;32m     22\u001b[0m         \u001b[0mprint\u001b[0m\u001b[0;34m(\u001b[0m\u001b[0;34m'='\u001b[0m \u001b[0;34m*\u001b[0m \u001b[0;36m20\u001b[0m\u001b[0;34m)\u001b[0m\u001b[0;34m\u001b[0m\u001b[0;34m\u001b[0m\u001b[0m\n",
            "\u001b[0;32m/usr/local/lib/python3.6/dist-packages/dialogflow_v2/gapic/sessions_client.py\u001b[0m in \u001b[0;36mdetect_intent\u001b[0;34m(self, session, query_input, query_params, output_audio_config, input_audio, retry, timeout, metadata)\u001b[0m\n\u001b[1;32m    301\u001b[0m                                                       \u001b[0mretry\u001b[0m\u001b[0;34m=\u001b[0m\u001b[0mretry\u001b[0m\u001b[0;34m,\u001b[0m\u001b[0;34m\u001b[0m\u001b[0;34m\u001b[0m\u001b[0m\n\u001b[1;32m    302\u001b[0m                                                       \u001b[0mtimeout\u001b[0m\u001b[0;34m=\u001b[0m\u001b[0mtimeout\u001b[0m\u001b[0;34m,\u001b[0m\u001b[0;34m\u001b[0m\u001b[0;34m\u001b[0m\u001b[0m\n\u001b[0;32m--> 303\u001b[0;31m                                                       metadata=metadata)\n\u001b[0m\u001b[1;32m    304\u001b[0m \u001b[0;34m\u001b[0m\u001b[0m\n\u001b[1;32m    305\u001b[0m     def streaming_detect_intent(\n",
            "\u001b[0;32m/usr/local/lib/python3.6/dist-packages/google/api_core/gapic_v1/method.py\u001b[0m in \u001b[0;36m__call__\u001b[0;34m(self, *args, **kwargs)\u001b[0m\n\u001b[1;32m    141\u001b[0m             \u001b[0mkwargs\u001b[0m\u001b[0;34m[\u001b[0m\u001b[0;34m\"metadata\"\u001b[0m\u001b[0;34m]\u001b[0m \u001b[0;34m=\u001b[0m \u001b[0mmetadata\u001b[0m\u001b[0;34m\u001b[0m\u001b[0;34m\u001b[0m\u001b[0m\n\u001b[1;32m    142\u001b[0m \u001b[0;34m\u001b[0m\u001b[0m\n\u001b[0;32m--> 143\u001b[0;31m         \u001b[0;32mreturn\u001b[0m \u001b[0mwrapped_func\u001b[0m\u001b[0;34m(\u001b[0m\u001b[0;34m*\u001b[0m\u001b[0margs\u001b[0m\u001b[0;34m,\u001b[0m \u001b[0;34m**\u001b[0m\u001b[0mkwargs\u001b[0m\u001b[0;34m)\u001b[0m\u001b[0;34m\u001b[0m\u001b[0;34m\u001b[0m\u001b[0m\n\u001b[0m\u001b[1;32m    144\u001b[0m \u001b[0;34m\u001b[0m\u001b[0m\n\u001b[1;32m    145\u001b[0m \u001b[0;34m\u001b[0m\u001b[0m\n",
            "\u001b[0;32m/usr/local/lib/python3.6/dist-packages/google/api_core/retry.py\u001b[0m in \u001b[0;36mretry_wrapped_func\u001b[0;34m(*args, **kwargs)\u001b[0m\n\u001b[1;32m    271\u001b[0m                 \u001b[0msleep_generator\u001b[0m\u001b[0;34m,\u001b[0m\u001b[0;34m\u001b[0m\u001b[0;34m\u001b[0m\u001b[0m\n\u001b[1;32m    272\u001b[0m                 \u001b[0mself\u001b[0m\u001b[0;34m.\u001b[0m\u001b[0m_deadline\u001b[0m\u001b[0;34m,\u001b[0m\u001b[0;34m\u001b[0m\u001b[0;34m\u001b[0m\u001b[0m\n\u001b[0;32m--> 273\u001b[0;31m                 \u001b[0mon_error\u001b[0m\u001b[0;34m=\u001b[0m\u001b[0mon_error\u001b[0m\u001b[0;34m,\u001b[0m\u001b[0;34m\u001b[0m\u001b[0;34m\u001b[0m\u001b[0m\n\u001b[0m\u001b[1;32m    274\u001b[0m             )\n\u001b[1;32m    275\u001b[0m \u001b[0;34m\u001b[0m\u001b[0m\n",
            "\u001b[0;32m/usr/local/lib/python3.6/dist-packages/google/api_core/retry.py\u001b[0m in \u001b[0;36mretry_target\u001b[0;34m(target, predicate, sleep_generator, deadline, on_error)\u001b[0m\n\u001b[1;32m    180\u001b[0m     \u001b[0;32mfor\u001b[0m \u001b[0msleep\u001b[0m \u001b[0;32min\u001b[0m \u001b[0msleep_generator\u001b[0m\u001b[0;34m:\u001b[0m\u001b[0;34m\u001b[0m\u001b[0;34m\u001b[0m\u001b[0m\n\u001b[1;32m    181\u001b[0m         \u001b[0;32mtry\u001b[0m\u001b[0;34m:\u001b[0m\u001b[0;34m\u001b[0m\u001b[0;34m\u001b[0m\u001b[0m\n\u001b[0;32m--> 182\u001b[0;31m             \u001b[0;32mreturn\u001b[0m \u001b[0mtarget\u001b[0m\u001b[0;34m(\u001b[0m\u001b[0;34m)\u001b[0m\u001b[0;34m\u001b[0m\u001b[0;34m\u001b[0m\u001b[0m\n\u001b[0m\u001b[1;32m    183\u001b[0m \u001b[0;34m\u001b[0m\u001b[0m\n\u001b[1;32m    184\u001b[0m         \u001b[0;31m# pylint: disable=broad-except\u001b[0m\u001b[0;34m\u001b[0m\u001b[0;34m\u001b[0m\u001b[0;34m\u001b[0m\u001b[0m\n",
            "\u001b[0;32m/usr/local/lib/python3.6/dist-packages/google/api_core/timeout.py\u001b[0m in \u001b[0;36mfunc_with_timeout\u001b[0;34m(*args, **kwargs)\u001b[0m\n\u001b[1;32m    212\u001b[0m             \u001b[0;34m\"\"\"Wrapped function that adds timeout.\"\"\"\u001b[0m\u001b[0;34m\u001b[0m\u001b[0;34m\u001b[0m\u001b[0m\n\u001b[1;32m    213\u001b[0m             \u001b[0mkwargs\u001b[0m\u001b[0;34m[\u001b[0m\u001b[0;34m\"timeout\"\u001b[0m\u001b[0;34m]\u001b[0m \u001b[0;34m=\u001b[0m \u001b[0mnext\u001b[0m\u001b[0;34m(\u001b[0m\u001b[0mtimeouts\u001b[0m\u001b[0;34m)\u001b[0m\u001b[0;34m\u001b[0m\u001b[0;34m\u001b[0m\u001b[0m\n\u001b[0;32m--> 214\u001b[0;31m             \u001b[0;32mreturn\u001b[0m \u001b[0mfunc\u001b[0m\u001b[0;34m(\u001b[0m\u001b[0;34m*\u001b[0m\u001b[0margs\u001b[0m\u001b[0;34m,\u001b[0m \u001b[0;34m**\u001b[0m\u001b[0mkwargs\u001b[0m\u001b[0;34m)\u001b[0m\u001b[0;34m\u001b[0m\u001b[0;34m\u001b[0m\u001b[0m\n\u001b[0m\u001b[1;32m    215\u001b[0m \u001b[0;34m\u001b[0m\u001b[0m\n\u001b[1;32m    216\u001b[0m         \u001b[0;32mreturn\u001b[0m \u001b[0mfunc_with_timeout\u001b[0m\u001b[0;34m\u001b[0m\u001b[0;34m\u001b[0m\u001b[0m\n",
            "\u001b[0;32m/usr/local/lib/python3.6/dist-packages/google/api_core/grpc_helpers.py\u001b[0m in \u001b[0;36merror_remapped_callable\u001b[0;34m(*args, **kwargs)\u001b[0m\n\u001b[1;32m     57\u001b[0m             \u001b[0;32mreturn\u001b[0m \u001b[0mcallable_\u001b[0m\u001b[0;34m(\u001b[0m\u001b[0;34m*\u001b[0m\u001b[0margs\u001b[0m\u001b[0;34m,\u001b[0m \u001b[0;34m**\u001b[0m\u001b[0mkwargs\u001b[0m\u001b[0;34m)\u001b[0m\u001b[0;34m\u001b[0m\u001b[0;34m\u001b[0m\u001b[0m\n\u001b[1;32m     58\u001b[0m         \u001b[0;32mexcept\u001b[0m \u001b[0mgrpc\u001b[0m\u001b[0;34m.\u001b[0m\u001b[0mRpcError\u001b[0m \u001b[0;32mas\u001b[0m \u001b[0mexc\u001b[0m\u001b[0;34m:\u001b[0m\u001b[0;34m\u001b[0m\u001b[0;34m\u001b[0m\u001b[0m\n\u001b[0;32m---> 59\u001b[0;31m             \u001b[0msix\u001b[0m\u001b[0;34m.\u001b[0m\u001b[0mraise_from\u001b[0m\u001b[0;34m(\u001b[0m\u001b[0mexceptions\u001b[0m\u001b[0;34m.\u001b[0m\u001b[0mfrom_grpc_error\u001b[0m\u001b[0;34m(\u001b[0m\u001b[0mexc\u001b[0m\u001b[0;34m)\u001b[0m\u001b[0;34m,\u001b[0m \u001b[0mexc\u001b[0m\u001b[0;34m)\u001b[0m\u001b[0;34m\u001b[0m\u001b[0;34m\u001b[0m\u001b[0m\n\u001b[0m\u001b[1;32m     60\u001b[0m \u001b[0;34m\u001b[0m\u001b[0m\n\u001b[1;32m     61\u001b[0m     \u001b[0;32mreturn\u001b[0m \u001b[0merror_remapped_callable\u001b[0m\u001b[0;34m\u001b[0m\u001b[0;34m\u001b[0m\u001b[0m\n",
            "\u001b[0;32m/usr/local/lib/python3.6/dist-packages/six.py\u001b[0m in \u001b[0;36mraise_from\u001b[0;34m(value, from_value)\u001b[0m\n",
            "\u001b[0;31mNotFound\u001b[0m: 404 com.google.apps.framework.request.NotFoundException: No DesignTimeAgent found for project 'ghana-quiz'."
          ]
        }
      ]
    },
    {
      "cell_type": "code",
      "metadata": {
        "id": "FCGHl5HsQ9FJ",
        "colab_type": "code",
        "colab": {},
        "cellView": "both"
      },
      "source": [
        "#@title\n",
        "!export GOOGLE_APPLICATION_CREDENTIALS=\n",
        "  "
      ],
      "execution_count": 0,
      "outputs": []
    },
    {
      "cell_type": "code",
      "metadata": {
        "id": "gs8U9ezrUdS5",
        "colab_type": "code",
        "colab": {},
        "cellView": "both"
      },
      "source": [
        "#@title\n",
        "import os\n",
        "os.environ[\"GOOGLE_APPLICATION_CREDENTIALS\"]='https://storage.cloud.google.com/achampiong_image/gh2.json'"
      ],
      "execution_count": 0,
      "outputs": []
    },
    {
      "cell_type": "code",
      "metadata": {
        "id": "UtnNV2W1cP4z",
        "colab_type": "code",
        "outputId": "06085b91-1ef3-424a-9fbc-968b74b0dfc0",
        "colab": {
          "base_uri": "https://localhost:8080/",
          "height": 334
        },
        "cellView": "both"
      },
      "source": [
        "#@title\n",
        "implicit()"
      ],
      "execution_count": 0,
      "outputs": [
        {
          "output_type": "error",
          "ename": "DefaultCredentialsError",
          "evalue": "ignored",
          "traceback": [
            "\u001b[0;31m---------------------------------------------------------------------------\u001b[0m",
            "\u001b[0;31mDefaultCredentialsError\u001b[0m                   Traceback (most recent call last)",
            "\u001b[0;32m<ipython-input-398-31fbdeff8103>\u001b[0m in \u001b[0;36m<module>\u001b[0;34m()\u001b[0m\n\u001b[0;32m----> 1\u001b[0;31m \u001b[0mimplicit\u001b[0m\u001b[0;34m(\u001b[0m\u001b[0;34m)\u001b[0m\u001b[0;34m\u001b[0m\u001b[0;34m\u001b[0m\u001b[0m\n\u001b[0m",
            "\u001b[0;32m<ipython-input-397-ec4a97262892>\u001b[0m in \u001b[0;36mimplicit\u001b[0;34m()\u001b[0m\n\u001b[1;32m      4\u001b[0m     \u001b[0;31m# If you don't specify credentials when constructing the client, the\u001b[0m\u001b[0;34m\u001b[0m\u001b[0;34m\u001b[0m\u001b[0;34m\u001b[0m\u001b[0m\n\u001b[1;32m      5\u001b[0m     \u001b[0;31m# client library will look for credentials in the environment.\u001b[0m\u001b[0;34m\u001b[0m\u001b[0;34m\u001b[0m\u001b[0;34m\u001b[0m\u001b[0m\n\u001b[0;32m----> 6\u001b[0;31m     \u001b[0mstorage_client\u001b[0m \u001b[0;34m=\u001b[0m \u001b[0mstorage\u001b[0m\u001b[0;34m.\u001b[0m\u001b[0mClient\u001b[0m\u001b[0;34m(\u001b[0m\u001b[0;34m)\u001b[0m\u001b[0;34m\u001b[0m\u001b[0;34m\u001b[0m\u001b[0m\n\u001b[0m\u001b[1;32m      7\u001b[0m \u001b[0;34m\u001b[0m\u001b[0m\n\u001b[1;32m      8\u001b[0m     \u001b[0;31m# Make an authenticated API request\u001b[0m\u001b[0;34m\u001b[0m\u001b[0;34m\u001b[0m\u001b[0;34m\u001b[0m\u001b[0m\n",
            "\u001b[0;32m/usr/local/lib/python3.6/dist-packages/google/cloud/storage/client.py\u001b[0m in \u001b[0;36m__init__\u001b[0;34m(self, project, credentials, _http, client_info)\u001b[0m\n\u001b[1;32m     80\u001b[0m             \u001b[0mproject\u001b[0m \u001b[0;34m=\u001b[0m \u001b[0;32mNone\u001b[0m\u001b[0;34m\u001b[0m\u001b[0;34m\u001b[0m\u001b[0m\n\u001b[1;32m     81\u001b[0m         super(Client, self).__init__(\n\u001b[0;32m---> 82\u001b[0;31m             \u001b[0mproject\u001b[0m\u001b[0;34m=\u001b[0m\u001b[0mproject\u001b[0m\u001b[0;34m,\u001b[0m \u001b[0mcredentials\u001b[0m\u001b[0;34m=\u001b[0m\u001b[0mcredentials\u001b[0m\u001b[0;34m,\u001b[0m \u001b[0m_http\u001b[0m\u001b[0;34m=\u001b[0m\u001b[0m_http\u001b[0m\u001b[0;34m\u001b[0m\u001b[0;34m\u001b[0m\u001b[0m\n\u001b[0m\u001b[1;32m     83\u001b[0m         )\n\u001b[1;32m     84\u001b[0m         \u001b[0;32mif\u001b[0m \u001b[0mno_project\u001b[0m\u001b[0;34m:\u001b[0m\u001b[0;34m\u001b[0m\u001b[0;34m\u001b[0m\u001b[0m\n",
            "\u001b[0;32m/usr/local/lib/python3.6/dist-packages/google/cloud/client.py\u001b[0m in \u001b[0;36m__init__\u001b[0;34m(self, project, credentials, _http)\u001b[0m\n\u001b[1;32m    225\u001b[0m \u001b[0;34m\u001b[0m\u001b[0m\n\u001b[1;32m    226\u001b[0m     \u001b[0;32mdef\u001b[0m \u001b[0m__init__\u001b[0m\u001b[0;34m(\u001b[0m\u001b[0mself\u001b[0m\u001b[0;34m,\u001b[0m \u001b[0mproject\u001b[0m\u001b[0;34m=\u001b[0m\u001b[0;32mNone\u001b[0m\u001b[0;34m,\u001b[0m \u001b[0mcredentials\u001b[0m\u001b[0;34m=\u001b[0m\u001b[0;32mNone\u001b[0m\u001b[0;34m,\u001b[0m \u001b[0m_http\u001b[0m\u001b[0;34m=\u001b[0m\u001b[0;32mNone\u001b[0m\u001b[0;34m)\u001b[0m\u001b[0;34m:\u001b[0m\u001b[0;34m\u001b[0m\u001b[0;34m\u001b[0m\u001b[0m\n\u001b[0;32m--> 227\u001b[0;31m         \u001b[0m_ClientProjectMixin\u001b[0m\u001b[0;34m.\u001b[0m\u001b[0m__init__\u001b[0m\u001b[0;34m(\u001b[0m\u001b[0mself\u001b[0m\u001b[0;34m,\u001b[0m \u001b[0mproject\u001b[0m\u001b[0;34m=\u001b[0m\u001b[0mproject\u001b[0m\u001b[0;34m)\u001b[0m\u001b[0;34m\u001b[0m\u001b[0;34m\u001b[0m\u001b[0m\n\u001b[0m\u001b[1;32m    228\u001b[0m         \u001b[0mClient\u001b[0m\u001b[0;34m.\u001b[0m\u001b[0m__init__\u001b[0m\u001b[0;34m(\u001b[0m\u001b[0mself\u001b[0m\u001b[0;34m,\u001b[0m \u001b[0mcredentials\u001b[0m\u001b[0;34m=\u001b[0m\u001b[0mcredentials\u001b[0m\u001b[0;34m,\u001b[0m \u001b[0m_http\u001b[0m\u001b[0;34m=\u001b[0m\u001b[0m_http\u001b[0m\u001b[0;34m)\u001b[0m\u001b[0;34m\u001b[0m\u001b[0;34m\u001b[0m\u001b[0m\n",
            "\u001b[0;32m/usr/local/lib/python3.6/dist-packages/google/cloud/client.py\u001b[0m in \u001b[0;36m__init__\u001b[0;34m(self, project)\u001b[0m\n\u001b[1;32m    177\u001b[0m \u001b[0;34m\u001b[0m\u001b[0m\n\u001b[1;32m    178\u001b[0m     \u001b[0;32mdef\u001b[0m \u001b[0m__init__\u001b[0m\u001b[0;34m(\u001b[0m\u001b[0mself\u001b[0m\u001b[0;34m,\u001b[0m \u001b[0mproject\u001b[0m\u001b[0;34m=\u001b[0m\u001b[0;32mNone\u001b[0m\u001b[0;34m)\u001b[0m\u001b[0;34m:\u001b[0m\u001b[0;34m\u001b[0m\u001b[0;34m\u001b[0m\u001b[0m\n\u001b[0;32m--> 179\u001b[0;31m         \u001b[0mproject\u001b[0m \u001b[0;34m=\u001b[0m \u001b[0mself\u001b[0m\u001b[0;34m.\u001b[0m\u001b[0m_determine_default\u001b[0m\u001b[0;34m(\u001b[0m\u001b[0mproject\u001b[0m\u001b[0;34m)\u001b[0m\u001b[0;34m\u001b[0m\u001b[0;34m\u001b[0m\u001b[0m\n\u001b[0m\u001b[1;32m    180\u001b[0m         \u001b[0;32mif\u001b[0m \u001b[0mproject\u001b[0m \u001b[0;32mis\u001b[0m \u001b[0;32mNone\u001b[0m\u001b[0;34m:\u001b[0m\u001b[0;34m\u001b[0m\u001b[0;34m\u001b[0m\u001b[0m\n\u001b[1;32m    181\u001b[0m             raise EnvironmentError(\n",
            "\u001b[0;32m/usr/local/lib/python3.6/dist-packages/google/cloud/client.py\u001b[0m in \u001b[0;36m_determine_default\u001b[0;34m(project)\u001b[0m\n\u001b[1;32m    192\u001b[0m     \u001b[0;32mdef\u001b[0m \u001b[0m_determine_default\u001b[0m\u001b[0;34m(\u001b[0m\u001b[0mproject\u001b[0m\u001b[0;34m)\u001b[0m\u001b[0;34m:\u001b[0m\u001b[0;34m\u001b[0m\u001b[0;34m\u001b[0m\u001b[0m\n\u001b[1;32m    193\u001b[0m         \u001b[0;34m\"\"\"Helper:  use default project detection.\"\"\"\u001b[0m\u001b[0;34m\u001b[0m\u001b[0;34m\u001b[0m\u001b[0m\n\u001b[0;32m--> 194\u001b[0;31m         \u001b[0;32mreturn\u001b[0m \u001b[0m_determine_default_project\u001b[0m\u001b[0;34m(\u001b[0m\u001b[0mproject\u001b[0m\u001b[0;34m)\u001b[0m\u001b[0;34m\u001b[0m\u001b[0;34m\u001b[0m\u001b[0m\n\u001b[0m\u001b[1;32m    195\u001b[0m \u001b[0;34m\u001b[0m\u001b[0m\n\u001b[1;32m    196\u001b[0m \u001b[0;34m\u001b[0m\u001b[0m\n",
            "\u001b[0;32m/usr/local/lib/python3.6/dist-packages/google/cloud/_helpers.py\u001b[0m in \u001b[0;36m_determine_default_project\u001b[0;34m(project)\u001b[0m\n\u001b[1;32m    184\u001b[0m     \"\"\"\n\u001b[1;32m    185\u001b[0m     \u001b[0;32mif\u001b[0m \u001b[0mproject\u001b[0m \u001b[0;32mis\u001b[0m \u001b[0;32mNone\u001b[0m\u001b[0;34m:\u001b[0m\u001b[0;34m\u001b[0m\u001b[0;34m\u001b[0m\u001b[0m\n\u001b[0;32m--> 186\u001b[0;31m         \u001b[0m_\u001b[0m\u001b[0;34m,\u001b[0m \u001b[0mproject\u001b[0m \u001b[0;34m=\u001b[0m \u001b[0mgoogle\u001b[0m\u001b[0;34m.\u001b[0m\u001b[0mauth\u001b[0m\u001b[0;34m.\u001b[0m\u001b[0mdefault\u001b[0m\u001b[0;34m(\u001b[0m\u001b[0;34m)\u001b[0m\u001b[0;34m\u001b[0m\u001b[0;34m\u001b[0m\u001b[0m\n\u001b[0m\u001b[1;32m    187\u001b[0m     \u001b[0;32mreturn\u001b[0m \u001b[0mproject\u001b[0m\u001b[0;34m\u001b[0m\u001b[0;34m\u001b[0m\u001b[0m\n\u001b[1;32m    188\u001b[0m \u001b[0;34m\u001b[0m\u001b[0m\n",
            "\u001b[0;32m/usr/local/lib/python3.6/dist-packages/google/auth/_default.py\u001b[0m in \u001b[0;36mdefault\u001b[0;34m(scopes, request)\u001b[0m\n\u001b[1;32m    281\u001b[0m             \u001b[0;32mreturn\u001b[0m \u001b[0mcredentials\u001b[0m\u001b[0;34m,\u001b[0m \u001b[0meffective_project_id\u001b[0m\u001b[0;34m\u001b[0m\u001b[0;34m\u001b[0m\u001b[0m\n\u001b[1;32m    282\u001b[0m \u001b[0;34m\u001b[0m\u001b[0m\n\u001b[0;32m--> 283\u001b[0;31m     \u001b[0;32mraise\u001b[0m \u001b[0mexceptions\u001b[0m\u001b[0;34m.\u001b[0m\u001b[0mDefaultCredentialsError\u001b[0m\u001b[0;34m(\u001b[0m\u001b[0m_HELP_MESSAGE\u001b[0m\u001b[0;34m)\u001b[0m\u001b[0;34m\u001b[0m\u001b[0;34m\u001b[0m\u001b[0m\n\u001b[0m",
            "\u001b[0;31mDefaultCredentialsError\u001b[0m: Could not automatically determine credentials. Please set GOOGLE_APPLICATION_CREDENTIALS or\nexplicitly create credential and re-run the application. For more\ninformation, please see\nhttps://developers.google.com/accounts/docs/application-default-credentials."
          ]
        }
      ]
    },
    {
      "cell_type": "code",
      "metadata": {
        "id": "dlHIJMD1dwXK",
        "colab_type": "code",
        "outputId": "daadc669-ec38-42b8-dfe6-c8b3dc5d5788",
        "colab": {
          "base_uri": "https://localhost:8080/",
          "height": 106
        },
        "cellView": "both"
      },
      "source": [
        "#@title\n",
        "from google.colab import drive\n",
        "drive.mount('/content/gdrive')\n",
        "\n",
        "#ensure the file is accessible\n",
        "!ls /content/gdrive/'My Drive'/'Colab Notebooks'/\n",
        "\n",
        "import os\n",
        "os.environ[\"GOOGLE_APPLICATION_CREDENTIALS\"]=\"/content/gdrive/My Drive/Colab Notebooks/GhanaTrivia-1a905a9718a5.json\"\n",
        "\n",
        "#ensure the path is set correctly\n",
        "!echo $GOOGLE_APPLICATION_CREDENTIALS"
      ],
      "execution_count": 0,
      "outputs": [
        {
          "output_type": "stream",
          "text": [
            "Drive already mounted at /content/gdrive; to attempt to forcibly remount, call drive.mount(\"/content/gdrive\", force_remount=True).\n",
            "'Copy of GCP_mlapis.ipynb'\t       img\n",
            " GhanaTrivia-1a905a9718a5.json\t       Untitled0.ipynb\n",
            "'Google Machine Learning APIs.ipynb'\n",
            "https://storage.cloud.google.com/achampiong_image/Ghana%20Trivia-4e11e20a9a1b.json\n"
          ],
          "name": "stdout"
        }
      ]
    },
    {
      "cell_type": "code",
      "metadata": {
        "id": "ihvuedt1ejil",
        "colab_type": "code",
        "outputId": "27e1efa8-3ffa-46af-de79-16bb9f6440c0",
        "colab": {
          "resources": {
            "http://localhost:8080/nbextensions/google.colab/files.js": {
              "data": "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",
              "ok": true,
              "headers": [
                [
                  "content-type",
                  "application/javascript"
                ]
              ],
              "status": 200,
              "status_text": ""
            }
          },
          "base_uri": "https://localhost:8080/",
          "height": 58
        },
        "cellView": "both"
      },
      "source": [
        "#@title\n",
        "from google.colab import files\n",
        "files.upload()"
      ],
      "execution_count": 0,
      "outputs": [
        {
          "output_type": "display_data",
          "data": {
            "text/html": [
              "\n",
              "     <input type=\"file\" id=\"files-55549b3e-18fa-48cd-93ae-2e45fe5d0e38\" name=\"files[]\" multiple disabled />\n",
              "     <output id=\"result-55549b3e-18fa-48cd-93ae-2e45fe5d0e38\">\n",
              "      Upload widget is only available when the cell has been executed in the\n",
              "      current browser session. Please rerun this cell to enable.\n",
              "      </output>\n",
              "      <script src=\"/nbextensions/google.colab/files.js\"></script> "
            ],
            "text/plain": [
              "<IPython.core.display.HTML object>"
            ]
          },
          "metadata": {
            "tags": []
          }
        },
        {
          "output_type": "execute_result",
          "data": {
            "text/plain": [
              "{}"
            ]
          },
          "metadata": {
            "tags": []
          },
          "execution_count": 420
        }
      ]
    },
    {
      "cell_type": "markdown",
      "metadata": {
        "id": "WZ-FHNPOjGEk",
        "colab_type": "text"
      },
      "source": [
        "># 5.  Cloud Talent Solutions API.\n",
        "\n",
        "![alt text](https://cloud.google.com/images/solutions/talent-solution/quicker-profiling.png)\n",
        "\n",
        "> Indented block\n",
        "\n"
      ]
    },
    {
      "cell_type": "code",
      "metadata": {
        "id": "bZgfoY_OgULS",
        "colab_type": "code",
        "colab": {},
        "cellView": "both"
      },
      "source": [
        "#@title\n",
        "client_service = build('jobs', 'v2')\n",
        "from googleapiclient.errors import Error\n",
        "\n",
        "#words = '\"Regina King, I love you so much. You taught us patience, persistence, and how to be masterful in your craft. Chadwick Boseman is teaching children to dream and to see themselves as kings. LeBron James has taught us strength of all forms in leading by example and providing education for our kids. Ryan Coogler tells our story in a way that celebrates our history and proved that we do have power at the box office, and I’m honored to be included among all of you and to a part of a vital, thriving, beautiful community. Thank you so much, NAACP, God bless you. I hope ya’ll had a great night.\"'\n",
        "\n",
        "#response = lservice.documents().analyzeSyntax(\n",
        "#    body={\n",
        "#      'document': {\n",
        "#         'type': 'PLAIN_TEXT',\n",
        "#         'content': words\n",
        "#      }\n",
        "#    }).execute()\n",
        "  \n",
        "#print(response)\n",
        "\n",
        "list_companies_response = client_service.companies().list().execute()\n",
        "      "
      ],
      "execution_count": 0,
      "outputs": []
    },
    {
      "cell_type": "code",
      "metadata": {
        "id": "8NK1hfCIkhSw",
        "colab_type": "code",
        "outputId": "f3379a1e-6b30-4c87-baaf-184c93be643b",
        "colab": {
          "base_uri": "https://localhost:8080/",
          "height": 35
        },
        "cellView": "both"
      },
      "source": [
        "#@title\n",
        "list_companies_response"
      ],
      "execution_count": 0,
      "outputs": [
        {
          "output_type": "execute_result",
          "data": {
            "text/plain": [
              "{'metadata': {'requestId': 'caaaed78-8bec-421d-9cf0-598a90a64b01:APAb7ITq1dn6E7EUmmzsWisDHpdV85pDNw=='}}"
            ]
          },
          "metadata": {
            "tags": []
          },
          "execution_count": 433
        }
      ]
    },
    {
      "cell_type": "code",
      "metadata": {
        "id": "-dBk8mSvmzEs",
        "colab_type": "code",
        "outputId": "7e057480-32bc-410e-8841-97464f630bf0",
        "colab": {
          "base_uri": "https://localhost:8080/",
          "height": 470
        },
        "cellView": "both"
      },
      "source": [
        "#@title\n",
        "def run_sample():\n",
        "    import base_company_sample\n",
        "    import base_job_sample\n",
        "\n",
        "    company_to_be_created = base_company_sample.generate_company()\n",
        "    company_created = base_company_sample.create_company(\n",
        "        client_service, company_to_be_created)\n",
        "    company_name = company_created.get('name')\n",
        "\n",
        "    job_to_be_created = base_job_sample.generate_job_with_required_fields(\n",
        "        company_name)\n",
        "    job_to_be_created.update({'title': 'Software engineer'})\n",
        "    job_name = base_job_sample.create_job(client_service,\n",
        "                                          job_to_be_created).get('name')\n",
        "\n",
        "    # Wait several seconds for post processing\n",
        "    time.sleep(10)\n",
        "    auto_complete_default(client_service, 'goo', company_name)\n",
        "    auto_complete_default(client_service, 'sof', company_name)\n",
        "    job_title_auto_complete(client_service, 'sof', company_name)\n",
        "\n",
        "    base_job_sample.delete_job(client_service, job_name)\n",
        "    base_company_sample.delete_company(client_service, company_name)\n",
        "\n",
        "\n",
        "if __name__ == '__main__':\n",
        "    run_sample()"
      ],
      "execution_count": 0,
      "outputs": [
        {
          "output_type": "error",
          "ename": "ModuleNotFoundError",
          "evalue": "ignored",
          "traceback": [
            "\u001b[0;31m---------------------------------------------------------------------------\u001b[0m",
            "\u001b[0;31mModuleNotFoundError\u001b[0m                       Traceback (most recent call last)",
            "\u001b[0;32m<ipython-input-434-a1f3e7b1e455>\u001b[0m in \u001b[0;36m<module>\u001b[0;34m()\u001b[0m\n\u001b[1;32m     25\u001b[0m \u001b[0;34m\u001b[0m\u001b[0m\n\u001b[1;32m     26\u001b[0m \u001b[0;32mif\u001b[0m \u001b[0m__name__\u001b[0m \u001b[0;34m==\u001b[0m \u001b[0;34m'__main__'\u001b[0m\u001b[0;34m:\u001b[0m\u001b[0;34m\u001b[0m\u001b[0;34m\u001b[0m\u001b[0m\n\u001b[0;32m---> 27\u001b[0;31m     \u001b[0mrun_sample\u001b[0m\u001b[0;34m(\u001b[0m\u001b[0;34m)\u001b[0m\u001b[0;34m\u001b[0m\u001b[0;34m\u001b[0m\u001b[0m\n\u001b[0m",
            "\u001b[0;32m<ipython-input-434-a1f3e7b1e455>\u001b[0m in \u001b[0;36mrun_sample\u001b[0;34m()\u001b[0m\n\u001b[1;32m      1\u001b[0m \u001b[0;32mdef\u001b[0m \u001b[0mrun_sample\u001b[0m\u001b[0;34m(\u001b[0m\u001b[0;34m)\u001b[0m\u001b[0;34m:\u001b[0m\u001b[0;34m\u001b[0m\u001b[0;34m\u001b[0m\u001b[0m\n\u001b[0;32m----> 2\u001b[0;31m     \u001b[0;32mimport\u001b[0m \u001b[0mbase_company_sample\u001b[0m\u001b[0;34m\u001b[0m\u001b[0;34m\u001b[0m\u001b[0m\n\u001b[0m\u001b[1;32m      3\u001b[0m     \u001b[0;32mimport\u001b[0m \u001b[0mbase_job_sample\u001b[0m\u001b[0;34m\u001b[0m\u001b[0;34m\u001b[0m\u001b[0m\n\u001b[1;32m      4\u001b[0m \u001b[0;34m\u001b[0m\u001b[0m\n\u001b[1;32m      5\u001b[0m     \u001b[0mcompany_to_be_created\u001b[0m \u001b[0;34m=\u001b[0m \u001b[0mbase_company_sample\u001b[0m\u001b[0;34m.\u001b[0m\u001b[0mgenerate_company\u001b[0m\u001b[0;34m(\u001b[0m\u001b[0;34m)\u001b[0m\u001b[0;34m\u001b[0m\u001b[0;34m\u001b[0m\u001b[0m\n",
            "\u001b[0;31mModuleNotFoundError\u001b[0m: No module named 'base_company_sample'",
            "",
            "\u001b[0;31m---------------------------------------------------------------------------\u001b[0;32m\nNOTE: If your import is failing due to a missing package, you can\nmanually install dependencies using either !pip or !apt.\n\nTo view examples of installing some common dependencies, click the\n\"Open Examples\" button below.\n\u001b[0;31m---------------------------------------------------------------------------\u001b[0m\n"
          ]
        }
      ]
    },
    {
      "cell_type": "code",
      "metadata": {
        "id": "tzEoUQmloFSO",
        "colab_type": "code",
        "outputId": "8c6bf226-12ea-4b74-d73c-7ee4437e5ba2",
        "colab": {
          "base_uri": "https://localhost:8080/",
          "height": 70
        },
        "cellView": "both"
      },
      "source": [
        "#@title\n",
        "!pip install base_company_sample"
      ],
      "execution_count": 0,
      "outputs": [
        {
          "output_type": "stream",
          "text": [
            "Collecting base_company_sample\n",
            "\u001b[31m  ERROR: Could not find a version that satisfies the requirement base_company_sample (from versions: none)\u001b[0m\n",
            "\u001b[31mERROR: No matching distribution found for base_company_sample\u001b[0m\n"
          ],
          "name": "stdout"
        }
      ]
    },
    {
      "cell_type": "code",
      "metadata": {
        "id": "lQ-qZhyvoQHM",
        "colab_type": "code",
        "outputId": "ce5f2529-5802-427f-8922-c9994d75f934",
        "colab": {
          "base_uri": "https://localhost:8080/",
          "height": 141
        },
        "cellView": "both"
      },
      "source": [
        "#@title\n",
        "!git clone https://github.com/GoogleCloudPlatform/python-docs-samples.git"
      ],
      "execution_count": 0,
      "outputs": [
        {
          "output_type": "stream",
          "text": [
            "Cloning into 'python-docs-samples'...\n",
            "remote: Enumerating objects: 128, done.\u001b[K\n",
            "remote: Counting objects: 100% (128/128), done.\u001b[K\n",
            "remote: Compressing objects: 100% (92/92), done.\u001b[K\n",
            "remote: Total 22404 (delta 27), reused 97 (delta 17), pack-reused 22276\u001b[K\n",
            "Receiving objects: 100% (22404/22404), 28.69 MiB | 29.20 MiB/s, done.\n",
            "Resolving deltas: 100% (11801/11801), done.\n"
          ],
          "name": "stdout"
        }
      ]
    },
    {
      "cell_type": "code",
      "metadata": {
        "id": "A2EFj-VzorSO",
        "colab_type": "code",
        "outputId": "89a6b1db-4e99-4d24-b046-fd627ab64dfb",
        "colab": {
          "base_uri": "https://localhost:8080/",
          "height": 35
        },
        "cellView": "both"
      },
      "source": [
        "#@title\n",
        "!python https://drive.google.com/open?id=14FKXpIxQgC-WKb57clH16mIGaQQ_GdrC"
      ],
      "execution_count": 0,
      "outputs": [
        {
          "output_type": "stream",
          "text": [
            "python3: can't open file 'https://drive.google.com/open?id=14FKXpIxQgC-WKb57clH16mIGaQQ_GdrC': [Errno 2] No such file or directory\n"
          ],
          "name": "stdout"
        }
      ]
    },
    {
      "cell_type": "markdown",
      "metadata": {
        "id": "iUtJ2EP8sxGM",
        "colab_type": "text"
      },
      "source": [
        "# 6. Cloud Speech API.\n",
        "\n",
        "![alt text](https://camo.githubusercontent.com/4be2981e58bbb27bbf7bb060072d81e8284efd0b/68747470733a2f2f73746f726167652e676f6f676c65617069732e636f6d2f726561646d652d6173736574732f766f6963652d627574746f6e2e676966)"
      ]
    },
    {
      "cell_type": "code",
      "metadata": {
        "id": "EqtegfF8oy74",
        "colab_type": "code",
        "colab": {
          "base_uri": "https://localhost:8080/",
          "height": 35
        },
        "cellView": "both",
        "outputId": "d056d848-f6b6-4170-906d-3948633bcbc8"
      },
      "source": [
        "#@title\n",
        "sservice = build('speech', 'v1', developerKey=APIKEY)\n",
        "response = sservice.speech().recognize(\n",
        "    body={\n",
        "        'config': {\n",
        "            'encoding': 'LINEAR16',\n",
        "            'sampleRateHertz': 16000,\n",
        "            'languageCode':'en-US',\n",
        "        },\n",
        "        'audio': {\n",
        "            'uri': 'gs://achampiong_image/audio.raw'\n",
        "            }\n",
        "        }).execute()\n",
        "print(response)"
      ],
      "execution_count": 31,
      "outputs": [
        {
          "output_type": "stream",
          "text": [
            "{'results': [{'alternatives': [{'transcript': 'how old is the Brooklyn Bridge', 'confidence': 0.9835046}]}]}\n"
          ],
          "name": "stdout"
        }
      ]
    },
    {
      "cell_type": "code",
      "metadata": {
        "id": "CAkUTw-fABAP",
        "colab_type": "code",
        "colab": {
          "base_uri": "https://localhost:8080/",
          "height": 75
        },
        "cellView": "both",
        "outputId": "9b625350-a8b1-47cf-e36e-242837f2d135"
      },
      "source": [
        "#@title\n",
        "import IPython\n",
        "IPython.display.Audio(url='https://storage.cloud.google.com/achampiong_image/audio.mp3')\n"
      ],
      "execution_count": 46,
      "outputs": [
        {
          "output_type": "execute_result",
          "data": {
            "text/html": [
              "\n",
              "                <audio controls=\"controls\" >\n",
              "                    <source src=\"https://storage.cloud.google.com/achampiong_image/audio.mp3\" type=\"audio/mpeg\" />\n",
              "                    Your browser does not support the audio element.\n",
              "                </audio>\n",
              "              "
            ],
            "text/plain": [
              "<IPython.lib.display.Audio object>"
            ]
          },
          "metadata": {
            "tags": []
          },
          "execution_count": 46
        }
      ]
    },
    {
      "cell_type": "code",
      "metadata": {
        "id": "eRXVNveA_xVJ",
        "colab_type": "code",
        "colab": {
          "base_uri": "https://localhost:8080/",
          "height": 35
        },
        "cellView": "both",
        "outputId": "b529208f-a8b6-4a80-99c1-cf309406ff99"
      },
      "source": [
        "#@title\n",
        "sservice = build('speech', 'v1', developerKey=APIKEY)\n",
        "response = sservice.speech().recognize(\n",
        "    body={\n",
        "        'config': {\n",
        "            'encoding': 'LINEAR16',\n",
        "            'sampleRateHertz': 16000,\n",
        "            'languageCode':'en-US',\n",
        "        },\n",
        "        'audio': {\n",
        "            'uri': 'gs://achampiong_image/audio2.raw'\n",
        "            }\n",
        "        }).execute()\n",
        "print(response)"
      ],
      "execution_count": 32,
      "outputs": [
        {
          "output_type": "stream",
          "text": [
            "{'results': [{'alternatives': [{'transcript': 'the rain in Spain stays mainly on the plain', 'confidence': 0.9854951}]}]}\n"
          ],
          "name": "stdout"
        }
      ]
    },
    {
      "cell_type": "code",
      "metadata": {
        "id": "UPPy6AoZDEAN",
        "colab_type": "code",
        "colab": {
          "base_uri": "https://localhost:8080/",
          "height": 75
        },
        "cellView": "both",
        "outputId": "164f5a88-8a8a-4507-b642-114b6d38d48a"
      },
      "source": [
        "#@title\n",
        "IPython.display.Audio(url='https://storage.cloud.google.com/achampiong_image/audio2.mp3')"
      ],
      "execution_count": 45,
      "outputs": [
        {
          "output_type": "execute_result",
          "data": {
            "text/html": [
              "\n",
              "                <audio controls=\"controls\" >\n",
              "                    <source src=\"https://storage.cloud.google.com/achampiong_image/audio2.mp3\" type=\"audio/mpeg\" />\n",
              "                    Your browser does not support the audio element.\n",
              "                </audio>\n",
              "              "
            ],
            "text/plain": [
              "<IPython.lib.display.Audio object>"
            ]
          },
          "metadata": {
            "tags": []
          },
          "execution_count": 45
        }
      ]
    },
    {
      "cell_type": "code",
      "metadata": {
        "id": "wdJrOUC8tKiV",
        "colab_type": "code",
        "colab": {
          "base_uri": "https://localhost:8080/",
          "height": 55
        },
        "cellView": "both",
        "outputId": "9dec0040-8d1a-4524-d773-b45c21463ffa"
      },
      "source": [
        "#@title\n",
        "sservice = build('speech', 'v1', developerKey=APIKEY)\n",
        "response = sservice.speech().recognize(\n",
        "    body={\n",
        "        'config': {\n",
        "            'encoding': 'LINEAR16',\n",
        "            'sampleRateHertz': 8000,\n",
        "            'languageCode':'en-US',\n",
        "        },\n",
        "        'audio': {\n",
        "            'uri': 'gs://achampiong_image/commercial_mono.wav'\n",
        "            }\n",
        "        }).execute()\n",
        "print(response)"
      ],
      "execution_count": 33,
      "outputs": [
        {
          "output_type": "stream",
          "text": [
            "{'results': [{'alternatives': [{'transcript': \"I'm here.\", 'confidence': 0.7813856}]}, {'alternatives': [{'transcript': \" Hi, I'd like to buy a Chrome Cast and I was wondering whether you could help me with that.\", 'confidence': 0.783323}]}, {'alternatives': [{'transcript': ' Hulu which color would you like? We have blue black and breath', 'confidence': 0.7138356}]}, {'alternatives': [{'transcript': \" Let's get the black one.\", 'confidence': 0.7847985}]}, {'alternatives': [{'transcript': ' Okay, Chris, would you like the New Concord Ultra model or the regular Comcast?', 'confidence': 0.70876116}]}, {'alternatives': [{'transcript': ' regular Chrome Cast design', 'confidence': 0.64730936}]}, {'alternatives': [{'transcript': ' Okay. Sure. Would you like to ship it regular or Express?', 'confidence': 0.66512173}]}, {'alternatives': [{'transcript': ' Express, please.', 'confidence': 0.752962}]}, {'alternatives': [{'transcript': \" Terrific. It's on the way. Thank you very much. Thank you.\", 'confidence': 0.7188703}]}, {'alternatives': [{'transcript': ' Bye.', 'confidence': 0.73849326}]}]}\n"
          ],
          "name": "stdout"
        }
      ]
    },
    {
      "cell_type": "code",
      "metadata": {
        "id": "SiCegkO-DOBn",
        "colab_type": "code",
        "colab": {
          "base_uri": "https://localhost:8080/",
          "height": 75
        },
        "cellView": "both",
        "outputId": "4263b230-f683-4709-ca65-63d6d2dcd23e"
      },
      "source": [
        "#@title\n",
        "IPython.display.Audio(url='https://storage.cloud.google.com/achampiong_image/commercial_mono.wav')"
      ],
      "execution_count": 44,
      "outputs": [
        {
          "output_type": "execute_result",
          "data": {
            "text/html": [
              "\n",
              "                <audio controls=\"controls\" >\n",
              "                    <source src=\"https://storage.cloud.google.com/achampiong_image/commercial_mono.wav\" type=\"audio/x-wav\" />\n",
              "                    Your browser does not support the audio element.\n",
              "                </audio>\n",
              "              "
            ],
            "text/plain": [
              "<IPython.lib.display.Audio object>"
            ]
          },
          "metadata": {
            "tags": []
          },
          "execution_count": 44
        }
      ]
    },
    {
      "cell_type": "code",
      "metadata": {
        "id": "ND4TF4bsCx35",
        "colab_type": "code",
        "colab": {},
        "cellView": "both"
      },
      "source": [
        "#@title\n"
      ],
      "execution_count": 0,
      "outputs": []
    },
    {
      "cell_type": "markdown",
      "metadata": {
        "id": "9zLuR9-iER92",
        "colab_type": "text"
      },
      "source": [
        ""
      ]
    }
  ]
}